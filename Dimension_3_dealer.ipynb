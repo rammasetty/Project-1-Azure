{
 "cells": [
  {
   "cell_type": "markdown",
   "metadata": {
    "application/vnd.databricks.v1+cell": {
     "cellMetadata": {},
     "inputWidgets": {},
     "nuid": "173da7ff-612e-4a46-a864-4bb534ad342b",
     "showTitle": false,
     "tableResultSettingsMap": {},
     "title": ""
    }
   },
   "source": [
    "# Choose 0 For Initial Load and 1 for Incremental load"
   ]
  },
  {
   "cell_type": "code",
   "execution_count": 0,
   "metadata": {
    "application/vnd.databricks.v1+cell": {
     "cellMetadata": {
      "byteLimit": 2048000,
      "rowLimit": 10000
     },
     "inputWidgets": {},
     "nuid": "e12c2422-011c-4562-996e-4861d870132f",
     "showTitle": false,
     "tableResultSettingsMap": {},
     "title": ""
    }
   },
   "outputs": [],
   "source": [
    "dbutils.widgets.text(\"incremental_flag\", \"0\")"
   ]
  },
  {
   "cell_type": "markdown",
   "metadata": {
    "application/vnd.databricks.v1+cell": {
     "cellMetadata": {},
     "inputWidgets": {},
     "nuid": "219be1b6-311e-408b-a5a5-9bd2289f2439",
     "showTitle": false,
     "tableResultSettingsMap": {},
     "title": ""
    }
   },
   "source": [
    "# Dimensional Model Creation for Dealer Table"
   ]
  },
  {
   "cell_type": "code",
   "execution_count": 0,
   "metadata": {
    "application/vnd.databricks.v1+cell": {
     "cellMetadata": {
      "byteLimit": 2048000,
      "rowLimit": 10000
     },
     "inputWidgets": {},
     "nuid": "eda6efe3-277c-499c-b034-bff184b1b956",
     "showTitle": false,
     "tableResultSettingsMap": {},
     "title": ""
    }
   },
   "outputs": [],
   "source": [
    "from pyspark.sql.functions import *\n",
    "from pyspark.sql.types import *"
   ]
  },
  {
   "cell_type": "code",
   "execution_count": 0,
   "metadata": {
    "application/vnd.databricks.v1+cell": {
     "cellMetadata": {
      "byteLimit": 2048000,
      "implicitDf": true,
      "rowLimit": 10000
     },
     "inputWidgets": {},
     "nuid": "29ef513c-379b-4efa-9727-a933f2e051fa",
     "showTitle": false,
     "tableResultSettingsMap": {},
     "title": ""
    }
   },
   "outputs": [],
   "source": [
    "source_df = spark.sql('''select distinct(Dealer_ID),DealerName from parquet.`abfss://silver@project3sd.dfs.core.windows.net` ''')"
   ]
  },
  {
   "cell_type": "markdown",
   "metadata": {
    "application/vnd.databricks.v1+cell": {
     "cellMetadata": {
      "byteLimit": 2048000,
      "rowLimit": 10000
     },
     "inputWidgets": {},
     "nuid": "27ebb938-2dee-43e4-a7c8-b526fd13248c",
     "showTitle": false,
     "tableResultSettingsMap": {},
     "title": ""
    }
   },
   "source": [
    "importing schema for initial laod and dimension table for incremental load"
   ]
  },
  {
   "cell_type": "code",
   "execution_count": 0,
   "metadata": {
    "application/vnd.databricks.v1+cell": {
     "cellMetadata": {
      "byteLimit": 2048000,
      "rowLimit": 10000
     },
     "inputWidgets": {},
     "nuid": "882e17a1-22ed-4ccf-b643-8cef9c042532",
     "showTitle": false,
     "tableResultSettingsMap": {},
     "title": ""
    }
   },
   "outputs": [],
   "source": [
    "if spark.catalog.tableExists(\"sales.salesschema.dim_dealer\"):\n",
    "    df_sink = spark.sql('''select * from sales.salesschema.dim_dealer''')\n",
    "else:\n",
    "    df_sink = spark.sql('''select 1 as dim_dealer_key,Dealer_ID,DealerName from parquet.`abfss://silver@project3sd.dfs.core.windows.net` where 1=0''')"
   ]
  },
  {
   "cell_type": "code",
   "execution_count": 0,
   "metadata": {
    "application/vnd.databricks.v1+cell": {
     "cellMetadata": {
      "byteLimit": 2048000,
      "rowLimit": 10000
     },
     "inputWidgets": {},
     "nuid": "f6644aae-08fb-43c9-88b6-5131d8b24be6",
     "showTitle": false,
     "tableResultSettingsMap": {},
     "title": ""
    }
   },
   "outputs": [
    {
     "output_type": "display_data",
     "data": {
      "text/html": [
       "<style scoped>\n",
       "  .table-result-container {\n",
       "    max-height: 300px;\n",
       "    overflow: auto;\n",
       "  }\n",
       "  table, th, td {\n",
       "    border: 1px solid black;\n",
       "    border-collapse: collapse;\n",
       "  }\n",
       "  th, td {\n",
       "    padding: 5px;\n",
       "  }\n",
       "  th {\n",
       "    text-align: left;\n",
       "  }\n",
       "</style><div class='table-result-container'><table class='table-result'><thead style='background-color: white'><tr><th>Dealer_Id</th><th>DealerName</th><th>dim_dealer_key</th></tr></thead><tbody><tr><td>DLR0095</td><td>Isuzu Motors</td><td>1</td></tr><tr><td>DLR0124</td><td>McLaren Motors</td><td>2</td></tr><tr><td>DLR0245</td><td>Jennings Ford Automobile Dealership</td><td>3</td></tr><tr><td>DLR0171</td><td>Samsung Motors</td><td>4</td></tr><tr><td>DLR0052</td><td>e.GO Mobile Motors</td><td>5</td></tr><tr><td>DLR0175</td><td>Saturn Motors</td><td>6</td></tr><tr><td>DLR0080</td><td>Hindustan Motors</td><td>7</td></tr><tr><td>DLR0263</td><td>Auto-Union Motors</td><td>8</td></tr><tr><td>DLR0066</td><td>Freightliner Motors</td><td>9</td></tr><tr><td>DLR0258</td><td>null</td><td>10</td></tr><tr><td>DLR0007</td><td>AMC, Eagle Motors</td><td>11</td></tr><tr><td>DLR0141</td><td>Noble Motors</td><td>12</td></tr><tr><td>DLR0251</td><td>Alfa Romeo Motors</td><td>13</td></tr><tr><td>DLR0038</td><td>Cizeta-Moroder Motors</td><td>14</td></tr><tr><td>DLR0155</td><td>Piaggio Motors</td><td>15</td></tr><tr><td>DLR0013</td><td>Aston Martin Motors</td><td>16</td></tr><tr><td>DLR0049</td><td>Dodge Motors</td><td>17</td></tr><tr><td>DLR0055</td><td>Facel Vega Motors</td><td>18</td></tr><tr><td>DLR0129</td><td>Mia Motors</td><td>19</td></tr><tr><td>DLR0183</td><td>Smart Motors</td><td>20</td></tr><tr><td>DLR0177</td><td>Seat Motors</td><td>21</td></tr><tr><td>DLR0229</td><td>Herald Motors</td><td>22</td></tr><tr><td>DLR0149</td><td>Panoz Motors</td><td>23</td></tr><tr><td>DLR0170</td><td>Saleen Motors</td><td>24</td></tr><tr><td>DLR0213</td><td>DKW Motors</td><td>25</td></tr><tr><td>DLR0077</td><td>Heinkel Motors</td><td>26</td></tr><tr><td>DLR0238</td><td>Cass Motor Sales</td><td>27</td></tr><tr><td>DLR0253</td><td>Alvis Motors</td><td>28</td></tr><tr><td>DLR0115</td><td>Mahindra Motors</td><td>29</td></tr><tr><td>DLR0219</td><td>MG  Motors</td><td>30</td></tr><tr><td>DLR0166</td><td>Rivian Motors</td><td>31</td></tr><tr><td>DLR0262</td><td>Autobianchi Motors</td><td>32</td></tr><tr><td>DLR0099</td><td>Jensen Motors</td><td>33</td></tr><tr><td>DLR0159</td><td>Porsche Motors</td><td>34</td></tr><tr><td>DLR0118</td><td>Maruti Motors</td><td>35</td></tr><tr><td>DLR0259</td><td>Asia Motors Motors</td><td>36</td></tr><tr><td>DLR0241</td><td>Colman Automotive Building</td><td>37</td></tr><tr><td>DLR0207</td><td>Westfield Motors</td><td>38</td></tr><tr><td>DLR0163</td><td>Ranger Motors</td><td>39</td></tr><tr><td>DLR0157</td><td>Polestar Motors</td><td>40</td></tr><tr><td>DLR0133</td><td>Monica Motors</td><td>41</td></tr><tr><td>DLR0167</td><td>Rolls-Royce Motors</td><td>42</td></tr><tr><td>DLR0086</td><td>Hummer Motors</td><td>43</td></tr><tr><td>DLR0174</td><td>Santana Motors</td><td>44</td></tr><tr><td>DLR0147</td><td>Pagani Motors</td><td>45</td></tr><tr><td>DLR0193</td><td>Tazzari Motors</td><td>46</td></tr><tr><td>DLR0134</td><td>Monteverdi Motors</td><td>47</td></tr><tr><td>DLR0148</td><td>Panhard Motors</td><td>48</td></tr><tr><td>DLR0084</td><td>Hudson Motors</td><td>49</td></tr><tr><td>DLR0235</td><td>Buick Automobile Company Building</td><td>50</td></tr><tr><td>DLR0037</td><td>Citroën Motors</td><td>51</td></tr><tr><td>DLR0051</td><td>Edsel Motors</td><td>52</td></tr><tr><td>DLR0237</td><td>Casa de cadillac</td><td>53</td></tr><tr><td>DLR0021</td><td>Bond Motors</td><td>54</td></tr><tr><td>DLR0064</td><td>Ford Europe Motors</td><td>55</td></tr><tr><td>DLR0109</td><td>Ligier Motors</td><td>56</td></tr><tr><td>DLR0101</td><td>Kia Motors</td><td>57</td></tr><tr><td>DLR0045</td><td>Delahaye Motors</td><td>58</td></tr><tr><td>DLR0265</td><td>Bentley Motors</td><td>59</td></tr><tr><td>DLR0035</td><td>Chrysler Motors</td><td>60</td></tr><tr><td>DLR0153</td><td>Peugeot Motors</td><td>61</td></tr><tr><td>DLR0019</td><td>Bitter Motors</td><td>62</td></tr><tr><td>DLR0088</td><td>IFA (including Trabant, Wartburg, Barkas) Motors</td><td>63</td></tr><tr><td>DLR0083</td><td>Honda India Motors</td><td>64</td></tr><tr><td>DLR0120</td><td>Mastretta Motors</td><td>65</td></tr><tr><td>DLR0191</td><td>Tata Motors</td><td>66</td></tr><tr><td>DLR0216</td><td>Maybach  Motors</td><td>67</td></tr><tr><td>DLR0200</td><td>UAZ Motors</td><td>68</td></tr><tr><td>DLR0186</td><td>Standard-Triumph Motors</td><td>69</td></tr><tr><td>DLR0173</td><td>Santa Matilde Motors</td><td>70</td></tr><tr><td>DLR0121</td><td>Matra (including Deutsch-Bonnet, René Bonnet) Motors</td><td>71</td></tr><tr><td>DLR0103</td><td>KTM Motors</td><td>72</td></tr><tr><td>DLR0131</td><td>Mini Motors</td><td>73</td></tr><tr><td>DLR0122</td><td>Mazda Motors</td><td>74</td></tr><tr><td>DLR0011</td><td>Artega Motors</td><td>75</td></tr><tr><td>DLR0143</td><td>Oldsmobile Motors</td><td>76</td></tr><tr><td>DLR0261</td><td>Audi Motors</td><td>77</td></tr><tr><td>DLR0156</td><td>Plymouth Motors</td><td>78</td></tr><tr><td>DLR0178</td><td>Shelby SuperCars Motors</td><td>79</td></tr><tr><td>DLR0026</td><td>Austin, Rover Motors</td><td>80</td></tr><tr><td>DLR0030</td><td>Cadillac Motors</td><td>81</td></tr><tr><td>DLR0106</td><td>Lancia Motors</td><td>82</td></tr><tr><td>DLR0247</td><td>Kindel Building</td><td>83</td></tr><tr><td>DLR0107</td><td>Land Rover Motors</td><td>84</td></tr><tr><td>DLR0067</td><td>FSO Motors</td><td>85</td></tr><tr><td>DLR0061</td><td>Ford America Motors</td><td>86</td></tr><tr><td>DLR0230</td><td>Zion Automobils</td><td>87</td></tr><tr><td>DLR0032</td><td>Checker Motors</td><td>88</td></tr><tr><td>DLR0201</td><td>Vauxhall Motors</td><td>89</td></tr><tr><td>DLR0014</td><td>Audi Motors</td><td>90</td></tr><tr><td>DLR0256</td><td>Ariel Motors</td><td>91</td></tr><tr><td>DLR0161</td><td>Proton Motors</td><td>92</td></tr><tr><td>DLR0078</td><td>Hennessey Motors</td><td>93</td></tr><tr><td>DLR0063</td><td>Ford do Brasil Motors</td><td>94</td></tr><tr><td>DLR0214</td><td>Horch Motors</td><td>95</td></tr><tr><td>DLR0202</td><td>Venturi Motors</td><td>96</td></tr><tr><td>DLR0195</td><td>Tornado Motors</td><td>97</td></tr><tr><td>DLR0240</td><td>Clemens Automobile Company Building</td><td>98</td></tr><tr><td>DLR0090</td><td>null</td><td>99</td></tr><tr><td>DLR0017</td><td>Auverland Motors</td><td>100</td></tr><tr><td>DLR0211</td><td>ZIL Motors</td><td>101</td></tr><tr><td>DLR0154</td><td>PGO Motors</td><td>102</td></tr><tr><td>DLR0243</td><td>Howard Motor Company Building</td><td>103</td></tr><tr><td>DLR0181</td><td>Singer Motors</td><td>104</td></tr><tr><td>DLR0044</td><td>null</td><td>105</td></tr><tr><td>DLR0254</td><td>AMC, Eagle Motors</td><td>106</td></tr><tr><td>DLR0031</td><td>Caterham Motors</td><td>107</td></tr><tr><td>DLR0142</td><td>NSU Motors</td><td>108</td></tr><tr><td>DLR0136</td><td>Moskwitch Motors</td><td>109</td></tr><tr><td>DLR0012</td><td>Asia Motors Motors</td><td>110</td></tr><tr><td>DLR0053</td><td>Eicher Polaris Motors</td><td>111</td></tr><tr><td>DLR0179</td><td>Simca Motors</td><td>112</td></tr><tr><td>DLR0025</td><td>Austin-Healey Motors</td><td>113</td></tr><tr><td>DLR0197</td><td>Toyota India Motors</td><td>114</td></tr><tr><td>DLR0198</td><td>Turner Motors</td><td>115</td></tr><tr><td>DLR0039</td><td>Dacia Motors</td><td>116</td></tr><tr><td>DLR0029</td><td>Bytom Motors</td><td>117</td></tr><tr><td>DLR0001</td><td>AC Cars Motors</td><td>118</td></tr><tr><td>DLR0043</td><td>Daimler Motors</td><td>119</td></tr><tr><td>DLR0125</td><td>Mercedes-Benz (including Maybach) Motors</td><td>120</td></tr><tr><td>DLR0060</td><td>Fisker, Karma Motors</td><td>121</td></tr><tr><td>DLR0004</td><td>Alfa Romeo Motors</td><td>122</td></tr><tr><td>DLR0249</td><td>Acura Motors</td><td>123</td></tr><tr><td>DLR0130</td><td>Micro Motors</td><td>124</td></tr><tr><td>DLR0028</td><td>Buick Motors</td><td>125</td></tr><tr><td>DLR0231</td><td>Atlantic Motor Company</td><td>126</td></tr><tr><td>DLR0139</td><td>Nissan Motors</td><td>127</td></tr><tr><td>DLR0003</td><td>Aixam-Mega (including Arola) Motors</td><td>128</td></tr><tr><td>DLR0069</td><td>Geo Motors</td><td>129</td></tr><tr><td>DLR0102</td><td>Koenigsegg Motors</td><td>130</td></tr><tr><td>DLR0208</td><td>Wiesmann Motors</td><td>131</td></tr><tr><td>DLR0232</td><td>2008 NRHP-listed</td><td>132</td></tr><tr><td>DLR0205</td><td>Volkswagen South Africa Motors</td><td>133</td></tr><tr><td>DLR0137</td><td>Nash Motors</td><td>134</td></tr><tr><td>DLR0042</td><td>Daihatsu Motors</td><td>135</td></tr><tr><td>DLR0105</td><td>Lamborghini Motors</td><td>136</td></tr><tr><td>DLR0126</td><td>Mercury Motors</td><td>137</td></tr><tr><td>DLR0016</td><td>Auto-Union Motors</td><td>138</td></tr><tr><td>DLR0248</td><td>AC Cars Motors</td><td>139</td></tr><tr><td>DLR0065</td><td>Ford India Motors</td><td>140</td></tr><tr><td>DLR0151</td><td>Peel Motors</td><td>141</td></tr><tr><td>DLR0068</td><td>GAZ Motors</td><td>142</td></tr><tr><td>DLR0192</td><td>Tatra Motors</td><td>143</td></tr><tr><td>DLR0244</td><td>Hupmobile Building</td><td>144</td></tr><tr><td>DLR0072</td><td>Glas Motors</td><td>145</td></tr><tr><td>DLR0009</td><td>Ariel Motors</td><td>146</td></tr><tr><td>DLR0093</td><td>Iso Motors</td><td>147</td></tr><tr><td>DLR0098</td><td>Jeep Motors</td><td>148</td></tr><tr><td>DLR0233</td><td>Blankinship Motor Company Building</td><td>149</td></tr><tr><td>DLR0097</td><td>Jaguar Motors</td><td>150</td></tr><tr><td>DLR0160</td><td>Premier Motors</td><td>151</td></tr><tr><td>DLR0024</td><td>British Leyland Motors</td><td>152</td></tr><tr><td>DLR0085</td><td>Humber Motors</td><td>153</td></tr><tr><td>DLR0036</td><td>Chrysler Europe Motors</td><td>154</td></tr><tr><td>DLR0008</td><td>Anadol Motors</td><td>155</td></tr><tr><td>DLR0204</td><td>Volkswagen do Brasil Motors</td><td>156</td></tr><tr><td>DLR0116</td><td>Marcos Motors</td><td>157</td></tr><tr><td>DLR0146</td><td>Packard Motors</td><td>158</td></tr><tr><td>DLR0182</td><td>Skoda Motors</td><td>159</td></tr><tr><td>DLR0150</td><td>Panther Motors</td><td>160</td></tr><tr><td>DLR0225</td><td>Talbot  Motors</td><td>161</td></tr><tr><td>DLR0033</td><td>Chevrolet Motors</td><td>162</td></tr><tr><td>DLR0190</td><td>Suzuki Motors</td><td>163</td></tr><tr><td>DLR0117</td><td>Marlin Motors</td><td>164</td></tr><tr><td>DLR0164</td><td>Reliant Motors</td><td>165</td></tr><tr><td>DLR0089</td><td>Infiniti Motors</td><td>166</td></tr><tr><td>DLR0266</td><td>Bitter Motors</td><td>167</td></tr><tr><td>DLR0040</td><td>Daewoo, Saehan, Chevrolet Korea Motors</td><td>168</td></tr><tr><td>DLR0260</td><td>Aston Martin Motors</td><td>169</td></tr><tr><td>DLR0020</td><td>BMW Motors</td><td>170</td></tr><tr><td>DLR0128</td><td>Messerschmitt Motors</td><td>171</td></tr><tr><td>DLR0187</td><td>Studebaker Motors</td><td>172</td></tr><tr><td>DLR0056</td><td>Ferrari Motors</td><td>173</td></tr><tr><td>DLR0059</td><td>Fiat India Motors</td><td>174</td></tr><tr><td>DLR0022</td><td>Borgward (including Goliath and Lloyd) Motors</td><td>175</td></tr><tr><td>DLR0217</td><td>Izh  Motors</td><td>176</td></tr><tr><td>DLR0062</td><td>Ford Australia Motors</td><td>177</td></tr><tr><td>DLR0081</td><td>Holden Motors</td><td>178</td></tr><tr><td>DLR0228</td><td>Deccan Motors</td><td>179</td></tr><tr><td>DLR0104</td><td>Lada Motors</td><td>180</td></tr><tr><td>DLR0119</td><td>Maserati Motors</td><td>181</td></tr><tr><td>DLR0189</td><td>Sunbeam Motors</td><td>182</td></tr><tr><td>DLR0048</td><td>De Tomaso Motors</td><td>183</td></tr><tr><td>DLR0185</td><td>SsangYong Motors</td><td>184</td></tr><tr><td>DLR0094</td><td>Isotta Fraschini Motors</td><td>185</td></tr><tr><td>DLR0227</td><td>Ramani Motors</td><td>186</td></tr><tr><td>DLR0162</td><td>Puma Motors</td><td>187</td></tr><tr><td>DLR0145</td><td>Opel Motors</td><td>188</td></tr><tr><td>DLR0005</td><td>Alpine Motors</td><td>189</td></tr><tr><td>DLR0199</td><td>TVR Motors</td><td>190</td></tr><tr><td>DLR0236</td><td>Cadillac Automobile Company Building</td><td>191</td></tr><tr><td>DLR0169</td><td>SAIC Motor Motors</td><td>192</td></tr><tr><td>DLR0239</td><td>Claremore Auto Dealership</td><td>193</td></tr><tr><td>DLR0057</td><td>Fiat Motors</td><td>194</td></tr><tr><td>DLR0140</td><td>Nissan India Motors</td><td>195</td></tr><tr><td>DLR0152</td><td>Perodua Motors</td><td>196</td></tr><tr><td>DLR0112</td><td>LTI Motors</td><td>197</td></tr><tr><td>DLR0075</td><td>Gumpert Motors</td><td>198</td></tr><tr><td>DLR0210</td><td>ZAZ Motors</td><td>199</td></tr><tr><td>DLR0212</td><td>null</td><td>200</td></tr><tr><td>DLR0138</td><td>Naza Motors</td><td>201</td></tr><tr><td>DLR0076</td><td>Healey Motors</td><td>202</td></tr><tr><td>DLR0165</td><td>Renault Motors</td><td>203</td></tr><tr><td>DLR0091</td><td>Invicta Motors</td><td>204</td></tr><tr><td>DLR0226</td><td>Das Motors</td><td>205</td></tr><tr><td>DLR0221</td><td>Austin  Motors</td><td>206</td></tr><tr><td>DLR0079</td><td>Hillman Motors</td><td>207</td></tr><tr><td>DLR0188</td><td>Subaru Motors</td><td>208</td></tr><tr><td>DLR0222</td><td>Riley  Motors</td><td>209</td></tr><tr><td>DLR0054</td><td>Elva Motors</td><td>210</td></tr><tr><td>DLR0023</td><td>Bristol Motors</td><td>211</td></tr><tr><td>DLR0034</td><td>Chevrolet India Motors</td><td>212</td></tr><tr><td>DLR0250</td><td>Aixam-Mega (including Arola) Motors</td><td>213</td></tr><tr><td>DLR0108</td><td>Lexus Motors</td><td>214</td></tr><tr><td>DLR0264</td><td>Auverland Motors</td><td>215</td></tr><tr><td>DLR0172</td><td>San Motors</td><td>216</td></tr><tr><td>DLR0234</td><td>Bohn Motor Company Automobile Dealership</td><td>217</td></tr><tr><td>DLR0096</td><td>Iveco Motors</td><td>218</td></tr><tr><td>DLR0158</td><td>Pontiac, Asüna Motors</td><td>219</td></tr><tr><td>DLR0092</td><td>Isdera Motors</td><td>220</td></tr><tr><td>DLR0015</td><td>Autobianchi Motors</td><td>221</td></tr><tr><td>DLR0176</td><td>Scion Motors</td><td>222</td></tr><tr><td>DLR0168</td><td>Saab Motors</td><td>223</td></tr><tr><td>DLR0218</td><td>Lagonda  Motors</td><td>224</td></tr><tr><td>DLR0255</td><td>Anadol Motors</td><td>225</td></tr><tr><td>DLR0144</td><td>null</td><td>226</td></tr><tr><td>DLR0114</td><td>Lynx Motors</td><td>227</td></tr><tr><td>DLR0184</td><td>Spyker Motors</td><td>228</td></tr><tr><td>DLR0018</td><td>Bentley Motors</td><td>229</td></tr><tr><td>DLR0257</td><td>ARO Motors</td><td>230</td></tr><tr><td>DLR0110</td><td>Lincoln Motors</td><td>231</td></tr><tr><td>DLR0046</td><td>DeLorean Motors</td><td>232</td></tr><tr><td>DLR0135</td><td>Morgan Motors</td><td>233</td></tr><tr><td>DLR0127</td><td>Merkur Motors</td><td>234</td></tr><tr><td>DLR0215</td><td>Wanderer Motors</td><td>235</td></tr><tr><td>DLR0196</td><td>Toyota Motors</td><td>236</td></tr><tr><td>DLR0246</td><td>Jones Motor Company</td><td>237</td></tr><tr><td>DLR0220</td><td>Morris  Motors</td><td>238</td></tr><tr><td>DLR0071</td><td>Ginetta Motors</td><td>239</td></tr><tr><td>DLR0047</td><td>DeSoto Motors</td><td>240</td></tr><tr><td>DLR0123</td><td>Mazzanti Motors</td><td>241</td></tr><tr><td>DLR0050</td><td>Donkervoort Motors</td><td>242</td></tr><tr><td>DLR0113</td><td>LuAZ Motors</td><td>243</td></tr><tr><td>DLR0074</td><td>GTA Spano Motors</td><td>244</td></tr><tr><td>DLR0209</td><td>Zastava Motors</td><td>245</td></tr><tr><td>DLR0087</td><td>Hyundai Motors</td><td>246</td></tr><tr><td>DLR0252</td><td>Alpine Motors</td><td>247</td></tr><tr><td>DLR0206</td><td>Volvo Motors</td><td>248</td></tr><tr><td>DLR0111</td><td>Lotus Motors</td><td>249</td></tr><tr><td>DLR0203</td><td>Volkswagen Motors</td><td>250</td></tr><tr><td>DLR0194</td><td>Tesla Motors</td><td>251</td></tr><tr><td>DLR0006</td><td>Alvis Motors</td><td>252</td></tr><tr><td>DLR0100</td><td>JPX Motors</td><td>253</td></tr><tr><td>DLR0073</td><td>GMC Motors</td><td>254</td></tr><tr><td>DLR0224</td><td>Standard  Motors</td><td>255</td></tr><tr><td>DLR0132</td><td>Mitsubishi Motors</td><td>256</td></tr><tr><td>DLR0010</td><td>ARO Motors</td><td>257</td></tr><tr><td>DLR0082</td><td>Honda Motors</td><td>258</td></tr><tr><td>DLR0242</td><td>H Street Playhouse</td><td>259</td></tr><tr><td>DLR0041</td><td>DAF Motors</td><td>260</td></tr><tr><td>DLR0070</td><td>Gilbern Motors</td><td>261</td></tr><tr><td>DLR0058</td><td>Fiat do Brasil Motors</td><td>262</td></tr><tr><td>DLR0180</td><td>Simca do Brasil Motors</td><td>263</td></tr><tr><td>DLR0267</td><td>BMW Motors</td><td>264</td></tr><tr><td>DLR0027</td><td>Bugatti Motors</td><td>265</td></tr><tr><td>DLR0223</td><td>Wolseley  Motors</td><td>266</td></tr><tr><td>DLR0002</td><td>Acura Motors</td><td>267</td></tr></tbody></table></div>"
      ]
     },
     "metadata": {
      "application/vnd.databricks.v1+output": {
       "addedWidgets": {},
       "aggData": [],
       "aggError": "",
       "aggOverflow": false,
       "aggSchema": [],
       "aggSeriesLimitReached": false,
       "aggType": "",
       "arguments": {},
       "columnCustomDisplayInfos": {},
       "data": [
        [
         "DLR0095",
         "Isuzu Motors",
         1
        ],
        [
         "DLR0124",
         "McLaren Motors",
         2
        ],
        [
         "DLR0245",
         "Jennings Ford Automobile Dealership",
         3
        ],
        [
         "DLR0171",
         "Samsung Motors",
         4
        ],
        [
         "DLR0052",
         "e.GO Mobile Motors",
         5
        ],
        [
         "DLR0175",
         "Saturn Motors",
         6
        ],
        [
         "DLR0080",
         "Hindustan Motors",
         7
        ],
        [
         "DLR0263",
         "Auto-Union Motors",
         8
        ],
        [
         "DLR0066",
         "Freightliner Motors",
         9
        ],
        [
         "DLR0258",
         null,
         10
        ],
        [
         "DLR0007",
         "AMC, Eagle Motors",
         11
        ],
        [
         "DLR0141",
         "Noble Motors",
         12
        ],
        [
         "DLR0251",
         "Alfa Romeo Motors",
         13
        ],
        [
         "DLR0038",
         "Cizeta-Moroder Motors",
         14
        ],
        [
         "DLR0155",
         "Piaggio Motors",
         15
        ],
        [
         "DLR0013",
         "Aston Martin Motors",
         16
        ],
        [
         "DLR0049",
         "Dodge Motors",
         17
        ],
        [
         "DLR0055",
         "Facel Vega Motors",
         18
        ],
        [
         "DLR0129",
         "Mia Motors",
         19
        ],
        [
         "DLR0183",
         "Smart Motors",
         20
        ],
        [
         "DLR0177",
         "Seat Motors",
         21
        ],
        [
         "DLR0229",
         "Herald Motors",
         22
        ],
        [
         "DLR0149",
         "Panoz Motors",
         23
        ],
        [
         "DLR0170",
         "Saleen Motors",
         24
        ],
        [
         "DLR0213",
         "DKW Motors",
         25
        ],
        [
         "DLR0077",
         "Heinkel Motors",
         26
        ],
        [
         "DLR0238",
         "Cass Motor Sales",
         27
        ],
        [
         "DLR0253",
         "Alvis Motors",
         28
        ],
        [
         "DLR0115",
         "Mahindra Motors",
         29
        ],
        [
         "DLR0219",
         "MG  Motors",
         30
        ],
        [
         "DLR0166",
         "Rivian Motors",
         31
        ],
        [
         "DLR0262",
         "Autobianchi Motors",
         32
        ],
        [
         "DLR0099",
         "Jensen Motors",
         33
        ],
        [
         "DLR0159",
         "Porsche Motors",
         34
        ],
        [
         "DLR0118",
         "Maruti Motors",
         35
        ],
        [
         "DLR0259",
         "Asia Motors Motors",
         36
        ],
        [
         "DLR0241",
         "Colman Automotive Building",
         37
        ],
        [
         "DLR0207",
         "Westfield Motors",
         38
        ],
        [
         "DLR0163",
         "Ranger Motors",
         39
        ],
        [
         "DLR0157",
         "Polestar Motors",
         40
        ],
        [
         "DLR0133",
         "Monica Motors",
         41
        ],
        [
         "DLR0167",
         "Rolls-Royce Motors",
         42
        ],
        [
         "DLR0086",
         "Hummer Motors",
         43
        ],
        [
         "DLR0174",
         "Santana Motors",
         44
        ],
        [
         "DLR0147",
         "Pagani Motors",
         45
        ],
        [
         "DLR0193",
         "Tazzari Motors",
         46
        ],
        [
         "DLR0134",
         "Monteverdi Motors",
         47
        ],
        [
         "DLR0148",
         "Panhard Motors",
         48
        ],
        [
         "DLR0084",
         "Hudson Motors",
         49
        ],
        [
         "DLR0235",
         "Buick Automobile Company Building",
         50
        ],
        [
         "DLR0037",
         "Citroën Motors",
         51
        ],
        [
         "DLR0051",
         "Edsel Motors",
         52
        ],
        [
         "DLR0237",
         "Casa de cadillac",
         53
        ],
        [
         "DLR0021",
         "Bond Motors",
         54
        ],
        [
         "DLR0064",
         "Ford Europe Motors",
         55
        ],
        [
         "DLR0109",
         "Ligier Motors",
         56
        ],
        [
         "DLR0101",
         "Kia Motors",
         57
        ],
        [
         "DLR0045",
         "Delahaye Motors",
         58
        ],
        [
         "DLR0265",
         "Bentley Motors",
         59
        ],
        [
         "DLR0035",
         "Chrysler Motors",
         60
        ],
        [
         "DLR0153",
         "Peugeot Motors",
         61
        ],
        [
         "DLR0019",
         "Bitter Motors",
         62
        ],
        [
         "DLR0088",
         "IFA (including Trabant, Wartburg, Barkas) Motors",
         63
        ],
        [
         "DLR0083",
         "Honda India Motors",
         64
        ],
        [
         "DLR0120",
         "Mastretta Motors",
         65
        ],
        [
         "DLR0191",
         "Tata Motors",
         66
        ],
        [
         "DLR0216",
         "Maybach  Motors",
         67
        ],
        [
         "DLR0200",
         "UAZ Motors",
         68
        ],
        [
         "DLR0186",
         "Standard-Triumph Motors",
         69
        ],
        [
         "DLR0173",
         "Santa Matilde Motors",
         70
        ],
        [
         "DLR0121",
         "Matra (including Deutsch-Bonnet, René Bonnet) Motors",
         71
        ],
        [
         "DLR0103",
         "KTM Motors",
         72
        ],
        [
         "DLR0131",
         "Mini Motors",
         73
        ],
        [
         "DLR0122",
         "Mazda Motors",
         74
        ],
        [
         "DLR0011",
         "Artega Motors",
         75
        ],
        [
         "DLR0143",
         "Oldsmobile Motors",
         76
        ],
        [
         "DLR0261",
         "Audi Motors",
         77
        ],
        [
         "DLR0156",
         "Plymouth Motors",
         78
        ],
        [
         "DLR0178",
         "Shelby SuperCars Motors",
         79
        ],
        [
         "DLR0026",
         "Austin, Rover Motors",
         80
        ],
        [
         "DLR0030",
         "Cadillac Motors",
         81
        ],
        [
         "DLR0106",
         "Lancia Motors",
         82
        ],
        [
         "DLR0247",
         "Kindel Building",
         83
        ],
        [
         "DLR0107",
         "Land Rover Motors",
         84
        ],
        [
         "DLR0067",
         "FSO Motors",
         85
        ],
        [
         "DLR0061",
         "Ford America Motors",
         86
        ],
        [
         "DLR0230",
         "Zion Automobils",
         87
        ],
        [
         "DLR0032",
         "Checker Motors",
         88
        ],
        [
         "DLR0201",
         "Vauxhall Motors",
         89
        ],
        [
         "DLR0014",
         "Audi Motors",
         90
        ],
        [
         "DLR0256",
         "Ariel Motors",
         91
        ],
        [
         "DLR0161",
         "Proton Motors",
         92
        ],
        [
         "DLR0078",
         "Hennessey Motors",
         93
        ],
        [
         "DLR0063",
         "Ford do Brasil Motors",
         94
        ],
        [
         "DLR0214",
         "Horch Motors",
         95
        ],
        [
         "DLR0202",
         "Venturi Motors",
         96
        ],
        [
         "DLR0195",
         "Tornado Motors",
         97
        ],
        [
         "DLR0240",
         "Clemens Automobile Company Building",
         98
        ],
        [
         "DLR0090",
         null,
         99
        ],
        [
         "DLR0017",
         "Auverland Motors",
         100
        ],
        [
         "DLR0211",
         "ZIL Motors",
         101
        ],
        [
         "DLR0154",
         "PGO Motors",
         102
        ],
        [
         "DLR0243",
         "Howard Motor Company Building",
         103
        ],
        [
         "DLR0181",
         "Singer Motors",
         104
        ],
        [
         "DLR0044",
         null,
         105
        ],
        [
         "DLR0254",
         "AMC, Eagle Motors",
         106
        ],
        [
         "DLR0031",
         "Caterham Motors",
         107
        ],
        [
         "DLR0142",
         "NSU Motors",
         108
        ],
        [
         "DLR0136",
         "Moskwitch Motors",
         109
        ],
        [
         "DLR0012",
         "Asia Motors Motors",
         110
        ],
        [
         "DLR0053",
         "Eicher Polaris Motors",
         111
        ],
        [
         "DLR0179",
         "Simca Motors",
         112
        ],
        [
         "DLR0025",
         "Austin-Healey Motors",
         113
        ],
        [
         "DLR0197",
         "Toyota India Motors",
         114
        ],
        [
         "DLR0198",
         "Turner Motors",
         115
        ],
        [
         "DLR0039",
         "Dacia Motors",
         116
        ],
        [
         "DLR0029",
         "Bytom Motors",
         117
        ],
        [
         "DLR0001",
         "AC Cars Motors",
         118
        ],
        [
         "DLR0043",
         "Daimler Motors",
         119
        ],
        [
         "DLR0125",
         "Mercedes-Benz (including Maybach) Motors",
         120
        ],
        [
         "DLR0060",
         "Fisker, Karma Motors",
         121
        ],
        [
         "DLR0004",
         "Alfa Romeo Motors",
         122
        ],
        [
         "DLR0249",
         "Acura Motors",
         123
        ],
        [
         "DLR0130",
         "Micro Motors",
         124
        ],
        [
         "DLR0028",
         "Buick Motors",
         125
        ],
        [
         "DLR0231",
         "Atlantic Motor Company",
         126
        ],
        [
         "DLR0139",
         "Nissan Motors",
         127
        ],
        [
         "DLR0003",
         "Aixam-Mega (including Arola) Motors",
         128
        ],
        [
         "DLR0069",
         "Geo Motors",
         129
        ],
        [
         "DLR0102",
         "Koenigsegg Motors",
         130
        ],
        [
         "DLR0208",
         "Wiesmann Motors",
         131
        ],
        [
         "DLR0232",
         "2008 NRHP-listed",
         132
        ],
        [
         "DLR0205",
         "Volkswagen South Africa Motors",
         133
        ],
        [
         "DLR0137",
         "Nash Motors",
         134
        ],
        [
         "DLR0042",
         "Daihatsu Motors",
         135
        ],
        [
         "DLR0105",
         "Lamborghini Motors",
         136
        ],
        [
         "DLR0126",
         "Mercury Motors",
         137
        ],
        [
         "DLR0016",
         "Auto-Union Motors",
         138
        ],
        [
         "DLR0248",
         "AC Cars Motors",
         139
        ],
        [
         "DLR0065",
         "Ford India Motors",
         140
        ],
        [
         "DLR0151",
         "Peel Motors",
         141
        ],
        [
         "DLR0068",
         "GAZ Motors",
         142
        ],
        [
         "DLR0192",
         "Tatra Motors",
         143
        ],
        [
         "DLR0244",
         "Hupmobile Building",
         144
        ],
        [
         "DLR0072",
         "Glas Motors",
         145
        ],
        [
         "DLR0009",
         "Ariel Motors",
         146
        ],
        [
         "DLR0093",
         "Iso Motors",
         147
        ],
        [
         "DLR0098",
         "Jeep Motors",
         148
        ],
        [
         "DLR0233",
         "Blankinship Motor Company Building",
         149
        ],
        [
         "DLR0097",
         "Jaguar Motors",
         150
        ],
        [
         "DLR0160",
         "Premier Motors",
         151
        ],
        [
         "DLR0024",
         "British Leyland Motors",
         152
        ],
        [
         "DLR0085",
         "Humber Motors",
         153
        ],
        [
         "DLR0036",
         "Chrysler Europe Motors",
         154
        ],
        [
         "DLR0008",
         "Anadol Motors",
         155
        ],
        [
         "DLR0204",
         "Volkswagen do Brasil Motors",
         156
        ],
        [
         "DLR0116",
         "Marcos Motors",
         157
        ],
        [
         "DLR0146",
         "Packard Motors",
         158
        ],
        [
         "DLR0182",
         "Skoda Motors",
         159
        ],
        [
         "DLR0150",
         "Panther Motors",
         160
        ],
        [
         "DLR0225",
         "Talbot  Motors",
         161
        ],
        [
         "DLR0033",
         "Chevrolet Motors",
         162
        ],
        [
         "DLR0190",
         "Suzuki Motors",
         163
        ],
        [
         "DLR0117",
         "Marlin Motors",
         164
        ],
        [
         "DLR0164",
         "Reliant Motors",
         165
        ],
        [
         "DLR0089",
         "Infiniti Motors",
         166
        ],
        [
         "DLR0266",
         "Bitter Motors",
         167
        ],
        [
         "DLR0040",
         "Daewoo, Saehan, Chevrolet Korea Motors",
         168
        ],
        [
         "DLR0260",
         "Aston Martin Motors",
         169
        ],
        [
         "DLR0020",
         "BMW Motors",
         170
        ],
        [
         "DLR0128",
         "Messerschmitt Motors",
         171
        ],
        [
         "DLR0187",
         "Studebaker Motors",
         172
        ],
        [
         "DLR0056",
         "Ferrari Motors",
         173
        ],
        [
         "DLR0059",
         "Fiat India Motors",
         174
        ],
        [
         "DLR0022",
         "Borgward (including Goliath and Lloyd) Motors",
         175
        ],
        [
         "DLR0217",
         "Izh  Motors",
         176
        ],
        [
         "DLR0062",
         "Ford Australia Motors",
         177
        ],
        [
         "DLR0081",
         "Holden Motors",
         178
        ],
        [
         "DLR0228",
         "Deccan Motors",
         179
        ],
        [
         "DLR0104",
         "Lada Motors",
         180
        ],
        [
         "DLR0119",
         "Maserati Motors",
         181
        ],
        [
         "DLR0189",
         "Sunbeam Motors",
         182
        ],
        [
         "DLR0048",
         "De Tomaso Motors",
         183
        ],
        [
         "DLR0185",
         "SsangYong Motors",
         184
        ],
        [
         "DLR0094",
         "Isotta Fraschini Motors",
         185
        ],
        [
         "DLR0227",
         "Ramani Motors",
         186
        ],
        [
         "DLR0162",
         "Puma Motors",
         187
        ],
        [
         "DLR0145",
         "Opel Motors",
         188
        ],
        [
         "DLR0005",
         "Alpine Motors",
         189
        ],
        [
         "DLR0199",
         "TVR Motors",
         190
        ],
        [
         "DLR0236",
         "Cadillac Automobile Company Building",
         191
        ],
        [
         "DLR0169",
         "SAIC Motor Motors",
         192
        ],
        [
         "DLR0239",
         "Claremore Auto Dealership",
         193
        ],
        [
         "DLR0057",
         "Fiat Motors",
         194
        ],
        [
         "DLR0140",
         "Nissan India Motors",
         195
        ],
        [
         "DLR0152",
         "Perodua Motors",
         196
        ],
        [
         "DLR0112",
         "LTI Motors",
         197
        ],
        [
         "DLR0075",
         "Gumpert Motors",
         198
        ],
        [
         "DLR0210",
         "ZAZ Motors",
         199
        ],
        [
         "DLR0212",
         null,
         200
        ],
        [
         "DLR0138",
         "Naza Motors",
         201
        ],
        [
         "DLR0076",
         "Healey Motors",
         202
        ],
        [
         "DLR0165",
         "Renault Motors",
         203
        ],
        [
         "DLR0091",
         "Invicta Motors",
         204
        ],
        [
         "DLR0226",
         "Das Motors",
         205
        ],
        [
         "DLR0221",
         "Austin  Motors",
         206
        ],
        [
         "DLR0079",
         "Hillman Motors",
         207
        ],
        [
         "DLR0188",
         "Subaru Motors",
         208
        ],
        [
         "DLR0222",
         "Riley  Motors",
         209
        ],
        [
         "DLR0054",
         "Elva Motors",
         210
        ],
        [
         "DLR0023",
         "Bristol Motors",
         211
        ],
        [
         "DLR0034",
         "Chevrolet India Motors",
         212
        ],
        [
         "DLR0250",
         "Aixam-Mega (including Arola) Motors",
         213
        ],
        [
         "DLR0108",
         "Lexus Motors",
         214
        ],
        [
         "DLR0264",
         "Auverland Motors",
         215
        ],
        [
         "DLR0172",
         "San Motors",
         216
        ],
        [
         "DLR0234",
         "Bohn Motor Company Automobile Dealership",
         217
        ],
        [
         "DLR0096",
         "Iveco Motors",
         218
        ],
        [
         "DLR0158",
         "Pontiac, Asüna Motors",
         219
        ],
        [
         "DLR0092",
         "Isdera Motors",
         220
        ],
        [
         "DLR0015",
         "Autobianchi Motors",
         221
        ],
        [
         "DLR0176",
         "Scion Motors",
         222
        ],
        [
         "DLR0168",
         "Saab Motors",
         223
        ],
        [
         "DLR0218",
         "Lagonda  Motors",
         224
        ],
        [
         "DLR0255",
         "Anadol Motors",
         225
        ],
        [
         "DLR0144",
         null,
         226
        ],
        [
         "DLR0114",
         "Lynx Motors",
         227
        ],
        [
         "DLR0184",
         "Spyker Motors",
         228
        ],
        [
         "DLR0018",
         "Bentley Motors",
         229
        ],
        [
         "DLR0257",
         "ARO Motors",
         230
        ],
        [
         "DLR0110",
         "Lincoln Motors",
         231
        ],
        [
         "DLR0046",
         "DeLorean Motors",
         232
        ],
        [
         "DLR0135",
         "Morgan Motors",
         233
        ],
        [
         "DLR0127",
         "Merkur Motors",
         234
        ],
        [
         "DLR0215",
         "Wanderer Motors",
         235
        ],
        [
         "DLR0196",
         "Toyota Motors",
         236
        ],
        [
         "DLR0246",
         "Jones Motor Company",
         237
        ],
        [
         "DLR0220",
         "Morris  Motors",
         238
        ],
        [
         "DLR0071",
         "Ginetta Motors",
         239
        ],
        [
         "DLR0047",
         "DeSoto Motors",
         240
        ],
        [
         "DLR0123",
         "Mazzanti Motors",
         241
        ],
        [
         "DLR0050",
         "Donkervoort Motors",
         242
        ],
        [
         "DLR0113",
         "LuAZ Motors",
         243
        ],
        [
         "DLR0074",
         "GTA Spano Motors",
         244
        ],
        [
         "DLR0209",
         "Zastava Motors",
         245
        ],
        [
         "DLR0087",
         "Hyundai Motors",
         246
        ],
        [
         "DLR0252",
         "Alpine Motors",
         247
        ],
        [
         "DLR0206",
         "Volvo Motors",
         248
        ],
        [
         "DLR0111",
         "Lotus Motors",
         249
        ],
        [
         "DLR0203",
         "Volkswagen Motors",
         250
        ],
        [
         "DLR0194",
         "Tesla Motors",
         251
        ],
        [
         "DLR0006",
         "Alvis Motors",
         252
        ],
        [
         "DLR0100",
         "JPX Motors",
         253
        ],
        [
         "DLR0073",
         "GMC Motors",
         254
        ],
        [
         "DLR0224",
         "Standard  Motors",
         255
        ],
        [
         "DLR0132",
         "Mitsubishi Motors",
         256
        ],
        [
         "DLR0010",
         "ARO Motors",
         257
        ],
        [
         "DLR0082",
         "Honda Motors",
         258
        ],
        [
         "DLR0242",
         "H Street Playhouse",
         259
        ],
        [
         "DLR0041",
         "DAF Motors",
         260
        ],
        [
         "DLR0070",
         "Gilbern Motors",
         261
        ],
        [
         "DLR0058",
         "Fiat do Brasil Motors",
         262
        ],
        [
         "DLR0180",
         "Simca do Brasil Motors",
         263
        ],
        [
         "DLR0267",
         "BMW Motors",
         264
        ],
        [
         "DLR0027",
         "Bugatti Motors",
         265
        ],
        [
         "DLR0223",
         "Wolseley  Motors",
         266
        ],
        [
         "DLR0002",
         "Acura Motors",
         267
        ]
       ],
       "datasetInfos": [],
       "dbfsResultPath": null,
       "isJsonSchema": true,
       "metadata": {},
       "overflow": false,
       "plotOptions": {
        "customPlotOptions": {},
        "displayType": "table",
        "pivotAggregation": null,
        "pivotColumns": null,
        "xColumns": null,
        "yColumns": null
       },
       "removedWidgets": [],
       "schema": [
        {
         "metadata": "{}",
         "name": "Dealer_Id",
         "type": "\"string\""
        },
        {
         "metadata": "{}",
         "name": "DealerName",
         "type": "\"string\""
        },
        {
         "metadata": "{}",
         "name": "dim_dealer_key",
         "type": "\"long\""
        }
       ],
       "type": "table"
      }
     },
     "output_type": "display_data"
    }
   ],
   "source": [
    "df_sink.display()"
   ]
  },
  {
   "cell_type": "markdown",
   "metadata": {
    "application/vnd.databricks.v1+cell": {
     "cellMetadata": {},
     "inputWidgets": {},
     "nuid": "f5116529-f9f4-488e-a5b6-5c4d00208c8c",
     "showTitle": false,
     "tableResultSettingsMap": {},
     "title": ""
    }
   },
   "source": [
    "seperating new and old ones"
   ]
  },
  {
   "cell_type": "code",
   "execution_count": 0,
   "metadata": {
    "application/vnd.databricks.v1+cell": {
     "cellMetadata": {
      "byteLimit": 2048000,
      "rowLimit": 10000
     },
     "inputWidgets": {},
     "nuid": "4d36fc19-9470-4fa9-949f-52440287d35a",
     "showTitle": false,
     "tableResultSettingsMap": {},
     "title": ""
    }
   },
   "outputs": [
    {
     "output_type": "display_data",
     "data": {
      "text/plain": [
       "\u001B[0;31m---------------------------------------------------------------------------\u001B[0m\n",
       "\u001B[0;31mNameError\u001B[0m                                 Traceback (most recent call last)\n",
       "File \u001B[0;32m<command-1431437928517340>, line 1\u001B[0m\n",
       "\u001B[0;32m----> 1\u001B[0m df_filter \u001B[38;5;241m=\u001B[39m \u001B[43msource_df\u001B[49m\u001B[38;5;241m.\u001B[39mjoin(df_sink,source_df\u001B[38;5;241m.\u001B[39mDealer_ID \u001B[38;5;241m==\u001B[39m df_sink\u001B[38;5;241m.\u001B[39mDealer_Id,\u001B[38;5;124m'\u001B[39m\u001B[38;5;124mleft\u001B[39m\u001B[38;5;124m'\u001B[39m)\u001B[38;5;241m.\u001B[39mselect(source_df[\u001B[38;5;124m'\u001B[39m\u001B[38;5;124mDealer_ID\u001B[39m\u001B[38;5;124m'\u001B[39m],source_df[\u001B[38;5;124m'\u001B[39m\u001B[38;5;124mDealerName\u001B[39m\u001B[38;5;124m'\u001B[39m],df_sink[\u001B[38;5;124m'\u001B[39m\u001B[38;5;124mdim_dealer_key\u001B[39m\u001B[38;5;124m'\u001B[39m])\n",
       "\n",
       "\u001B[0;31mNameError\u001B[0m: name 'source_df' is not defined"
      ]
     },
     "metadata": {
      "application/vnd.databricks.v1+output": {
       "addedWidgets": {},
       "arguments": {},
       "datasetInfos": [],
       "jupyterProps": {
        "ename": "NameError",
        "evalue": "name 'source_df' is not defined"
       },
       "metadata": {
        "errorSummary": "<span class='ansi-red-fg'>NameError</span>: name 'source_df' is not defined"
       },
       "removedWidgets": [],
       "sqlProps": null,
       "stackFrames": [
        "\u001B[0;31m---------------------------------------------------------------------------\u001B[0m",
        "\u001B[0;31mNameError\u001B[0m                                 Traceback (most recent call last)",
        "File \u001B[0;32m<command-1431437928517340>, line 1\u001B[0m\n\u001B[0;32m----> 1\u001B[0m df_filter \u001B[38;5;241m=\u001B[39m \u001B[43msource_df\u001B[49m\u001B[38;5;241m.\u001B[39mjoin(df_sink,source_df\u001B[38;5;241m.\u001B[39mDealer_ID \u001B[38;5;241m==\u001B[39m df_sink\u001B[38;5;241m.\u001B[39mDealer_Id,\u001B[38;5;124m'\u001B[39m\u001B[38;5;124mleft\u001B[39m\u001B[38;5;124m'\u001B[39m)\u001B[38;5;241m.\u001B[39mselect(source_df[\u001B[38;5;124m'\u001B[39m\u001B[38;5;124mDealer_ID\u001B[39m\u001B[38;5;124m'\u001B[39m],source_df[\u001B[38;5;124m'\u001B[39m\u001B[38;5;124mDealerName\u001B[39m\u001B[38;5;124m'\u001B[39m],df_sink[\u001B[38;5;124m'\u001B[39m\u001B[38;5;124mdim_dealer_key\u001B[39m\u001B[38;5;124m'\u001B[39m])\n",
        "\u001B[0;31mNameError\u001B[0m: name 'source_df' is not defined"
       ],
       "type": "baseError"
      }
     },
     "output_type": "display_data"
    }
   ],
   "source": [
    "df_filter = source_df.join(df_sink,source_df.Dealer_ID == df_sink.Dealer_Id,'left').select(source_df['Dealer_ID'],source_df['DealerName'],df_sink['dim_dealer_key'])"
   ]
  },
  {
   "cell_type": "code",
   "execution_count": 0,
   "metadata": {
    "application/vnd.databricks.v1+cell": {
     "cellMetadata": {
      "byteLimit": 2048000,
      "rowLimit": 10000
     },
     "inputWidgets": {},
     "nuid": "b87c71ea-a6a4-4111-98f1-c9cd7f728749",
     "showTitle": false,
     "tableResultSettingsMap": {},
     "title": ""
    }
   },
   "outputs": [
    {
     "output_type": "display_data",
     "data": {
      "text/html": [
       "<style scoped>\n",
       "  .table-result-container {\n",
       "    max-height: 300px;\n",
       "    overflow: auto;\n",
       "  }\n",
       "  table, th, td {\n",
       "    border: 1px solid black;\n",
       "    border-collapse: collapse;\n",
       "  }\n",
       "  th, td {\n",
       "    padding: 5px;\n",
       "  }\n",
       "  th {\n",
       "    text-align: left;\n",
       "  }\n",
       "</style><div class='table-result-container'><table class='table-result'><thead style='background-color: white'><tr><th>Dealer_Id</th><th>DealerName</th><th>dim_dealer_key</th></tr></thead><tbody></tbody></table></div>"
      ]
     },
     "metadata": {
      "application/vnd.databricks.v1+output": {
       "addedWidgets": {},
       "aggData": [],
       "aggError": "",
       "aggOverflow": false,
       "aggSchema": [],
       "aggSeriesLimitReached": false,
       "aggType": "",
       "arguments": {},
       "columnCustomDisplayInfos": {},
       "data": [],
       "datasetInfos": [],
       "dbfsResultPath": null,
       "isJsonSchema": true,
       "metadata": {},
       "overflow": false,
       "plotOptions": {
        "customPlotOptions": {},
        "displayType": "table",
        "pivotAggregation": null,
        "pivotColumns": null,
        "xColumns": null,
        "yColumns": null
       },
       "removedWidgets": [],
       "schema": [
        {
         "metadata": "{}",
         "name": "Dealer_Id",
         "type": "\"string\""
        },
        {
         "metadata": "{}",
         "name": "DealerName",
         "type": "\"string\""
        },
        {
         "metadata": "{}",
         "name": "dim_dealer_key",
         "type": "\"integer\""
        }
       ],
       "type": "table"
      }
     },
     "output_type": "display_data"
    }
   ],
   "source": [
    "df_old = df_filter.filter(df_filter.dim_dealer_key.isNotNull())\n",
    "df_old.display()"
   ]
  },
  {
   "cell_type": "code",
   "execution_count": 0,
   "metadata": {
    "application/vnd.databricks.v1+cell": {
     "cellMetadata": {
      "byteLimit": 2048000,
      "rowLimit": 10000
     },
     "inputWidgets": {},
     "nuid": "4add7469-6b80-42c6-96cd-7be3198a20c2",
     "showTitle": false,
     "tableResultSettingsMap": {},
     "title": ""
    }
   },
   "outputs": [
    {
     "output_type": "display_data",
     "data": {
      "text/html": [
       "<style scoped>\n",
       "  .table-result-container {\n",
       "    max-height: 300px;\n",
       "    overflow: auto;\n",
       "  }\n",
       "  table, th, td {\n",
       "    border: 1px solid black;\n",
       "    border-collapse: collapse;\n",
       "  }\n",
       "  th, td {\n",
       "    padding: 5px;\n",
       "  }\n",
       "  th {\n",
       "    text-align: left;\n",
       "  }\n",
       "</style><div class='table-result-container'><table class='table-result'><thead style='background-color: white'><tr><th>Dealer_Id</th><th>DealerName</th><th>dim_dealer_key</th></tr></thead><tbody><tr><td>DLR0095</td><td>Isuzu Motors</td><td>null</td></tr><tr><td>DLR0124</td><td>McLaren Motors</td><td>null</td></tr><tr><td>DLR0245</td><td>Jennings Ford Automobile Dealership</td><td>null</td></tr><tr><td>DLR0171</td><td>Samsung Motors</td><td>null</td></tr><tr><td>DLR0052</td><td>e.GO Mobile Motors</td><td>null</td></tr><tr><td>DLR0175</td><td>Saturn Motors</td><td>null</td></tr><tr><td>DLR0080</td><td>Hindustan Motors</td><td>null</td></tr><tr><td>DLR0263</td><td>Auto-Union Motors</td><td>null</td></tr><tr><td>DLR0066</td><td>Freightliner Motors</td><td>null</td></tr><tr><td>DLR0258</td><td>null</td><td>null</td></tr><tr><td>DLR0007</td><td>AMC, Eagle Motors</td><td>null</td></tr><tr><td>DLR0141</td><td>Noble Motors</td><td>null</td></tr><tr><td>DLR0251</td><td>Alfa Romeo Motors</td><td>null</td></tr><tr><td>DLR0038</td><td>Cizeta-Moroder Motors</td><td>null</td></tr><tr><td>DLR0155</td><td>Piaggio Motors</td><td>null</td></tr><tr><td>DLR0013</td><td>Aston Martin Motors</td><td>null</td></tr><tr><td>DLR0049</td><td>Dodge Motors</td><td>null</td></tr><tr><td>DLR0055</td><td>Facel Vega Motors</td><td>null</td></tr><tr><td>DLR0129</td><td>Mia Motors</td><td>null</td></tr><tr><td>DLR0183</td><td>Smart Motors</td><td>null</td></tr><tr><td>DLR0177</td><td>Seat Motors</td><td>null</td></tr><tr><td>DLR0229</td><td>Herald Motors</td><td>null</td></tr><tr><td>DLR0149</td><td>Panoz Motors</td><td>null</td></tr><tr><td>DLR0170</td><td>Saleen Motors</td><td>null</td></tr><tr><td>DLR0213</td><td>DKW Motors</td><td>null</td></tr><tr><td>DLR0077</td><td>Heinkel Motors</td><td>null</td></tr><tr><td>DLR0238</td><td>Cass Motor Sales</td><td>null</td></tr><tr><td>DLR0253</td><td>Alvis Motors</td><td>null</td></tr><tr><td>DLR0115</td><td>Mahindra Motors</td><td>null</td></tr><tr><td>DLR0219</td><td>MG  Motors</td><td>null</td></tr><tr><td>DLR0166</td><td>Rivian Motors</td><td>null</td></tr><tr><td>DLR0262</td><td>Autobianchi Motors</td><td>null</td></tr><tr><td>DLR0099</td><td>Jensen Motors</td><td>null</td></tr><tr><td>DLR0159</td><td>Porsche Motors</td><td>null</td></tr><tr><td>DLR0118</td><td>Maruti Motors</td><td>null</td></tr><tr><td>DLR0259</td><td>Asia Motors Motors</td><td>null</td></tr><tr><td>DLR0241</td><td>Colman Automotive Building</td><td>null</td></tr><tr><td>DLR0207</td><td>Westfield Motors</td><td>null</td></tr><tr><td>DLR0163</td><td>Ranger Motors</td><td>null</td></tr><tr><td>DLR0157</td><td>Polestar Motors</td><td>null</td></tr><tr><td>DLR0133</td><td>Monica Motors</td><td>null</td></tr><tr><td>DLR0167</td><td>Rolls-Royce Motors</td><td>null</td></tr><tr><td>DLR0086</td><td>Hummer Motors</td><td>null</td></tr><tr><td>DLR0174</td><td>Santana Motors</td><td>null</td></tr><tr><td>DLR0147</td><td>Pagani Motors</td><td>null</td></tr><tr><td>DLR0193</td><td>Tazzari Motors</td><td>null</td></tr><tr><td>DLR0134</td><td>Monteverdi Motors</td><td>null</td></tr><tr><td>DLR0148</td><td>Panhard Motors</td><td>null</td></tr><tr><td>DLR0084</td><td>Hudson Motors</td><td>null</td></tr><tr><td>DLR0235</td><td>Buick Automobile Company Building</td><td>null</td></tr><tr><td>DLR0037</td><td>Citroën Motors</td><td>null</td></tr><tr><td>DLR0051</td><td>Edsel Motors</td><td>null</td></tr><tr><td>DLR0237</td><td>Casa de cadillac</td><td>null</td></tr><tr><td>DLR0021</td><td>Bond Motors</td><td>null</td></tr><tr><td>DLR0064</td><td>Ford Europe Motors</td><td>null</td></tr><tr><td>DLR0109</td><td>Ligier Motors</td><td>null</td></tr><tr><td>DLR0101</td><td>Kia Motors</td><td>null</td></tr><tr><td>DLR0045</td><td>Delahaye Motors</td><td>null</td></tr><tr><td>DLR0265</td><td>Bentley Motors</td><td>null</td></tr><tr><td>DLR0035</td><td>Chrysler Motors</td><td>null</td></tr><tr><td>DLR0153</td><td>Peugeot Motors</td><td>null</td></tr><tr><td>DLR0019</td><td>Bitter Motors</td><td>null</td></tr><tr><td>DLR0088</td><td>IFA (including Trabant, Wartburg, Barkas) Motors</td><td>null</td></tr><tr><td>DLR0083</td><td>Honda India Motors</td><td>null</td></tr><tr><td>DLR0120</td><td>Mastretta Motors</td><td>null</td></tr><tr><td>DLR0191</td><td>Tata Motors</td><td>null</td></tr><tr><td>DLR0216</td><td>Maybach  Motors</td><td>null</td></tr><tr><td>DLR0200</td><td>UAZ Motors</td><td>null</td></tr><tr><td>DLR0186</td><td>Standard-Triumph Motors</td><td>null</td></tr><tr><td>DLR0173</td><td>Santa Matilde Motors</td><td>null</td></tr><tr><td>DLR0121</td><td>Matra (including Deutsch-Bonnet, René Bonnet) Motors</td><td>null</td></tr><tr><td>DLR0103</td><td>KTM Motors</td><td>null</td></tr><tr><td>DLR0131</td><td>Mini Motors</td><td>null</td></tr><tr><td>DLR0122</td><td>Mazda Motors</td><td>null</td></tr><tr><td>DLR0011</td><td>Artega Motors</td><td>null</td></tr><tr><td>DLR0143</td><td>Oldsmobile Motors</td><td>null</td></tr><tr><td>DLR0261</td><td>Audi Motors</td><td>null</td></tr><tr><td>DLR0156</td><td>Plymouth Motors</td><td>null</td></tr><tr><td>DLR0178</td><td>Shelby SuperCars Motors</td><td>null</td></tr><tr><td>DLR0026</td><td>Austin, Rover Motors</td><td>null</td></tr><tr><td>DLR0030</td><td>Cadillac Motors</td><td>null</td></tr><tr><td>DLR0106</td><td>Lancia Motors</td><td>null</td></tr><tr><td>DLR0247</td><td>Kindel Building</td><td>null</td></tr><tr><td>DLR0107</td><td>Land Rover Motors</td><td>null</td></tr><tr><td>DLR0067</td><td>FSO Motors</td><td>null</td></tr><tr><td>DLR0061</td><td>Ford America Motors</td><td>null</td></tr><tr><td>DLR0230</td><td>Zion Automobils</td><td>null</td></tr><tr><td>DLR0032</td><td>Checker Motors</td><td>null</td></tr><tr><td>DLR0201</td><td>Vauxhall Motors</td><td>null</td></tr><tr><td>DLR0014</td><td>Audi Motors</td><td>null</td></tr><tr><td>DLR0256</td><td>Ariel Motors</td><td>null</td></tr><tr><td>DLR0161</td><td>Proton Motors</td><td>null</td></tr><tr><td>DLR0078</td><td>Hennessey Motors</td><td>null</td></tr><tr><td>DLR0063</td><td>Ford do Brasil Motors</td><td>null</td></tr><tr><td>DLR0214</td><td>Horch Motors</td><td>null</td></tr><tr><td>DLR0202</td><td>Venturi Motors</td><td>null</td></tr><tr><td>DLR0195</td><td>Tornado Motors</td><td>null</td></tr><tr><td>DLR0240</td><td>Clemens Automobile Company Building</td><td>null</td></tr><tr><td>DLR0090</td><td>null</td><td>null</td></tr><tr><td>DLR0017</td><td>Auverland Motors</td><td>null</td></tr><tr><td>DLR0211</td><td>ZIL Motors</td><td>null</td></tr><tr><td>DLR0154</td><td>PGO Motors</td><td>null</td></tr><tr><td>DLR0243</td><td>Howard Motor Company Building</td><td>null</td></tr><tr><td>DLR0181</td><td>Singer Motors</td><td>null</td></tr><tr><td>DLR0044</td><td>null</td><td>null</td></tr><tr><td>DLR0254</td><td>AMC, Eagle Motors</td><td>null</td></tr><tr><td>DLR0031</td><td>Caterham Motors</td><td>null</td></tr><tr><td>DLR0142</td><td>NSU Motors</td><td>null</td></tr><tr><td>DLR0136</td><td>Moskwitch Motors</td><td>null</td></tr><tr><td>DLR0012</td><td>Asia Motors Motors</td><td>null</td></tr><tr><td>DLR0053</td><td>Eicher Polaris Motors</td><td>null</td></tr><tr><td>DLR0179</td><td>Simca Motors</td><td>null</td></tr><tr><td>DLR0025</td><td>Austin-Healey Motors</td><td>null</td></tr><tr><td>DLR0197</td><td>Toyota India Motors</td><td>null</td></tr><tr><td>DLR0198</td><td>Turner Motors</td><td>null</td></tr><tr><td>DLR0039</td><td>Dacia Motors</td><td>null</td></tr><tr><td>DLR0029</td><td>Bytom Motors</td><td>null</td></tr><tr><td>DLR0001</td><td>AC Cars Motors</td><td>null</td></tr><tr><td>DLR0043</td><td>Daimler Motors</td><td>null</td></tr><tr><td>DLR0125</td><td>Mercedes-Benz (including Maybach) Motors</td><td>null</td></tr><tr><td>DLR0060</td><td>Fisker, Karma Motors</td><td>null</td></tr><tr><td>DLR0004</td><td>Alfa Romeo Motors</td><td>null</td></tr><tr><td>DLR0249</td><td>Acura Motors</td><td>null</td></tr><tr><td>DLR0130</td><td>Micro Motors</td><td>null</td></tr><tr><td>DLR0028</td><td>Buick Motors</td><td>null</td></tr><tr><td>DLR0231</td><td>Atlantic Motor Company</td><td>null</td></tr><tr><td>DLR0139</td><td>Nissan Motors</td><td>null</td></tr><tr><td>DLR0003</td><td>Aixam-Mega (including Arola) Motors</td><td>null</td></tr><tr><td>DLR0069</td><td>Geo Motors</td><td>null</td></tr><tr><td>DLR0102</td><td>Koenigsegg Motors</td><td>null</td></tr><tr><td>DLR0208</td><td>Wiesmann Motors</td><td>null</td></tr><tr><td>DLR0232</td><td>2008 NRHP-listed</td><td>null</td></tr><tr><td>DLR0205</td><td>Volkswagen South Africa Motors</td><td>null</td></tr><tr><td>DLR0137</td><td>Nash Motors</td><td>null</td></tr><tr><td>DLR0042</td><td>Daihatsu Motors</td><td>null</td></tr><tr><td>DLR0105</td><td>Lamborghini Motors</td><td>null</td></tr><tr><td>DLR0126</td><td>Mercury Motors</td><td>null</td></tr><tr><td>DLR0016</td><td>Auto-Union Motors</td><td>null</td></tr><tr><td>DLR0248</td><td>AC Cars Motors</td><td>null</td></tr><tr><td>DLR0065</td><td>Ford India Motors</td><td>null</td></tr><tr><td>DLR0151</td><td>Peel Motors</td><td>null</td></tr><tr><td>DLR0068</td><td>GAZ Motors</td><td>null</td></tr><tr><td>DLR0192</td><td>Tatra Motors</td><td>null</td></tr><tr><td>DLR0244</td><td>Hupmobile Building</td><td>null</td></tr><tr><td>DLR0072</td><td>Glas Motors</td><td>null</td></tr><tr><td>DLR0009</td><td>Ariel Motors</td><td>null</td></tr><tr><td>DLR0093</td><td>Iso Motors</td><td>null</td></tr><tr><td>DLR0098</td><td>Jeep Motors</td><td>null</td></tr><tr><td>DLR0233</td><td>Blankinship Motor Company Building</td><td>null</td></tr><tr><td>DLR0097</td><td>Jaguar Motors</td><td>null</td></tr><tr><td>DLR0160</td><td>Premier Motors</td><td>null</td></tr><tr><td>DLR0024</td><td>British Leyland Motors</td><td>null</td></tr><tr><td>DLR0085</td><td>Humber Motors</td><td>null</td></tr><tr><td>DLR0036</td><td>Chrysler Europe Motors</td><td>null</td></tr><tr><td>DLR0008</td><td>Anadol Motors</td><td>null</td></tr><tr><td>DLR0204</td><td>Volkswagen do Brasil Motors</td><td>null</td></tr><tr><td>DLR0116</td><td>Marcos Motors</td><td>null</td></tr><tr><td>DLR0146</td><td>Packard Motors</td><td>null</td></tr><tr><td>DLR0182</td><td>Skoda Motors</td><td>null</td></tr><tr><td>DLR0150</td><td>Panther Motors</td><td>null</td></tr><tr><td>DLR0225</td><td>Talbot  Motors</td><td>null</td></tr><tr><td>DLR0033</td><td>Chevrolet Motors</td><td>null</td></tr><tr><td>DLR0190</td><td>Suzuki Motors</td><td>null</td></tr><tr><td>DLR0117</td><td>Marlin Motors</td><td>null</td></tr><tr><td>DLR0164</td><td>Reliant Motors</td><td>null</td></tr><tr><td>DLR0089</td><td>Infiniti Motors</td><td>null</td></tr><tr><td>DLR0266</td><td>Bitter Motors</td><td>null</td></tr><tr><td>DLR0040</td><td>Daewoo, Saehan, Chevrolet Korea Motors</td><td>null</td></tr><tr><td>DLR0260</td><td>Aston Martin Motors</td><td>null</td></tr><tr><td>DLR0020</td><td>BMW Motors</td><td>null</td></tr><tr><td>DLR0128</td><td>Messerschmitt Motors</td><td>null</td></tr><tr><td>DLR0187</td><td>Studebaker Motors</td><td>null</td></tr><tr><td>DLR0056</td><td>Ferrari Motors</td><td>null</td></tr><tr><td>DLR0059</td><td>Fiat India Motors</td><td>null</td></tr><tr><td>DLR0022</td><td>Borgward (including Goliath and Lloyd) Motors</td><td>null</td></tr><tr><td>DLR0217</td><td>Izh  Motors</td><td>null</td></tr><tr><td>DLR0062</td><td>Ford Australia Motors</td><td>null</td></tr><tr><td>DLR0081</td><td>Holden Motors</td><td>null</td></tr><tr><td>DLR0228</td><td>Deccan Motors</td><td>null</td></tr><tr><td>DLR0104</td><td>Lada Motors</td><td>null</td></tr><tr><td>DLR0119</td><td>Maserati Motors</td><td>null</td></tr><tr><td>DLR0189</td><td>Sunbeam Motors</td><td>null</td></tr><tr><td>DLR0048</td><td>De Tomaso Motors</td><td>null</td></tr><tr><td>DLR0185</td><td>SsangYong Motors</td><td>null</td></tr><tr><td>DLR0094</td><td>Isotta Fraschini Motors</td><td>null</td></tr><tr><td>DLR0227</td><td>Ramani Motors</td><td>null</td></tr><tr><td>DLR0162</td><td>Puma Motors</td><td>null</td></tr><tr><td>DLR0145</td><td>Opel Motors</td><td>null</td></tr><tr><td>DLR0005</td><td>Alpine Motors</td><td>null</td></tr><tr><td>DLR0199</td><td>TVR Motors</td><td>null</td></tr><tr><td>DLR0236</td><td>Cadillac Automobile Company Building</td><td>null</td></tr><tr><td>DLR0169</td><td>SAIC Motor Motors</td><td>null</td></tr><tr><td>DLR0239</td><td>Claremore Auto Dealership</td><td>null</td></tr><tr><td>DLR0057</td><td>Fiat Motors</td><td>null</td></tr><tr><td>DLR0140</td><td>Nissan India Motors</td><td>null</td></tr><tr><td>DLR0152</td><td>Perodua Motors</td><td>null</td></tr><tr><td>DLR0112</td><td>LTI Motors</td><td>null</td></tr><tr><td>DLR0075</td><td>Gumpert Motors</td><td>null</td></tr><tr><td>DLR0210</td><td>ZAZ Motors</td><td>null</td></tr><tr><td>DLR0212</td><td>null</td><td>null</td></tr><tr><td>DLR0138</td><td>Naza Motors</td><td>null</td></tr><tr><td>DLR0076</td><td>Healey Motors</td><td>null</td></tr><tr><td>DLR0165</td><td>Renault Motors</td><td>null</td></tr><tr><td>DLR0091</td><td>Invicta Motors</td><td>null</td></tr><tr><td>DLR0226</td><td>Das Motors</td><td>null</td></tr><tr><td>DLR0221</td><td>Austin  Motors</td><td>null</td></tr><tr><td>DLR0079</td><td>Hillman Motors</td><td>null</td></tr><tr><td>DLR0188</td><td>Subaru Motors</td><td>null</td></tr><tr><td>DLR0222</td><td>Riley  Motors</td><td>null</td></tr><tr><td>DLR0054</td><td>Elva Motors</td><td>null</td></tr><tr><td>DLR0023</td><td>Bristol Motors</td><td>null</td></tr><tr><td>DLR0034</td><td>Chevrolet India Motors</td><td>null</td></tr><tr><td>DLR0250</td><td>Aixam-Mega (including Arola) Motors</td><td>null</td></tr><tr><td>DLR0108</td><td>Lexus Motors</td><td>null</td></tr><tr><td>DLR0264</td><td>Auverland Motors</td><td>null</td></tr><tr><td>DLR0172</td><td>San Motors</td><td>null</td></tr><tr><td>DLR0234</td><td>Bohn Motor Company Automobile Dealership</td><td>null</td></tr><tr><td>DLR0096</td><td>Iveco Motors</td><td>null</td></tr><tr><td>DLR0158</td><td>Pontiac, Asüna Motors</td><td>null</td></tr><tr><td>DLR0092</td><td>Isdera Motors</td><td>null</td></tr><tr><td>DLR0015</td><td>Autobianchi Motors</td><td>null</td></tr><tr><td>DLR0176</td><td>Scion Motors</td><td>null</td></tr><tr><td>DLR0168</td><td>Saab Motors</td><td>null</td></tr><tr><td>DLR0218</td><td>Lagonda  Motors</td><td>null</td></tr><tr><td>DLR0255</td><td>Anadol Motors</td><td>null</td></tr><tr><td>DLR0144</td><td>null</td><td>null</td></tr><tr><td>DLR0114</td><td>Lynx Motors</td><td>null</td></tr><tr><td>DLR0184</td><td>Spyker Motors</td><td>null</td></tr><tr><td>DLR0018</td><td>Bentley Motors</td><td>null</td></tr><tr><td>DLR0257</td><td>ARO Motors</td><td>null</td></tr><tr><td>DLR0110</td><td>Lincoln Motors</td><td>null</td></tr><tr><td>DLR0046</td><td>DeLorean Motors</td><td>null</td></tr><tr><td>DLR0135</td><td>Morgan Motors</td><td>null</td></tr><tr><td>DLR0127</td><td>Merkur Motors</td><td>null</td></tr><tr><td>DLR0215</td><td>Wanderer Motors</td><td>null</td></tr><tr><td>DLR0196</td><td>Toyota Motors</td><td>null</td></tr><tr><td>DLR0246</td><td>Jones Motor Company</td><td>null</td></tr><tr><td>DLR0220</td><td>Morris  Motors</td><td>null</td></tr><tr><td>DLR0071</td><td>Ginetta Motors</td><td>null</td></tr><tr><td>DLR0047</td><td>DeSoto Motors</td><td>null</td></tr><tr><td>DLR0123</td><td>Mazzanti Motors</td><td>null</td></tr><tr><td>DLR0050</td><td>Donkervoort Motors</td><td>null</td></tr><tr><td>DLR0113</td><td>LuAZ Motors</td><td>null</td></tr><tr><td>DLR0074</td><td>GTA Spano Motors</td><td>null</td></tr><tr><td>DLR0209</td><td>Zastava Motors</td><td>null</td></tr><tr><td>DLR0087</td><td>Hyundai Motors</td><td>null</td></tr><tr><td>DLR0252</td><td>Alpine Motors</td><td>null</td></tr><tr><td>DLR0206</td><td>Volvo Motors</td><td>null</td></tr><tr><td>DLR0111</td><td>Lotus Motors</td><td>null</td></tr><tr><td>DLR0203</td><td>Volkswagen Motors</td><td>null</td></tr><tr><td>DLR0194</td><td>Tesla Motors</td><td>null</td></tr><tr><td>DLR0006</td><td>Alvis Motors</td><td>null</td></tr><tr><td>DLR0100</td><td>JPX Motors</td><td>null</td></tr><tr><td>DLR0073</td><td>GMC Motors</td><td>null</td></tr><tr><td>DLR0224</td><td>Standard  Motors</td><td>null</td></tr><tr><td>DLR0132</td><td>Mitsubishi Motors</td><td>null</td></tr><tr><td>DLR0010</td><td>ARO Motors</td><td>null</td></tr><tr><td>DLR0082</td><td>Honda Motors</td><td>null</td></tr><tr><td>DLR0242</td><td>H Street Playhouse</td><td>null</td></tr><tr><td>DLR0041</td><td>DAF Motors</td><td>null</td></tr><tr><td>DLR0070</td><td>Gilbern Motors</td><td>null</td></tr><tr><td>DLR0058</td><td>Fiat do Brasil Motors</td><td>null</td></tr><tr><td>DLR0180</td><td>Simca do Brasil Motors</td><td>null</td></tr><tr><td>DLR0267</td><td>BMW Motors</td><td>null</td></tr><tr><td>DLR0027</td><td>Bugatti Motors</td><td>null</td></tr><tr><td>DLR0223</td><td>Wolseley  Motors</td><td>null</td></tr><tr><td>DLR0002</td><td>Acura Motors</td><td>null</td></tr></tbody></table></div>"
      ]
     },
     "metadata": {
      "application/vnd.databricks.v1+output": {
       "addedWidgets": {},
       "aggData": [],
       "aggError": "",
       "aggOverflow": false,
       "aggSchema": [],
       "aggSeriesLimitReached": false,
       "aggType": "",
       "arguments": {},
       "columnCustomDisplayInfos": {},
       "data": [
        [
         "DLR0095",
         "Isuzu Motors",
         null
        ],
        [
         "DLR0124",
         "McLaren Motors",
         null
        ],
        [
         "DLR0245",
         "Jennings Ford Automobile Dealership",
         null
        ],
        [
         "DLR0171",
         "Samsung Motors",
         null
        ],
        [
         "DLR0052",
         "e.GO Mobile Motors",
         null
        ],
        [
         "DLR0175",
         "Saturn Motors",
         null
        ],
        [
         "DLR0080",
         "Hindustan Motors",
         null
        ],
        [
         "DLR0263",
         "Auto-Union Motors",
         null
        ],
        [
         "DLR0066",
         "Freightliner Motors",
         null
        ],
        [
         "DLR0258",
         null,
         null
        ],
        [
         "DLR0007",
         "AMC, Eagle Motors",
         null
        ],
        [
         "DLR0141",
         "Noble Motors",
         null
        ],
        [
         "DLR0251",
         "Alfa Romeo Motors",
         null
        ],
        [
         "DLR0038",
         "Cizeta-Moroder Motors",
         null
        ],
        [
         "DLR0155",
         "Piaggio Motors",
         null
        ],
        [
         "DLR0013",
         "Aston Martin Motors",
         null
        ],
        [
         "DLR0049",
         "Dodge Motors",
         null
        ],
        [
         "DLR0055",
         "Facel Vega Motors",
         null
        ],
        [
         "DLR0129",
         "Mia Motors",
         null
        ],
        [
         "DLR0183",
         "Smart Motors",
         null
        ],
        [
         "DLR0177",
         "Seat Motors",
         null
        ],
        [
         "DLR0229",
         "Herald Motors",
         null
        ],
        [
         "DLR0149",
         "Panoz Motors",
         null
        ],
        [
         "DLR0170",
         "Saleen Motors",
         null
        ],
        [
         "DLR0213",
         "DKW Motors",
         null
        ],
        [
         "DLR0077",
         "Heinkel Motors",
         null
        ],
        [
         "DLR0238",
         "Cass Motor Sales",
         null
        ],
        [
         "DLR0253",
         "Alvis Motors",
         null
        ],
        [
         "DLR0115",
         "Mahindra Motors",
         null
        ],
        [
         "DLR0219",
         "MG  Motors",
         null
        ],
        [
         "DLR0166",
         "Rivian Motors",
         null
        ],
        [
         "DLR0262",
         "Autobianchi Motors",
         null
        ],
        [
         "DLR0099",
         "Jensen Motors",
         null
        ],
        [
         "DLR0159",
         "Porsche Motors",
         null
        ],
        [
         "DLR0118",
         "Maruti Motors",
         null
        ],
        [
         "DLR0259",
         "Asia Motors Motors",
         null
        ],
        [
         "DLR0241",
         "Colman Automotive Building",
         null
        ],
        [
         "DLR0207",
         "Westfield Motors",
         null
        ],
        [
         "DLR0163",
         "Ranger Motors",
         null
        ],
        [
         "DLR0157",
         "Polestar Motors",
         null
        ],
        [
         "DLR0133",
         "Monica Motors",
         null
        ],
        [
         "DLR0167",
         "Rolls-Royce Motors",
         null
        ],
        [
         "DLR0086",
         "Hummer Motors",
         null
        ],
        [
         "DLR0174",
         "Santana Motors",
         null
        ],
        [
         "DLR0147",
         "Pagani Motors",
         null
        ],
        [
         "DLR0193",
         "Tazzari Motors",
         null
        ],
        [
         "DLR0134",
         "Monteverdi Motors",
         null
        ],
        [
         "DLR0148",
         "Panhard Motors",
         null
        ],
        [
         "DLR0084",
         "Hudson Motors",
         null
        ],
        [
         "DLR0235",
         "Buick Automobile Company Building",
         null
        ],
        [
         "DLR0037",
         "Citroën Motors",
         null
        ],
        [
         "DLR0051",
         "Edsel Motors",
         null
        ],
        [
         "DLR0237",
         "Casa de cadillac",
         null
        ],
        [
         "DLR0021",
         "Bond Motors",
         null
        ],
        [
         "DLR0064",
         "Ford Europe Motors",
         null
        ],
        [
         "DLR0109",
         "Ligier Motors",
         null
        ],
        [
         "DLR0101",
         "Kia Motors",
         null
        ],
        [
         "DLR0045",
         "Delahaye Motors",
         null
        ],
        [
         "DLR0265",
         "Bentley Motors",
         null
        ],
        [
         "DLR0035",
         "Chrysler Motors",
         null
        ],
        [
         "DLR0153",
         "Peugeot Motors",
         null
        ],
        [
         "DLR0019",
         "Bitter Motors",
         null
        ],
        [
         "DLR0088",
         "IFA (including Trabant, Wartburg, Barkas) Motors",
         null
        ],
        [
         "DLR0083",
         "Honda India Motors",
         null
        ],
        [
         "DLR0120",
         "Mastretta Motors",
         null
        ],
        [
         "DLR0191",
         "Tata Motors",
         null
        ],
        [
         "DLR0216",
         "Maybach  Motors",
         null
        ],
        [
         "DLR0200",
         "UAZ Motors",
         null
        ],
        [
         "DLR0186",
         "Standard-Triumph Motors",
         null
        ],
        [
         "DLR0173",
         "Santa Matilde Motors",
         null
        ],
        [
         "DLR0121",
         "Matra (including Deutsch-Bonnet, René Bonnet) Motors",
         null
        ],
        [
         "DLR0103",
         "KTM Motors",
         null
        ],
        [
         "DLR0131",
         "Mini Motors",
         null
        ],
        [
         "DLR0122",
         "Mazda Motors",
         null
        ],
        [
         "DLR0011",
         "Artega Motors",
         null
        ],
        [
         "DLR0143",
         "Oldsmobile Motors",
         null
        ],
        [
         "DLR0261",
         "Audi Motors",
         null
        ],
        [
         "DLR0156",
         "Plymouth Motors",
         null
        ],
        [
         "DLR0178",
         "Shelby SuperCars Motors",
         null
        ],
        [
         "DLR0026",
         "Austin, Rover Motors",
         null
        ],
        [
         "DLR0030",
         "Cadillac Motors",
         null
        ],
        [
         "DLR0106",
         "Lancia Motors",
         null
        ],
        [
         "DLR0247",
         "Kindel Building",
         null
        ],
        [
         "DLR0107",
         "Land Rover Motors",
         null
        ],
        [
         "DLR0067",
         "FSO Motors",
         null
        ],
        [
         "DLR0061",
         "Ford America Motors",
         null
        ],
        [
         "DLR0230",
         "Zion Automobils",
         null
        ],
        [
         "DLR0032",
         "Checker Motors",
         null
        ],
        [
         "DLR0201",
         "Vauxhall Motors",
         null
        ],
        [
         "DLR0014",
         "Audi Motors",
         null
        ],
        [
         "DLR0256",
         "Ariel Motors",
         null
        ],
        [
         "DLR0161",
         "Proton Motors",
         null
        ],
        [
         "DLR0078",
         "Hennessey Motors",
         null
        ],
        [
         "DLR0063",
         "Ford do Brasil Motors",
         null
        ],
        [
         "DLR0214",
         "Horch Motors",
         null
        ],
        [
         "DLR0202",
         "Venturi Motors",
         null
        ],
        [
         "DLR0195",
         "Tornado Motors",
         null
        ],
        [
         "DLR0240",
         "Clemens Automobile Company Building",
         null
        ],
        [
         "DLR0090",
         null,
         null
        ],
        [
         "DLR0017",
         "Auverland Motors",
         null
        ],
        [
         "DLR0211",
         "ZIL Motors",
         null
        ],
        [
         "DLR0154",
         "PGO Motors",
         null
        ],
        [
         "DLR0243",
         "Howard Motor Company Building",
         null
        ],
        [
         "DLR0181",
         "Singer Motors",
         null
        ],
        [
         "DLR0044",
         null,
         null
        ],
        [
         "DLR0254",
         "AMC, Eagle Motors",
         null
        ],
        [
         "DLR0031",
         "Caterham Motors",
         null
        ],
        [
         "DLR0142",
         "NSU Motors",
         null
        ],
        [
         "DLR0136",
         "Moskwitch Motors",
         null
        ],
        [
         "DLR0012",
         "Asia Motors Motors",
         null
        ],
        [
         "DLR0053",
         "Eicher Polaris Motors",
         null
        ],
        [
         "DLR0179",
         "Simca Motors",
         null
        ],
        [
         "DLR0025",
         "Austin-Healey Motors",
         null
        ],
        [
         "DLR0197",
         "Toyota India Motors",
         null
        ],
        [
         "DLR0198",
         "Turner Motors",
         null
        ],
        [
         "DLR0039",
         "Dacia Motors",
         null
        ],
        [
         "DLR0029",
         "Bytom Motors",
         null
        ],
        [
         "DLR0001",
         "AC Cars Motors",
         null
        ],
        [
         "DLR0043",
         "Daimler Motors",
         null
        ],
        [
         "DLR0125",
         "Mercedes-Benz (including Maybach) Motors",
         null
        ],
        [
         "DLR0060",
         "Fisker, Karma Motors",
         null
        ],
        [
         "DLR0004",
         "Alfa Romeo Motors",
         null
        ],
        [
         "DLR0249",
         "Acura Motors",
         null
        ],
        [
         "DLR0130",
         "Micro Motors",
         null
        ],
        [
         "DLR0028",
         "Buick Motors",
         null
        ],
        [
         "DLR0231",
         "Atlantic Motor Company",
         null
        ],
        [
         "DLR0139",
         "Nissan Motors",
         null
        ],
        [
         "DLR0003",
         "Aixam-Mega (including Arola) Motors",
         null
        ],
        [
         "DLR0069",
         "Geo Motors",
         null
        ],
        [
         "DLR0102",
         "Koenigsegg Motors",
         null
        ],
        [
         "DLR0208",
         "Wiesmann Motors",
         null
        ],
        [
         "DLR0232",
         "2008 NRHP-listed",
         null
        ],
        [
         "DLR0205",
         "Volkswagen South Africa Motors",
         null
        ],
        [
         "DLR0137",
         "Nash Motors",
         null
        ],
        [
         "DLR0042",
         "Daihatsu Motors",
         null
        ],
        [
         "DLR0105",
         "Lamborghini Motors",
         null
        ],
        [
         "DLR0126",
         "Mercury Motors",
         null
        ],
        [
         "DLR0016",
         "Auto-Union Motors",
         null
        ],
        [
         "DLR0248",
         "AC Cars Motors",
         null
        ],
        [
         "DLR0065",
         "Ford India Motors",
         null
        ],
        [
         "DLR0151",
         "Peel Motors",
         null
        ],
        [
         "DLR0068",
         "GAZ Motors",
         null
        ],
        [
         "DLR0192",
         "Tatra Motors",
         null
        ],
        [
         "DLR0244",
         "Hupmobile Building",
         null
        ],
        [
         "DLR0072",
         "Glas Motors",
         null
        ],
        [
         "DLR0009",
         "Ariel Motors",
         null
        ],
        [
         "DLR0093",
         "Iso Motors",
         null
        ],
        [
         "DLR0098",
         "Jeep Motors",
         null
        ],
        [
         "DLR0233",
         "Blankinship Motor Company Building",
         null
        ],
        [
         "DLR0097",
         "Jaguar Motors",
         null
        ],
        [
         "DLR0160",
         "Premier Motors",
         null
        ],
        [
         "DLR0024",
         "British Leyland Motors",
         null
        ],
        [
         "DLR0085",
         "Humber Motors",
         null
        ],
        [
         "DLR0036",
         "Chrysler Europe Motors",
         null
        ],
        [
         "DLR0008",
         "Anadol Motors",
         null
        ],
        [
         "DLR0204",
         "Volkswagen do Brasil Motors",
         null
        ],
        [
         "DLR0116",
         "Marcos Motors",
         null
        ],
        [
         "DLR0146",
         "Packard Motors",
         null
        ],
        [
         "DLR0182",
         "Skoda Motors",
         null
        ],
        [
         "DLR0150",
         "Panther Motors",
         null
        ],
        [
         "DLR0225",
         "Talbot  Motors",
         null
        ],
        [
         "DLR0033",
         "Chevrolet Motors",
         null
        ],
        [
         "DLR0190",
         "Suzuki Motors",
         null
        ],
        [
         "DLR0117",
         "Marlin Motors",
         null
        ],
        [
         "DLR0164",
         "Reliant Motors",
         null
        ],
        [
         "DLR0089",
         "Infiniti Motors",
         null
        ],
        [
         "DLR0266",
         "Bitter Motors",
         null
        ],
        [
         "DLR0040",
         "Daewoo, Saehan, Chevrolet Korea Motors",
         null
        ],
        [
         "DLR0260",
         "Aston Martin Motors",
         null
        ],
        [
         "DLR0020",
         "BMW Motors",
         null
        ],
        [
         "DLR0128",
         "Messerschmitt Motors",
         null
        ],
        [
         "DLR0187",
         "Studebaker Motors",
         null
        ],
        [
         "DLR0056",
         "Ferrari Motors",
         null
        ],
        [
         "DLR0059",
         "Fiat India Motors",
         null
        ],
        [
         "DLR0022",
         "Borgward (including Goliath and Lloyd) Motors",
         null
        ],
        [
         "DLR0217",
         "Izh  Motors",
         null
        ],
        [
         "DLR0062",
         "Ford Australia Motors",
         null
        ],
        [
         "DLR0081",
         "Holden Motors",
         null
        ],
        [
         "DLR0228",
         "Deccan Motors",
         null
        ],
        [
         "DLR0104",
         "Lada Motors",
         null
        ],
        [
         "DLR0119",
         "Maserati Motors",
         null
        ],
        [
         "DLR0189",
         "Sunbeam Motors",
         null
        ],
        [
         "DLR0048",
         "De Tomaso Motors",
         null
        ],
        [
         "DLR0185",
         "SsangYong Motors",
         null
        ],
        [
         "DLR0094",
         "Isotta Fraschini Motors",
         null
        ],
        [
         "DLR0227",
         "Ramani Motors",
         null
        ],
        [
         "DLR0162",
         "Puma Motors",
         null
        ],
        [
         "DLR0145",
         "Opel Motors",
         null
        ],
        [
         "DLR0005",
         "Alpine Motors",
         null
        ],
        [
         "DLR0199",
         "TVR Motors",
         null
        ],
        [
         "DLR0236",
         "Cadillac Automobile Company Building",
         null
        ],
        [
         "DLR0169",
         "SAIC Motor Motors",
         null
        ],
        [
         "DLR0239",
         "Claremore Auto Dealership",
         null
        ],
        [
         "DLR0057",
         "Fiat Motors",
         null
        ],
        [
         "DLR0140",
         "Nissan India Motors",
         null
        ],
        [
         "DLR0152",
         "Perodua Motors",
         null
        ],
        [
         "DLR0112",
         "LTI Motors",
         null
        ],
        [
         "DLR0075",
         "Gumpert Motors",
         null
        ],
        [
         "DLR0210",
         "ZAZ Motors",
         null
        ],
        [
         "DLR0212",
         null,
         null
        ],
        [
         "DLR0138",
         "Naza Motors",
         null
        ],
        [
         "DLR0076",
         "Healey Motors",
         null
        ],
        [
         "DLR0165",
         "Renault Motors",
         null
        ],
        [
         "DLR0091",
         "Invicta Motors",
         null
        ],
        [
         "DLR0226",
         "Das Motors",
         null
        ],
        [
         "DLR0221",
         "Austin  Motors",
         null
        ],
        [
         "DLR0079",
         "Hillman Motors",
         null
        ],
        [
         "DLR0188",
         "Subaru Motors",
         null
        ],
        [
         "DLR0222",
         "Riley  Motors",
         null
        ],
        [
         "DLR0054",
         "Elva Motors",
         null
        ],
        [
         "DLR0023",
         "Bristol Motors",
         null
        ],
        [
         "DLR0034",
         "Chevrolet India Motors",
         null
        ],
        [
         "DLR0250",
         "Aixam-Mega (including Arola) Motors",
         null
        ],
        [
         "DLR0108",
         "Lexus Motors",
         null
        ],
        [
         "DLR0264",
         "Auverland Motors",
         null
        ],
        [
         "DLR0172",
         "San Motors",
         null
        ],
        [
         "DLR0234",
         "Bohn Motor Company Automobile Dealership",
         null
        ],
        [
         "DLR0096",
         "Iveco Motors",
         null
        ],
        [
         "DLR0158",
         "Pontiac, Asüna Motors",
         null
        ],
        [
         "DLR0092",
         "Isdera Motors",
         null
        ],
        [
         "DLR0015",
         "Autobianchi Motors",
         null
        ],
        [
         "DLR0176",
         "Scion Motors",
         null
        ],
        [
         "DLR0168",
         "Saab Motors",
         null
        ],
        [
         "DLR0218",
         "Lagonda  Motors",
         null
        ],
        [
         "DLR0255",
         "Anadol Motors",
         null
        ],
        [
         "DLR0144",
         null,
         null
        ],
        [
         "DLR0114",
         "Lynx Motors",
         null
        ],
        [
         "DLR0184",
         "Spyker Motors",
         null
        ],
        [
         "DLR0018",
         "Bentley Motors",
         null
        ],
        [
         "DLR0257",
         "ARO Motors",
         null
        ],
        [
         "DLR0110",
         "Lincoln Motors",
         null
        ],
        [
         "DLR0046",
         "DeLorean Motors",
         null
        ],
        [
         "DLR0135",
         "Morgan Motors",
         null
        ],
        [
         "DLR0127",
         "Merkur Motors",
         null
        ],
        [
         "DLR0215",
         "Wanderer Motors",
         null
        ],
        [
         "DLR0196",
         "Toyota Motors",
         null
        ],
        [
         "DLR0246",
         "Jones Motor Company",
         null
        ],
        [
         "DLR0220",
         "Morris  Motors",
         null
        ],
        [
         "DLR0071",
         "Ginetta Motors",
         null
        ],
        [
         "DLR0047",
         "DeSoto Motors",
         null
        ],
        [
         "DLR0123",
         "Mazzanti Motors",
         null
        ],
        [
         "DLR0050",
         "Donkervoort Motors",
         null
        ],
        [
         "DLR0113",
         "LuAZ Motors",
         null
        ],
        [
         "DLR0074",
         "GTA Spano Motors",
         null
        ],
        [
         "DLR0209",
         "Zastava Motors",
         null
        ],
        [
         "DLR0087",
         "Hyundai Motors",
         null
        ],
        [
         "DLR0252",
         "Alpine Motors",
         null
        ],
        [
         "DLR0206",
         "Volvo Motors",
         null
        ],
        [
         "DLR0111",
         "Lotus Motors",
         null
        ],
        [
         "DLR0203",
         "Volkswagen Motors",
         null
        ],
        [
         "DLR0194",
         "Tesla Motors",
         null
        ],
        [
         "DLR0006",
         "Alvis Motors",
         null
        ],
        [
         "DLR0100",
         "JPX Motors",
         null
        ],
        [
         "DLR0073",
         "GMC Motors",
         null
        ],
        [
         "DLR0224",
         "Standard  Motors",
         null
        ],
        [
         "DLR0132",
         "Mitsubishi Motors",
         null
        ],
        [
         "DLR0010",
         "ARO Motors",
         null
        ],
        [
         "DLR0082",
         "Honda Motors",
         null
        ],
        [
         "DLR0242",
         "H Street Playhouse",
         null
        ],
        [
         "DLR0041",
         "DAF Motors",
         null
        ],
        [
         "DLR0070",
         "Gilbern Motors",
         null
        ],
        [
         "DLR0058",
         "Fiat do Brasil Motors",
         null
        ],
        [
         "DLR0180",
         "Simca do Brasil Motors",
         null
        ],
        [
         "DLR0267",
         "BMW Motors",
         null
        ],
        [
         "DLR0027",
         "Bugatti Motors",
         null
        ],
        [
         "DLR0223",
         "Wolseley  Motors",
         null
        ],
        [
         "DLR0002",
         "Acura Motors",
         null
        ]
       ],
       "datasetInfos": [],
       "dbfsResultPath": null,
       "isJsonSchema": true,
       "metadata": {},
       "overflow": false,
       "plotOptions": {
        "customPlotOptions": {},
        "displayType": "table",
        "pivotAggregation": null,
        "pivotColumns": null,
        "xColumns": null,
        "yColumns": null
       },
       "removedWidgets": [],
       "schema": [
        {
         "metadata": "{}",
         "name": "Dealer_Id",
         "type": "\"string\""
        },
        {
         "metadata": "{}",
         "name": "DealerName",
         "type": "\"string\""
        },
        {
         "metadata": "{}",
         "name": "dim_dealer_key",
         "type": "\"integer\""
        }
       ],
       "type": "table"
      }
     },
     "output_type": "display_data"
    }
   ],
   "source": [
    "df_new = df_filter.filter(df_filter.dim_dealer_key.isNull())\n",
    "df_new.display()"
   ]
  },
  {
   "cell_type": "markdown",
   "metadata": {
    "application/vnd.databricks.v1+cell": {
     "cellMetadata": {
      "byteLimit": 2048000,
      "rowLimit": 10000
     },
     "inputWidgets": {},
     "nuid": "ec8bd17d-d77f-4fa1-9531-2f6868c10091",
     "showTitle": false,
     "tableResultSettingsMap": {},
     "title": ""
    }
   },
   "source": [
    "surrogate key / dimensional key value setting"
   ]
  },
  {
   "cell_type": "code",
   "execution_count": 0,
   "metadata": {
    "application/vnd.databricks.v1+cell": {
     "cellMetadata": {
      "byteLimit": 2048000,
      "rowLimit": 10000
     },
     "inputWidgets": {},
     "nuid": "7ef2d797-c9d9-4cd7-914c-e8778de8b9ac",
     "showTitle": false,
     "tableResultSettingsMap": {},
     "title": ""
    }
   },
   "outputs": [],
   "source": [
    "if (dbutils.widgets.get('incremental_flag') == '0'):\n",
    "    max_value = 1\n",
    "else:\n",
    "    max_value = spark.sql('''select max(dim_dealer_key) from sales.salesschema.dim_dealer''').collect()[0][0] + 1"
   ]
  },
  {
   "cell_type": "code",
   "execution_count": 0,
   "metadata": {
    "application/vnd.databricks.v1+cell": {
     "cellMetadata": {
      "byteLimit": 2048000,
      "rowLimit": 10000
     },
     "inputWidgets": {},
     "nuid": "d6ff78ae-2c7a-49e4-beb4-50b729559a5b",
     "showTitle": false,
     "tableResultSettingsMap": {},
     "title": ""
    }
   },
   "outputs": [
    {
     "output_type": "execute_result",
     "data": {
      "text/plain": [
       "1"
      ]
     },
     "execution_count": 14,
     "metadata": {},
     "output_type": "execute_result"
    }
   ],
   "source": [
    "max_value"
   ]
  },
  {
   "cell_type": "code",
   "execution_count": 0,
   "metadata": {
    "application/vnd.databricks.v1+cell": {
     "cellMetadata": {
      "byteLimit": 2048000,
      "rowLimit": 10000
     },
     "inputWidgets": {},
     "nuid": "472fc3b7-a1d7-4b14-874a-219ca98365ac",
     "showTitle": false,
     "tableResultSettingsMap": {},
     "title": ""
    }
   },
   "outputs": [
    {
     "output_type": "display_data",
     "data": {
      "text/html": [
       "<style scoped>\n",
       "  .table-result-container {\n",
       "    max-height: 300px;\n",
       "    overflow: auto;\n",
       "  }\n",
       "  table, th, td {\n",
       "    border: 1px solid black;\n",
       "    border-collapse: collapse;\n",
       "  }\n",
       "  th, td {\n",
       "    padding: 5px;\n",
       "  }\n",
       "  th {\n",
       "    text-align: left;\n",
       "  }\n",
       "</style><div class='table-result-container'><table class='table-result'><thead style='background-color: white'><tr><th>Dealer_Id</th><th>DealerName</th><th>dim_dealer_key</th></tr></thead><tbody><tr><td>DLR0095</td><td>Isuzu Motors</td><td>1</td></tr><tr><td>DLR0124</td><td>McLaren Motors</td><td>2</td></tr><tr><td>DLR0245</td><td>Jennings Ford Automobile Dealership</td><td>3</td></tr><tr><td>DLR0171</td><td>Samsung Motors</td><td>4</td></tr><tr><td>DLR0052</td><td>e.GO Mobile Motors</td><td>5</td></tr><tr><td>DLR0175</td><td>Saturn Motors</td><td>6</td></tr><tr><td>DLR0080</td><td>Hindustan Motors</td><td>7</td></tr><tr><td>DLR0263</td><td>Auto-Union Motors</td><td>8</td></tr><tr><td>DLR0066</td><td>Freightliner Motors</td><td>9</td></tr><tr><td>DLR0258</td><td>null</td><td>10</td></tr><tr><td>DLR0007</td><td>AMC, Eagle Motors</td><td>11</td></tr><tr><td>DLR0141</td><td>Noble Motors</td><td>12</td></tr><tr><td>DLR0251</td><td>Alfa Romeo Motors</td><td>13</td></tr><tr><td>DLR0038</td><td>Cizeta-Moroder Motors</td><td>14</td></tr><tr><td>DLR0155</td><td>Piaggio Motors</td><td>15</td></tr><tr><td>DLR0013</td><td>Aston Martin Motors</td><td>16</td></tr><tr><td>DLR0049</td><td>Dodge Motors</td><td>17</td></tr><tr><td>DLR0055</td><td>Facel Vega Motors</td><td>18</td></tr><tr><td>DLR0129</td><td>Mia Motors</td><td>19</td></tr><tr><td>DLR0183</td><td>Smart Motors</td><td>20</td></tr><tr><td>DLR0177</td><td>Seat Motors</td><td>21</td></tr><tr><td>DLR0229</td><td>Herald Motors</td><td>22</td></tr><tr><td>DLR0149</td><td>Panoz Motors</td><td>23</td></tr><tr><td>DLR0170</td><td>Saleen Motors</td><td>24</td></tr><tr><td>DLR0213</td><td>DKW Motors</td><td>25</td></tr><tr><td>DLR0077</td><td>Heinkel Motors</td><td>26</td></tr><tr><td>DLR0238</td><td>Cass Motor Sales</td><td>27</td></tr><tr><td>DLR0253</td><td>Alvis Motors</td><td>28</td></tr><tr><td>DLR0115</td><td>Mahindra Motors</td><td>29</td></tr><tr><td>DLR0219</td><td>MG  Motors</td><td>30</td></tr><tr><td>DLR0166</td><td>Rivian Motors</td><td>31</td></tr><tr><td>DLR0262</td><td>Autobianchi Motors</td><td>32</td></tr><tr><td>DLR0099</td><td>Jensen Motors</td><td>33</td></tr><tr><td>DLR0159</td><td>Porsche Motors</td><td>34</td></tr><tr><td>DLR0118</td><td>Maruti Motors</td><td>35</td></tr><tr><td>DLR0259</td><td>Asia Motors Motors</td><td>36</td></tr><tr><td>DLR0241</td><td>Colman Automotive Building</td><td>37</td></tr><tr><td>DLR0207</td><td>Westfield Motors</td><td>38</td></tr><tr><td>DLR0163</td><td>Ranger Motors</td><td>39</td></tr><tr><td>DLR0157</td><td>Polestar Motors</td><td>40</td></tr><tr><td>DLR0133</td><td>Monica Motors</td><td>41</td></tr><tr><td>DLR0167</td><td>Rolls-Royce Motors</td><td>42</td></tr><tr><td>DLR0086</td><td>Hummer Motors</td><td>43</td></tr><tr><td>DLR0174</td><td>Santana Motors</td><td>44</td></tr><tr><td>DLR0147</td><td>Pagani Motors</td><td>45</td></tr><tr><td>DLR0193</td><td>Tazzari Motors</td><td>46</td></tr><tr><td>DLR0134</td><td>Monteverdi Motors</td><td>47</td></tr><tr><td>DLR0148</td><td>Panhard Motors</td><td>48</td></tr><tr><td>DLR0084</td><td>Hudson Motors</td><td>49</td></tr><tr><td>DLR0235</td><td>Buick Automobile Company Building</td><td>50</td></tr><tr><td>DLR0037</td><td>Citroën Motors</td><td>51</td></tr><tr><td>DLR0051</td><td>Edsel Motors</td><td>52</td></tr><tr><td>DLR0237</td><td>Casa de cadillac</td><td>53</td></tr><tr><td>DLR0021</td><td>Bond Motors</td><td>54</td></tr><tr><td>DLR0064</td><td>Ford Europe Motors</td><td>55</td></tr><tr><td>DLR0109</td><td>Ligier Motors</td><td>56</td></tr><tr><td>DLR0101</td><td>Kia Motors</td><td>57</td></tr><tr><td>DLR0045</td><td>Delahaye Motors</td><td>58</td></tr><tr><td>DLR0265</td><td>Bentley Motors</td><td>59</td></tr><tr><td>DLR0035</td><td>Chrysler Motors</td><td>60</td></tr><tr><td>DLR0153</td><td>Peugeot Motors</td><td>61</td></tr><tr><td>DLR0019</td><td>Bitter Motors</td><td>62</td></tr><tr><td>DLR0088</td><td>IFA (including Trabant, Wartburg, Barkas) Motors</td><td>63</td></tr><tr><td>DLR0083</td><td>Honda India Motors</td><td>64</td></tr><tr><td>DLR0120</td><td>Mastretta Motors</td><td>65</td></tr><tr><td>DLR0191</td><td>Tata Motors</td><td>66</td></tr><tr><td>DLR0216</td><td>Maybach  Motors</td><td>67</td></tr><tr><td>DLR0200</td><td>UAZ Motors</td><td>68</td></tr><tr><td>DLR0186</td><td>Standard-Triumph Motors</td><td>69</td></tr><tr><td>DLR0173</td><td>Santa Matilde Motors</td><td>70</td></tr><tr><td>DLR0121</td><td>Matra (including Deutsch-Bonnet, René Bonnet) Motors</td><td>71</td></tr><tr><td>DLR0103</td><td>KTM Motors</td><td>72</td></tr><tr><td>DLR0131</td><td>Mini Motors</td><td>73</td></tr><tr><td>DLR0122</td><td>Mazda Motors</td><td>74</td></tr><tr><td>DLR0011</td><td>Artega Motors</td><td>75</td></tr><tr><td>DLR0143</td><td>Oldsmobile Motors</td><td>76</td></tr><tr><td>DLR0261</td><td>Audi Motors</td><td>77</td></tr><tr><td>DLR0156</td><td>Plymouth Motors</td><td>78</td></tr><tr><td>DLR0178</td><td>Shelby SuperCars Motors</td><td>79</td></tr><tr><td>DLR0026</td><td>Austin, Rover Motors</td><td>80</td></tr><tr><td>DLR0030</td><td>Cadillac Motors</td><td>81</td></tr><tr><td>DLR0106</td><td>Lancia Motors</td><td>82</td></tr><tr><td>DLR0247</td><td>Kindel Building</td><td>83</td></tr><tr><td>DLR0107</td><td>Land Rover Motors</td><td>84</td></tr><tr><td>DLR0067</td><td>FSO Motors</td><td>85</td></tr><tr><td>DLR0061</td><td>Ford America Motors</td><td>86</td></tr><tr><td>DLR0230</td><td>Zion Automobils</td><td>87</td></tr><tr><td>DLR0032</td><td>Checker Motors</td><td>88</td></tr><tr><td>DLR0201</td><td>Vauxhall Motors</td><td>89</td></tr><tr><td>DLR0014</td><td>Audi Motors</td><td>90</td></tr><tr><td>DLR0256</td><td>Ariel Motors</td><td>91</td></tr><tr><td>DLR0161</td><td>Proton Motors</td><td>92</td></tr><tr><td>DLR0078</td><td>Hennessey Motors</td><td>93</td></tr><tr><td>DLR0063</td><td>Ford do Brasil Motors</td><td>94</td></tr><tr><td>DLR0214</td><td>Horch Motors</td><td>95</td></tr><tr><td>DLR0202</td><td>Venturi Motors</td><td>96</td></tr><tr><td>DLR0195</td><td>Tornado Motors</td><td>97</td></tr><tr><td>DLR0240</td><td>Clemens Automobile Company Building</td><td>98</td></tr><tr><td>DLR0090</td><td>null</td><td>99</td></tr><tr><td>DLR0017</td><td>Auverland Motors</td><td>100</td></tr><tr><td>DLR0211</td><td>ZIL Motors</td><td>101</td></tr><tr><td>DLR0154</td><td>PGO Motors</td><td>102</td></tr><tr><td>DLR0243</td><td>Howard Motor Company Building</td><td>103</td></tr><tr><td>DLR0181</td><td>Singer Motors</td><td>104</td></tr><tr><td>DLR0044</td><td>null</td><td>105</td></tr><tr><td>DLR0254</td><td>AMC, Eagle Motors</td><td>106</td></tr><tr><td>DLR0031</td><td>Caterham Motors</td><td>107</td></tr><tr><td>DLR0142</td><td>NSU Motors</td><td>108</td></tr><tr><td>DLR0136</td><td>Moskwitch Motors</td><td>109</td></tr><tr><td>DLR0012</td><td>Asia Motors Motors</td><td>110</td></tr><tr><td>DLR0053</td><td>Eicher Polaris Motors</td><td>111</td></tr><tr><td>DLR0179</td><td>Simca Motors</td><td>112</td></tr><tr><td>DLR0025</td><td>Austin-Healey Motors</td><td>113</td></tr><tr><td>DLR0197</td><td>Toyota India Motors</td><td>114</td></tr><tr><td>DLR0198</td><td>Turner Motors</td><td>115</td></tr><tr><td>DLR0039</td><td>Dacia Motors</td><td>116</td></tr><tr><td>DLR0029</td><td>Bytom Motors</td><td>117</td></tr><tr><td>DLR0001</td><td>AC Cars Motors</td><td>118</td></tr><tr><td>DLR0043</td><td>Daimler Motors</td><td>119</td></tr><tr><td>DLR0125</td><td>Mercedes-Benz (including Maybach) Motors</td><td>120</td></tr><tr><td>DLR0060</td><td>Fisker, Karma Motors</td><td>121</td></tr><tr><td>DLR0004</td><td>Alfa Romeo Motors</td><td>122</td></tr><tr><td>DLR0249</td><td>Acura Motors</td><td>123</td></tr><tr><td>DLR0130</td><td>Micro Motors</td><td>124</td></tr><tr><td>DLR0028</td><td>Buick Motors</td><td>125</td></tr><tr><td>DLR0231</td><td>Atlantic Motor Company</td><td>126</td></tr><tr><td>DLR0139</td><td>Nissan Motors</td><td>127</td></tr><tr><td>DLR0003</td><td>Aixam-Mega (including Arola) Motors</td><td>128</td></tr><tr><td>DLR0069</td><td>Geo Motors</td><td>129</td></tr><tr><td>DLR0102</td><td>Koenigsegg Motors</td><td>130</td></tr><tr><td>DLR0208</td><td>Wiesmann Motors</td><td>131</td></tr><tr><td>DLR0232</td><td>2008 NRHP-listed</td><td>132</td></tr><tr><td>DLR0205</td><td>Volkswagen South Africa Motors</td><td>133</td></tr><tr><td>DLR0137</td><td>Nash Motors</td><td>134</td></tr><tr><td>DLR0042</td><td>Daihatsu Motors</td><td>135</td></tr><tr><td>DLR0105</td><td>Lamborghini Motors</td><td>136</td></tr><tr><td>DLR0126</td><td>Mercury Motors</td><td>137</td></tr><tr><td>DLR0016</td><td>Auto-Union Motors</td><td>138</td></tr><tr><td>DLR0248</td><td>AC Cars Motors</td><td>139</td></tr><tr><td>DLR0065</td><td>Ford India Motors</td><td>140</td></tr><tr><td>DLR0151</td><td>Peel Motors</td><td>141</td></tr><tr><td>DLR0068</td><td>GAZ Motors</td><td>142</td></tr><tr><td>DLR0192</td><td>Tatra Motors</td><td>143</td></tr><tr><td>DLR0244</td><td>Hupmobile Building</td><td>144</td></tr><tr><td>DLR0072</td><td>Glas Motors</td><td>145</td></tr><tr><td>DLR0009</td><td>Ariel Motors</td><td>146</td></tr><tr><td>DLR0093</td><td>Iso Motors</td><td>147</td></tr><tr><td>DLR0098</td><td>Jeep Motors</td><td>148</td></tr><tr><td>DLR0233</td><td>Blankinship Motor Company Building</td><td>149</td></tr><tr><td>DLR0097</td><td>Jaguar Motors</td><td>150</td></tr><tr><td>DLR0160</td><td>Premier Motors</td><td>151</td></tr><tr><td>DLR0024</td><td>British Leyland Motors</td><td>152</td></tr><tr><td>DLR0085</td><td>Humber Motors</td><td>153</td></tr><tr><td>DLR0036</td><td>Chrysler Europe Motors</td><td>154</td></tr><tr><td>DLR0008</td><td>Anadol Motors</td><td>155</td></tr><tr><td>DLR0204</td><td>Volkswagen do Brasil Motors</td><td>156</td></tr><tr><td>DLR0116</td><td>Marcos Motors</td><td>157</td></tr><tr><td>DLR0146</td><td>Packard Motors</td><td>158</td></tr><tr><td>DLR0182</td><td>Skoda Motors</td><td>159</td></tr><tr><td>DLR0150</td><td>Panther Motors</td><td>160</td></tr><tr><td>DLR0225</td><td>Talbot  Motors</td><td>161</td></tr><tr><td>DLR0033</td><td>Chevrolet Motors</td><td>162</td></tr><tr><td>DLR0190</td><td>Suzuki Motors</td><td>163</td></tr><tr><td>DLR0117</td><td>Marlin Motors</td><td>164</td></tr><tr><td>DLR0164</td><td>Reliant Motors</td><td>165</td></tr><tr><td>DLR0089</td><td>Infiniti Motors</td><td>166</td></tr><tr><td>DLR0266</td><td>Bitter Motors</td><td>167</td></tr><tr><td>DLR0040</td><td>Daewoo, Saehan, Chevrolet Korea Motors</td><td>168</td></tr><tr><td>DLR0260</td><td>Aston Martin Motors</td><td>169</td></tr><tr><td>DLR0020</td><td>BMW Motors</td><td>170</td></tr><tr><td>DLR0128</td><td>Messerschmitt Motors</td><td>171</td></tr><tr><td>DLR0187</td><td>Studebaker Motors</td><td>172</td></tr><tr><td>DLR0056</td><td>Ferrari Motors</td><td>173</td></tr><tr><td>DLR0059</td><td>Fiat India Motors</td><td>174</td></tr><tr><td>DLR0022</td><td>Borgward (including Goliath and Lloyd) Motors</td><td>175</td></tr><tr><td>DLR0217</td><td>Izh  Motors</td><td>176</td></tr><tr><td>DLR0062</td><td>Ford Australia Motors</td><td>177</td></tr><tr><td>DLR0081</td><td>Holden Motors</td><td>178</td></tr><tr><td>DLR0228</td><td>Deccan Motors</td><td>179</td></tr><tr><td>DLR0104</td><td>Lada Motors</td><td>180</td></tr><tr><td>DLR0119</td><td>Maserati Motors</td><td>181</td></tr><tr><td>DLR0189</td><td>Sunbeam Motors</td><td>182</td></tr><tr><td>DLR0048</td><td>De Tomaso Motors</td><td>183</td></tr><tr><td>DLR0185</td><td>SsangYong Motors</td><td>184</td></tr><tr><td>DLR0094</td><td>Isotta Fraschini Motors</td><td>185</td></tr><tr><td>DLR0227</td><td>Ramani Motors</td><td>186</td></tr><tr><td>DLR0162</td><td>Puma Motors</td><td>187</td></tr><tr><td>DLR0145</td><td>Opel Motors</td><td>188</td></tr><tr><td>DLR0005</td><td>Alpine Motors</td><td>189</td></tr><tr><td>DLR0199</td><td>TVR Motors</td><td>190</td></tr><tr><td>DLR0236</td><td>Cadillac Automobile Company Building</td><td>191</td></tr><tr><td>DLR0169</td><td>SAIC Motor Motors</td><td>192</td></tr><tr><td>DLR0239</td><td>Claremore Auto Dealership</td><td>193</td></tr><tr><td>DLR0057</td><td>Fiat Motors</td><td>194</td></tr><tr><td>DLR0140</td><td>Nissan India Motors</td><td>195</td></tr><tr><td>DLR0152</td><td>Perodua Motors</td><td>196</td></tr><tr><td>DLR0112</td><td>LTI Motors</td><td>197</td></tr><tr><td>DLR0075</td><td>Gumpert Motors</td><td>198</td></tr><tr><td>DLR0210</td><td>ZAZ Motors</td><td>199</td></tr><tr><td>DLR0212</td><td>null</td><td>200</td></tr><tr><td>DLR0138</td><td>Naza Motors</td><td>201</td></tr><tr><td>DLR0076</td><td>Healey Motors</td><td>202</td></tr><tr><td>DLR0165</td><td>Renault Motors</td><td>203</td></tr><tr><td>DLR0091</td><td>Invicta Motors</td><td>204</td></tr><tr><td>DLR0226</td><td>Das Motors</td><td>205</td></tr><tr><td>DLR0221</td><td>Austin  Motors</td><td>206</td></tr><tr><td>DLR0079</td><td>Hillman Motors</td><td>207</td></tr><tr><td>DLR0188</td><td>Subaru Motors</td><td>208</td></tr><tr><td>DLR0222</td><td>Riley  Motors</td><td>209</td></tr><tr><td>DLR0054</td><td>Elva Motors</td><td>210</td></tr><tr><td>DLR0023</td><td>Bristol Motors</td><td>211</td></tr><tr><td>DLR0034</td><td>Chevrolet India Motors</td><td>212</td></tr><tr><td>DLR0250</td><td>Aixam-Mega (including Arola) Motors</td><td>213</td></tr><tr><td>DLR0108</td><td>Lexus Motors</td><td>214</td></tr><tr><td>DLR0264</td><td>Auverland Motors</td><td>215</td></tr><tr><td>DLR0172</td><td>San Motors</td><td>216</td></tr><tr><td>DLR0234</td><td>Bohn Motor Company Automobile Dealership</td><td>217</td></tr><tr><td>DLR0096</td><td>Iveco Motors</td><td>218</td></tr><tr><td>DLR0158</td><td>Pontiac, Asüna Motors</td><td>219</td></tr><tr><td>DLR0092</td><td>Isdera Motors</td><td>220</td></tr><tr><td>DLR0015</td><td>Autobianchi Motors</td><td>221</td></tr><tr><td>DLR0176</td><td>Scion Motors</td><td>222</td></tr><tr><td>DLR0168</td><td>Saab Motors</td><td>223</td></tr><tr><td>DLR0218</td><td>Lagonda  Motors</td><td>224</td></tr><tr><td>DLR0255</td><td>Anadol Motors</td><td>225</td></tr><tr><td>DLR0144</td><td>null</td><td>226</td></tr><tr><td>DLR0114</td><td>Lynx Motors</td><td>227</td></tr><tr><td>DLR0184</td><td>Spyker Motors</td><td>228</td></tr><tr><td>DLR0018</td><td>Bentley Motors</td><td>229</td></tr><tr><td>DLR0257</td><td>ARO Motors</td><td>230</td></tr><tr><td>DLR0110</td><td>Lincoln Motors</td><td>231</td></tr><tr><td>DLR0046</td><td>DeLorean Motors</td><td>232</td></tr><tr><td>DLR0135</td><td>Morgan Motors</td><td>233</td></tr><tr><td>DLR0127</td><td>Merkur Motors</td><td>234</td></tr><tr><td>DLR0215</td><td>Wanderer Motors</td><td>235</td></tr><tr><td>DLR0196</td><td>Toyota Motors</td><td>236</td></tr><tr><td>DLR0246</td><td>Jones Motor Company</td><td>237</td></tr><tr><td>DLR0220</td><td>Morris  Motors</td><td>238</td></tr><tr><td>DLR0071</td><td>Ginetta Motors</td><td>239</td></tr><tr><td>DLR0047</td><td>DeSoto Motors</td><td>240</td></tr><tr><td>DLR0123</td><td>Mazzanti Motors</td><td>241</td></tr><tr><td>DLR0050</td><td>Donkervoort Motors</td><td>242</td></tr><tr><td>DLR0113</td><td>LuAZ Motors</td><td>243</td></tr><tr><td>DLR0074</td><td>GTA Spano Motors</td><td>244</td></tr><tr><td>DLR0209</td><td>Zastava Motors</td><td>245</td></tr><tr><td>DLR0087</td><td>Hyundai Motors</td><td>246</td></tr><tr><td>DLR0252</td><td>Alpine Motors</td><td>247</td></tr><tr><td>DLR0206</td><td>Volvo Motors</td><td>248</td></tr><tr><td>DLR0111</td><td>Lotus Motors</td><td>249</td></tr><tr><td>DLR0203</td><td>Volkswagen Motors</td><td>250</td></tr><tr><td>DLR0194</td><td>Tesla Motors</td><td>251</td></tr><tr><td>DLR0006</td><td>Alvis Motors</td><td>252</td></tr><tr><td>DLR0100</td><td>JPX Motors</td><td>253</td></tr><tr><td>DLR0073</td><td>GMC Motors</td><td>254</td></tr><tr><td>DLR0224</td><td>Standard  Motors</td><td>255</td></tr><tr><td>DLR0132</td><td>Mitsubishi Motors</td><td>256</td></tr><tr><td>DLR0010</td><td>ARO Motors</td><td>257</td></tr><tr><td>DLR0082</td><td>Honda Motors</td><td>258</td></tr><tr><td>DLR0242</td><td>H Street Playhouse</td><td>259</td></tr><tr><td>DLR0041</td><td>DAF Motors</td><td>260</td></tr><tr><td>DLR0070</td><td>Gilbern Motors</td><td>261</td></tr><tr><td>DLR0058</td><td>Fiat do Brasil Motors</td><td>262</td></tr><tr><td>DLR0180</td><td>Simca do Brasil Motors</td><td>263</td></tr><tr><td>DLR0267</td><td>BMW Motors</td><td>264</td></tr><tr><td>DLR0027</td><td>Bugatti Motors</td><td>265</td></tr><tr><td>DLR0223</td><td>Wolseley  Motors</td><td>266</td></tr><tr><td>DLR0002</td><td>Acura Motors</td><td>267</td></tr></tbody></table></div>"
      ]
     },
     "metadata": {
      "application/vnd.databricks.v1+output": {
       "addedWidgets": {},
       "aggData": [],
       "aggError": "",
       "aggOverflow": false,
       "aggSchema": [],
       "aggSeriesLimitReached": false,
       "aggType": "",
       "arguments": {},
       "columnCustomDisplayInfos": {},
       "data": [
        [
         "DLR0095",
         "Isuzu Motors",
         1
        ],
        [
         "DLR0124",
         "McLaren Motors",
         2
        ],
        [
         "DLR0245",
         "Jennings Ford Automobile Dealership",
         3
        ],
        [
         "DLR0171",
         "Samsung Motors",
         4
        ],
        [
         "DLR0052",
         "e.GO Mobile Motors",
         5
        ],
        [
         "DLR0175",
         "Saturn Motors",
         6
        ],
        [
         "DLR0080",
         "Hindustan Motors",
         7
        ],
        [
         "DLR0263",
         "Auto-Union Motors",
         8
        ],
        [
         "DLR0066",
         "Freightliner Motors",
         9
        ],
        [
         "DLR0258",
         null,
         10
        ],
        [
         "DLR0007",
         "AMC, Eagle Motors",
         11
        ],
        [
         "DLR0141",
         "Noble Motors",
         12
        ],
        [
         "DLR0251",
         "Alfa Romeo Motors",
         13
        ],
        [
         "DLR0038",
         "Cizeta-Moroder Motors",
         14
        ],
        [
         "DLR0155",
         "Piaggio Motors",
         15
        ],
        [
         "DLR0013",
         "Aston Martin Motors",
         16
        ],
        [
         "DLR0049",
         "Dodge Motors",
         17
        ],
        [
         "DLR0055",
         "Facel Vega Motors",
         18
        ],
        [
         "DLR0129",
         "Mia Motors",
         19
        ],
        [
         "DLR0183",
         "Smart Motors",
         20
        ],
        [
         "DLR0177",
         "Seat Motors",
         21
        ],
        [
         "DLR0229",
         "Herald Motors",
         22
        ],
        [
         "DLR0149",
         "Panoz Motors",
         23
        ],
        [
         "DLR0170",
         "Saleen Motors",
         24
        ],
        [
         "DLR0213",
         "DKW Motors",
         25
        ],
        [
         "DLR0077",
         "Heinkel Motors",
         26
        ],
        [
         "DLR0238",
         "Cass Motor Sales",
         27
        ],
        [
         "DLR0253",
         "Alvis Motors",
         28
        ],
        [
         "DLR0115",
         "Mahindra Motors",
         29
        ],
        [
         "DLR0219",
         "MG  Motors",
         30
        ],
        [
         "DLR0166",
         "Rivian Motors",
         31
        ],
        [
         "DLR0262",
         "Autobianchi Motors",
         32
        ],
        [
         "DLR0099",
         "Jensen Motors",
         33
        ],
        [
         "DLR0159",
         "Porsche Motors",
         34
        ],
        [
         "DLR0118",
         "Maruti Motors",
         35
        ],
        [
         "DLR0259",
         "Asia Motors Motors",
         36
        ],
        [
         "DLR0241",
         "Colman Automotive Building",
         37
        ],
        [
         "DLR0207",
         "Westfield Motors",
         38
        ],
        [
         "DLR0163",
         "Ranger Motors",
         39
        ],
        [
         "DLR0157",
         "Polestar Motors",
         40
        ],
        [
         "DLR0133",
         "Monica Motors",
         41
        ],
        [
         "DLR0167",
         "Rolls-Royce Motors",
         42
        ],
        [
         "DLR0086",
         "Hummer Motors",
         43
        ],
        [
         "DLR0174",
         "Santana Motors",
         44
        ],
        [
         "DLR0147",
         "Pagani Motors",
         45
        ],
        [
         "DLR0193",
         "Tazzari Motors",
         46
        ],
        [
         "DLR0134",
         "Monteverdi Motors",
         47
        ],
        [
         "DLR0148",
         "Panhard Motors",
         48
        ],
        [
         "DLR0084",
         "Hudson Motors",
         49
        ],
        [
         "DLR0235",
         "Buick Automobile Company Building",
         50
        ],
        [
         "DLR0037",
         "Citroën Motors",
         51
        ],
        [
         "DLR0051",
         "Edsel Motors",
         52
        ],
        [
         "DLR0237",
         "Casa de cadillac",
         53
        ],
        [
         "DLR0021",
         "Bond Motors",
         54
        ],
        [
         "DLR0064",
         "Ford Europe Motors",
         55
        ],
        [
         "DLR0109",
         "Ligier Motors",
         56
        ],
        [
         "DLR0101",
         "Kia Motors",
         57
        ],
        [
         "DLR0045",
         "Delahaye Motors",
         58
        ],
        [
         "DLR0265",
         "Bentley Motors",
         59
        ],
        [
         "DLR0035",
         "Chrysler Motors",
         60
        ],
        [
         "DLR0153",
         "Peugeot Motors",
         61
        ],
        [
         "DLR0019",
         "Bitter Motors",
         62
        ],
        [
         "DLR0088",
         "IFA (including Trabant, Wartburg, Barkas) Motors",
         63
        ],
        [
         "DLR0083",
         "Honda India Motors",
         64
        ],
        [
         "DLR0120",
         "Mastretta Motors",
         65
        ],
        [
         "DLR0191",
         "Tata Motors",
         66
        ],
        [
         "DLR0216",
         "Maybach  Motors",
         67
        ],
        [
         "DLR0200",
         "UAZ Motors",
         68
        ],
        [
         "DLR0186",
         "Standard-Triumph Motors",
         69
        ],
        [
         "DLR0173",
         "Santa Matilde Motors",
         70
        ],
        [
         "DLR0121",
         "Matra (including Deutsch-Bonnet, René Bonnet) Motors",
         71
        ],
        [
         "DLR0103",
         "KTM Motors",
         72
        ],
        [
         "DLR0131",
         "Mini Motors",
         73
        ],
        [
         "DLR0122",
         "Mazda Motors",
         74
        ],
        [
         "DLR0011",
         "Artega Motors",
         75
        ],
        [
         "DLR0143",
         "Oldsmobile Motors",
         76
        ],
        [
         "DLR0261",
         "Audi Motors",
         77
        ],
        [
         "DLR0156",
         "Plymouth Motors",
         78
        ],
        [
         "DLR0178",
         "Shelby SuperCars Motors",
         79
        ],
        [
         "DLR0026",
         "Austin, Rover Motors",
         80
        ],
        [
         "DLR0030",
         "Cadillac Motors",
         81
        ],
        [
         "DLR0106",
         "Lancia Motors",
         82
        ],
        [
         "DLR0247",
         "Kindel Building",
         83
        ],
        [
         "DLR0107",
         "Land Rover Motors",
         84
        ],
        [
         "DLR0067",
         "FSO Motors",
         85
        ],
        [
         "DLR0061",
         "Ford America Motors",
         86
        ],
        [
         "DLR0230",
         "Zion Automobils",
         87
        ],
        [
         "DLR0032",
         "Checker Motors",
         88
        ],
        [
         "DLR0201",
         "Vauxhall Motors",
         89
        ],
        [
         "DLR0014",
         "Audi Motors",
         90
        ],
        [
         "DLR0256",
         "Ariel Motors",
         91
        ],
        [
         "DLR0161",
         "Proton Motors",
         92
        ],
        [
         "DLR0078",
         "Hennessey Motors",
         93
        ],
        [
         "DLR0063",
         "Ford do Brasil Motors",
         94
        ],
        [
         "DLR0214",
         "Horch Motors",
         95
        ],
        [
         "DLR0202",
         "Venturi Motors",
         96
        ],
        [
         "DLR0195",
         "Tornado Motors",
         97
        ],
        [
         "DLR0240",
         "Clemens Automobile Company Building",
         98
        ],
        [
         "DLR0090",
         null,
         99
        ],
        [
         "DLR0017",
         "Auverland Motors",
         100
        ],
        [
         "DLR0211",
         "ZIL Motors",
         101
        ],
        [
         "DLR0154",
         "PGO Motors",
         102
        ],
        [
         "DLR0243",
         "Howard Motor Company Building",
         103
        ],
        [
         "DLR0181",
         "Singer Motors",
         104
        ],
        [
         "DLR0044",
         null,
         105
        ],
        [
         "DLR0254",
         "AMC, Eagle Motors",
         106
        ],
        [
         "DLR0031",
         "Caterham Motors",
         107
        ],
        [
         "DLR0142",
         "NSU Motors",
         108
        ],
        [
         "DLR0136",
         "Moskwitch Motors",
         109
        ],
        [
         "DLR0012",
         "Asia Motors Motors",
         110
        ],
        [
         "DLR0053",
         "Eicher Polaris Motors",
         111
        ],
        [
         "DLR0179",
         "Simca Motors",
         112
        ],
        [
         "DLR0025",
         "Austin-Healey Motors",
         113
        ],
        [
         "DLR0197",
         "Toyota India Motors",
         114
        ],
        [
         "DLR0198",
         "Turner Motors",
         115
        ],
        [
         "DLR0039",
         "Dacia Motors",
         116
        ],
        [
         "DLR0029",
         "Bytom Motors",
         117
        ],
        [
         "DLR0001",
         "AC Cars Motors",
         118
        ],
        [
         "DLR0043",
         "Daimler Motors",
         119
        ],
        [
         "DLR0125",
         "Mercedes-Benz (including Maybach) Motors",
         120
        ],
        [
         "DLR0060",
         "Fisker, Karma Motors",
         121
        ],
        [
         "DLR0004",
         "Alfa Romeo Motors",
         122
        ],
        [
         "DLR0249",
         "Acura Motors",
         123
        ],
        [
         "DLR0130",
         "Micro Motors",
         124
        ],
        [
         "DLR0028",
         "Buick Motors",
         125
        ],
        [
         "DLR0231",
         "Atlantic Motor Company",
         126
        ],
        [
         "DLR0139",
         "Nissan Motors",
         127
        ],
        [
         "DLR0003",
         "Aixam-Mega (including Arola) Motors",
         128
        ],
        [
         "DLR0069",
         "Geo Motors",
         129
        ],
        [
         "DLR0102",
         "Koenigsegg Motors",
         130
        ],
        [
         "DLR0208",
         "Wiesmann Motors",
         131
        ],
        [
         "DLR0232",
         "2008 NRHP-listed",
         132
        ],
        [
         "DLR0205",
         "Volkswagen South Africa Motors",
         133
        ],
        [
         "DLR0137",
         "Nash Motors",
         134
        ],
        [
         "DLR0042",
         "Daihatsu Motors",
         135
        ],
        [
         "DLR0105",
         "Lamborghini Motors",
         136
        ],
        [
         "DLR0126",
         "Mercury Motors",
         137
        ],
        [
         "DLR0016",
         "Auto-Union Motors",
         138
        ],
        [
         "DLR0248",
         "AC Cars Motors",
         139
        ],
        [
         "DLR0065",
         "Ford India Motors",
         140
        ],
        [
         "DLR0151",
         "Peel Motors",
         141
        ],
        [
         "DLR0068",
         "GAZ Motors",
         142
        ],
        [
         "DLR0192",
         "Tatra Motors",
         143
        ],
        [
         "DLR0244",
         "Hupmobile Building",
         144
        ],
        [
         "DLR0072",
         "Glas Motors",
         145
        ],
        [
         "DLR0009",
         "Ariel Motors",
         146
        ],
        [
         "DLR0093",
         "Iso Motors",
         147
        ],
        [
         "DLR0098",
         "Jeep Motors",
         148
        ],
        [
         "DLR0233",
         "Blankinship Motor Company Building",
         149
        ],
        [
         "DLR0097",
         "Jaguar Motors",
         150
        ],
        [
         "DLR0160",
         "Premier Motors",
         151
        ],
        [
         "DLR0024",
         "British Leyland Motors",
         152
        ],
        [
         "DLR0085",
         "Humber Motors",
         153
        ],
        [
         "DLR0036",
         "Chrysler Europe Motors",
         154
        ],
        [
         "DLR0008",
         "Anadol Motors",
         155
        ],
        [
         "DLR0204",
         "Volkswagen do Brasil Motors",
         156
        ],
        [
         "DLR0116",
         "Marcos Motors",
         157
        ],
        [
         "DLR0146",
         "Packard Motors",
         158
        ],
        [
         "DLR0182",
         "Skoda Motors",
         159
        ],
        [
         "DLR0150",
         "Panther Motors",
         160
        ],
        [
         "DLR0225",
         "Talbot  Motors",
         161
        ],
        [
         "DLR0033",
         "Chevrolet Motors",
         162
        ],
        [
         "DLR0190",
         "Suzuki Motors",
         163
        ],
        [
         "DLR0117",
         "Marlin Motors",
         164
        ],
        [
         "DLR0164",
         "Reliant Motors",
         165
        ],
        [
         "DLR0089",
         "Infiniti Motors",
         166
        ],
        [
         "DLR0266",
         "Bitter Motors",
         167
        ],
        [
         "DLR0040",
         "Daewoo, Saehan, Chevrolet Korea Motors",
         168
        ],
        [
         "DLR0260",
         "Aston Martin Motors",
         169
        ],
        [
         "DLR0020",
         "BMW Motors",
         170
        ],
        [
         "DLR0128",
         "Messerschmitt Motors",
         171
        ],
        [
         "DLR0187",
         "Studebaker Motors",
         172
        ],
        [
         "DLR0056",
         "Ferrari Motors",
         173
        ],
        [
         "DLR0059",
         "Fiat India Motors",
         174
        ],
        [
         "DLR0022",
         "Borgward (including Goliath and Lloyd) Motors",
         175
        ],
        [
         "DLR0217",
         "Izh  Motors",
         176
        ],
        [
         "DLR0062",
         "Ford Australia Motors",
         177
        ],
        [
         "DLR0081",
         "Holden Motors",
         178
        ],
        [
         "DLR0228",
         "Deccan Motors",
         179
        ],
        [
         "DLR0104",
         "Lada Motors",
         180
        ],
        [
         "DLR0119",
         "Maserati Motors",
         181
        ],
        [
         "DLR0189",
         "Sunbeam Motors",
         182
        ],
        [
         "DLR0048",
         "De Tomaso Motors",
         183
        ],
        [
         "DLR0185",
         "SsangYong Motors",
         184
        ],
        [
         "DLR0094",
         "Isotta Fraschini Motors",
         185
        ],
        [
         "DLR0227",
         "Ramani Motors",
         186
        ],
        [
         "DLR0162",
         "Puma Motors",
         187
        ],
        [
         "DLR0145",
         "Opel Motors",
         188
        ],
        [
         "DLR0005",
         "Alpine Motors",
         189
        ],
        [
         "DLR0199",
         "TVR Motors",
         190
        ],
        [
         "DLR0236",
         "Cadillac Automobile Company Building",
         191
        ],
        [
         "DLR0169",
         "SAIC Motor Motors",
         192
        ],
        [
         "DLR0239",
         "Claremore Auto Dealership",
         193
        ],
        [
         "DLR0057",
         "Fiat Motors",
         194
        ],
        [
         "DLR0140",
         "Nissan India Motors",
         195
        ],
        [
         "DLR0152",
         "Perodua Motors",
         196
        ],
        [
         "DLR0112",
         "LTI Motors",
         197
        ],
        [
         "DLR0075",
         "Gumpert Motors",
         198
        ],
        [
         "DLR0210",
         "ZAZ Motors",
         199
        ],
        [
         "DLR0212",
         null,
         200
        ],
        [
         "DLR0138",
         "Naza Motors",
         201
        ],
        [
         "DLR0076",
         "Healey Motors",
         202
        ],
        [
         "DLR0165",
         "Renault Motors",
         203
        ],
        [
         "DLR0091",
         "Invicta Motors",
         204
        ],
        [
         "DLR0226",
         "Das Motors",
         205
        ],
        [
         "DLR0221",
         "Austin  Motors",
         206
        ],
        [
         "DLR0079",
         "Hillman Motors",
         207
        ],
        [
         "DLR0188",
         "Subaru Motors",
         208
        ],
        [
         "DLR0222",
         "Riley  Motors",
         209
        ],
        [
         "DLR0054",
         "Elva Motors",
         210
        ],
        [
         "DLR0023",
         "Bristol Motors",
         211
        ],
        [
         "DLR0034",
         "Chevrolet India Motors",
         212
        ],
        [
         "DLR0250",
         "Aixam-Mega (including Arola) Motors",
         213
        ],
        [
         "DLR0108",
         "Lexus Motors",
         214
        ],
        [
         "DLR0264",
         "Auverland Motors",
         215
        ],
        [
         "DLR0172",
         "San Motors",
         216
        ],
        [
         "DLR0234",
         "Bohn Motor Company Automobile Dealership",
         217
        ],
        [
         "DLR0096",
         "Iveco Motors",
         218
        ],
        [
         "DLR0158",
         "Pontiac, Asüna Motors",
         219
        ],
        [
         "DLR0092",
         "Isdera Motors",
         220
        ],
        [
         "DLR0015",
         "Autobianchi Motors",
         221
        ],
        [
         "DLR0176",
         "Scion Motors",
         222
        ],
        [
         "DLR0168",
         "Saab Motors",
         223
        ],
        [
         "DLR0218",
         "Lagonda  Motors",
         224
        ],
        [
         "DLR0255",
         "Anadol Motors",
         225
        ],
        [
         "DLR0144",
         null,
         226
        ],
        [
         "DLR0114",
         "Lynx Motors",
         227
        ],
        [
         "DLR0184",
         "Spyker Motors",
         228
        ],
        [
         "DLR0018",
         "Bentley Motors",
         229
        ],
        [
         "DLR0257",
         "ARO Motors",
         230
        ],
        [
         "DLR0110",
         "Lincoln Motors",
         231
        ],
        [
         "DLR0046",
         "DeLorean Motors",
         232
        ],
        [
         "DLR0135",
         "Morgan Motors",
         233
        ],
        [
         "DLR0127",
         "Merkur Motors",
         234
        ],
        [
         "DLR0215",
         "Wanderer Motors",
         235
        ],
        [
         "DLR0196",
         "Toyota Motors",
         236
        ],
        [
         "DLR0246",
         "Jones Motor Company",
         237
        ],
        [
         "DLR0220",
         "Morris  Motors",
         238
        ],
        [
         "DLR0071",
         "Ginetta Motors",
         239
        ],
        [
         "DLR0047",
         "DeSoto Motors",
         240
        ],
        [
         "DLR0123",
         "Mazzanti Motors",
         241
        ],
        [
         "DLR0050",
         "Donkervoort Motors",
         242
        ],
        [
         "DLR0113",
         "LuAZ Motors",
         243
        ],
        [
         "DLR0074",
         "GTA Spano Motors",
         244
        ],
        [
         "DLR0209",
         "Zastava Motors",
         245
        ],
        [
         "DLR0087",
         "Hyundai Motors",
         246
        ],
        [
         "DLR0252",
         "Alpine Motors",
         247
        ],
        [
         "DLR0206",
         "Volvo Motors",
         248
        ],
        [
         "DLR0111",
         "Lotus Motors",
         249
        ],
        [
         "DLR0203",
         "Volkswagen Motors",
         250
        ],
        [
         "DLR0194",
         "Tesla Motors",
         251
        ],
        [
         "DLR0006",
         "Alvis Motors",
         252
        ],
        [
         "DLR0100",
         "JPX Motors",
         253
        ],
        [
         "DLR0073",
         "GMC Motors",
         254
        ],
        [
         "DLR0224",
         "Standard  Motors",
         255
        ],
        [
         "DLR0132",
         "Mitsubishi Motors",
         256
        ],
        [
         "DLR0010",
         "ARO Motors",
         257
        ],
        [
         "DLR0082",
         "Honda Motors",
         258
        ],
        [
         "DLR0242",
         "H Street Playhouse",
         259
        ],
        [
         "DLR0041",
         "DAF Motors",
         260
        ],
        [
         "DLR0070",
         "Gilbern Motors",
         261
        ],
        [
         "DLR0058",
         "Fiat do Brasil Motors",
         262
        ],
        [
         "DLR0180",
         "Simca do Brasil Motors",
         263
        ],
        [
         "DLR0267",
         "BMW Motors",
         264
        ],
        [
         "DLR0027",
         "Bugatti Motors",
         265
        ],
        [
         "DLR0223",
         "Wolseley  Motors",
         266
        ],
        [
         "DLR0002",
         "Acura Motors",
         267
        ]
       ],
       "datasetInfos": [],
       "dbfsResultPath": null,
       "isJsonSchema": true,
       "metadata": {},
       "overflow": false,
       "plotOptions": {
        "customPlotOptions": {},
        "displayType": "table",
        "pivotAggregation": null,
        "pivotColumns": null,
        "xColumns": null,
        "yColumns": null
       },
       "removedWidgets": [],
       "schema": [
        {
         "metadata": "{}",
         "name": "Dealer_Id",
         "type": "\"string\""
        },
        {
         "metadata": "{}",
         "name": "DealerName",
         "type": "\"string\""
        },
        {
         "metadata": "{}",
         "name": "dim_dealer_key",
         "type": "\"long\""
        }
       ],
       "type": "table"
      }
     },
     "output_type": "display_data"
    }
   ],
   "source": [
    "df_new = df_new.withColumn('dim_dealer_key',max_value + monotonically_increasing_id())\n",
    "df_new.display()"
   ]
  },
  {
   "cell_type": "markdown",
   "metadata": {
    "application/vnd.databricks.v1+cell": {
     "cellMetadata": {},
     "inputWidgets": {},
     "nuid": "e9db68eb-d40d-4950-b210-095bfa411d4e",
     "showTitle": false,
     "tableResultSettingsMap": {},
     "title": ""
    }
   },
   "source": [
    "combining old and new dataframes of dimension tables"
   ]
  },
  {
   "cell_type": "code",
   "execution_count": 0,
   "metadata": {
    "application/vnd.databricks.v1+cell": {
     "cellMetadata": {
      "byteLimit": 2048000,
      "rowLimit": 10000
     },
     "inputWidgets": {},
     "nuid": "5cc53796-d477-436f-b53e-943e9bb40f61",
     "showTitle": false,
     "tableResultSettingsMap": {},
     "title": ""
    }
   },
   "outputs": [
    {
     "output_type": "display_data",
     "data": {
      "text/html": [
       "<style scoped>\n",
       "  .table-result-container {\n",
       "    max-height: 300px;\n",
       "    overflow: auto;\n",
       "  }\n",
       "  table, th, td {\n",
       "    border: 1px solid black;\n",
       "    border-collapse: collapse;\n",
       "  }\n",
       "  th, td {\n",
       "    padding: 5px;\n",
       "  }\n",
       "  th {\n",
       "    text-align: left;\n",
       "  }\n",
       "</style><div class='table-result-container'><table class='table-result'><thead style='background-color: white'><tr><th>Dealer_Id</th><th>DealerName</th><th>dim_dealer_key</th></tr></thead><tbody><tr><td>DLR0095</td><td>Isuzu Motors</td><td>1</td></tr><tr><td>DLR0124</td><td>McLaren Motors</td><td>2</td></tr><tr><td>DLR0245</td><td>Jennings Ford Automobile Dealership</td><td>3</td></tr><tr><td>DLR0171</td><td>Samsung Motors</td><td>4</td></tr><tr><td>DLR0052</td><td>e.GO Mobile Motors</td><td>5</td></tr><tr><td>DLR0175</td><td>Saturn Motors</td><td>6</td></tr><tr><td>DLR0080</td><td>Hindustan Motors</td><td>7</td></tr><tr><td>DLR0263</td><td>Auto-Union Motors</td><td>8</td></tr><tr><td>DLR0066</td><td>Freightliner Motors</td><td>9</td></tr><tr><td>DLR0258</td><td>null</td><td>10</td></tr><tr><td>DLR0007</td><td>AMC, Eagle Motors</td><td>11</td></tr><tr><td>DLR0141</td><td>Noble Motors</td><td>12</td></tr><tr><td>DLR0251</td><td>Alfa Romeo Motors</td><td>13</td></tr><tr><td>DLR0038</td><td>Cizeta-Moroder Motors</td><td>14</td></tr><tr><td>DLR0155</td><td>Piaggio Motors</td><td>15</td></tr><tr><td>DLR0013</td><td>Aston Martin Motors</td><td>16</td></tr><tr><td>DLR0049</td><td>Dodge Motors</td><td>17</td></tr><tr><td>DLR0055</td><td>Facel Vega Motors</td><td>18</td></tr><tr><td>DLR0129</td><td>Mia Motors</td><td>19</td></tr><tr><td>DLR0183</td><td>Smart Motors</td><td>20</td></tr><tr><td>DLR0177</td><td>Seat Motors</td><td>21</td></tr><tr><td>DLR0229</td><td>Herald Motors</td><td>22</td></tr><tr><td>DLR0149</td><td>Panoz Motors</td><td>23</td></tr><tr><td>DLR0170</td><td>Saleen Motors</td><td>24</td></tr><tr><td>DLR0213</td><td>DKW Motors</td><td>25</td></tr><tr><td>DLR0077</td><td>Heinkel Motors</td><td>26</td></tr><tr><td>DLR0238</td><td>Cass Motor Sales</td><td>27</td></tr><tr><td>DLR0253</td><td>Alvis Motors</td><td>28</td></tr><tr><td>DLR0115</td><td>Mahindra Motors</td><td>29</td></tr><tr><td>DLR0219</td><td>MG  Motors</td><td>30</td></tr><tr><td>DLR0166</td><td>Rivian Motors</td><td>31</td></tr><tr><td>DLR0262</td><td>Autobianchi Motors</td><td>32</td></tr><tr><td>DLR0099</td><td>Jensen Motors</td><td>33</td></tr><tr><td>DLR0159</td><td>Porsche Motors</td><td>34</td></tr><tr><td>DLR0118</td><td>Maruti Motors</td><td>35</td></tr><tr><td>DLR0259</td><td>Asia Motors Motors</td><td>36</td></tr><tr><td>DLR0241</td><td>Colman Automotive Building</td><td>37</td></tr><tr><td>DLR0207</td><td>Westfield Motors</td><td>38</td></tr><tr><td>DLR0163</td><td>Ranger Motors</td><td>39</td></tr><tr><td>DLR0157</td><td>Polestar Motors</td><td>40</td></tr><tr><td>DLR0133</td><td>Monica Motors</td><td>41</td></tr><tr><td>DLR0167</td><td>Rolls-Royce Motors</td><td>42</td></tr><tr><td>DLR0086</td><td>Hummer Motors</td><td>43</td></tr><tr><td>DLR0174</td><td>Santana Motors</td><td>44</td></tr><tr><td>DLR0147</td><td>Pagani Motors</td><td>45</td></tr><tr><td>DLR0193</td><td>Tazzari Motors</td><td>46</td></tr><tr><td>DLR0134</td><td>Monteverdi Motors</td><td>47</td></tr><tr><td>DLR0148</td><td>Panhard Motors</td><td>48</td></tr><tr><td>DLR0084</td><td>Hudson Motors</td><td>49</td></tr><tr><td>DLR0235</td><td>Buick Automobile Company Building</td><td>50</td></tr><tr><td>DLR0037</td><td>Citroën Motors</td><td>51</td></tr><tr><td>DLR0051</td><td>Edsel Motors</td><td>52</td></tr><tr><td>DLR0237</td><td>Casa de cadillac</td><td>53</td></tr><tr><td>DLR0021</td><td>Bond Motors</td><td>54</td></tr><tr><td>DLR0064</td><td>Ford Europe Motors</td><td>55</td></tr><tr><td>DLR0109</td><td>Ligier Motors</td><td>56</td></tr><tr><td>DLR0101</td><td>Kia Motors</td><td>57</td></tr><tr><td>DLR0045</td><td>Delahaye Motors</td><td>58</td></tr><tr><td>DLR0265</td><td>Bentley Motors</td><td>59</td></tr><tr><td>DLR0035</td><td>Chrysler Motors</td><td>60</td></tr><tr><td>DLR0153</td><td>Peugeot Motors</td><td>61</td></tr><tr><td>DLR0019</td><td>Bitter Motors</td><td>62</td></tr><tr><td>DLR0088</td><td>IFA (including Trabant, Wartburg, Barkas) Motors</td><td>63</td></tr><tr><td>DLR0083</td><td>Honda India Motors</td><td>64</td></tr><tr><td>DLR0120</td><td>Mastretta Motors</td><td>65</td></tr><tr><td>DLR0191</td><td>Tata Motors</td><td>66</td></tr><tr><td>DLR0216</td><td>Maybach  Motors</td><td>67</td></tr><tr><td>DLR0200</td><td>UAZ Motors</td><td>68</td></tr><tr><td>DLR0186</td><td>Standard-Triumph Motors</td><td>69</td></tr><tr><td>DLR0173</td><td>Santa Matilde Motors</td><td>70</td></tr><tr><td>DLR0121</td><td>Matra (including Deutsch-Bonnet, René Bonnet) Motors</td><td>71</td></tr><tr><td>DLR0103</td><td>KTM Motors</td><td>72</td></tr><tr><td>DLR0131</td><td>Mini Motors</td><td>73</td></tr><tr><td>DLR0122</td><td>Mazda Motors</td><td>74</td></tr><tr><td>DLR0011</td><td>Artega Motors</td><td>75</td></tr><tr><td>DLR0143</td><td>Oldsmobile Motors</td><td>76</td></tr><tr><td>DLR0261</td><td>Audi Motors</td><td>77</td></tr><tr><td>DLR0156</td><td>Plymouth Motors</td><td>78</td></tr><tr><td>DLR0178</td><td>Shelby SuperCars Motors</td><td>79</td></tr><tr><td>DLR0026</td><td>Austin, Rover Motors</td><td>80</td></tr><tr><td>DLR0030</td><td>Cadillac Motors</td><td>81</td></tr><tr><td>DLR0106</td><td>Lancia Motors</td><td>82</td></tr><tr><td>DLR0247</td><td>Kindel Building</td><td>83</td></tr><tr><td>DLR0107</td><td>Land Rover Motors</td><td>84</td></tr><tr><td>DLR0067</td><td>FSO Motors</td><td>85</td></tr><tr><td>DLR0061</td><td>Ford America Motors</td><td>86</td></tr><tr><td>DLR0230</td><td>Zion Automobils</td><td>87</td></tr><tr><td>DLR0032</td><td>Checker Motors</td><td>88</td></tr><tr><td>DLR0201</td><td>Vauxhall Motors</td><td>89</td></tr><tr><td>DLR0014</td><td>Audi Motors</td><td>90</td></tr><tr><td>DLR0256</td><td>Ariel Motors</td><td>91</td></tr><tr><td>DLR0161</td><td>Proton Motors</td><td>92</td></tr><tr><td>DLR0078</td><td>Hennessey Motors</td><td>93</td></tr><tr><td>DLR0063</td><td>Ford do Brasil Motors</td><td>94</td></tr><tr><td>DLR0214</td><td>Horch Motors</td><td>95</td></tr><tr><td>DLR0202</td><td>Venturi Motors</td><td>96</td></tr><tr><td>DLR0195</td><td>Tornado Motors</td><td>97</td></tr><tr><td>DLR0240</td><td>Clemens Automobile Company Building</td><td>98</td></tr><tr><td>DLR0090</td><td>null</td><td>99</td></tr><tr><td>DLR0017</td><td>Auverland Motors</td><td>100</td></tr><tr><td>DLR0211</td><td>ZIL Motors</td><td>101</td></tr><tr><td>DLR0154</td><td>PGO Motors</td><td>102</td></tr><tr><td>DLR0243</td><td>Howard Motor Company Building</td><td>103</td></tr><tr><td>DLR0181</td><td>Singer Motors</td><td>104</td></tr><tr><td>DLR0044</td><td>null</td><td>105</td></tr><tr><td>DLR0254</td><td>AMC, Eagle Motors</td><td>106</td></tr><tr><td>DLR0031</td><td>Caterham Motors</td><td>107</td></tr><tr><td>DLR0142</td><td>NSU Motors</td><td>108</td></tr><tr><td>DLR0136</td><td>Moskwitch Motors</td><td>109</td></tr><tr><td>DLR0012</td><td>Asia Motors Motors</td><td>110</td></tr><tr><td>DLR0053</td><td>Eicher Polaris Motors</td><td>111</td></tr><tr><td>DLR0179</td><td>Simca Motors</td><td>112</td></tr><tr><td>DLR0025</td><td>Austin-Healey Motors</td><td>113</td></tr><tr><td>DLR0197</td><td>Toyota India Motors</td><td>114</td></tr><tr><td>DLR0198</td><td>Turner Motors</td><td>115</td></tr><tr><td>DLR0039</td><td>Dacia Motors</td><td>116</td></tr><tr><td>DLR0029</td><td>Bytom Motors</td><td>117</td></tr><tr><td>DLR0001</td><td>AC Cars Motors</td><td>118</td></tr><tr><td>DLR0043</td><td>Daimler Motors</td><td>119</td></tr><tr><td>DLR0125</td><td>Mercedes-Benz (including Maybach) Motors</td><td>120</td></tr><tr><td>DLR0060</td><td>Fisker, Karma Motors</td><td>121</td></tr><tr><td>DLR0004</td><td>Alfa Romeo Motors</td><td>122</td></tr><tr><td>DLR0249</td><td>Acura Motors</td><td>123</td></tr><tr><td>DLR0130</td><td>Micro Motors</td><td>124</td></tr><tr><td>DLR0028</td><td>Buick Motors</td><td>125</td></tr><tr><td>DLR0231</td><td>Atlantic Motor Company</td><td>126</td></tr><tr><td>DLR0139</td><td>Nissan Motors</td><td>127</td></tr><tr><td>DLR0003</td><td>Aixam-Mega (including Arola) Motors</td><td>128</td></tr><tr><td>DLR0069</td><td>Geo Motors</td><td>129</td></tr><tr><td>DLR0102</td><td>Koenigsegg Motors</td><td>130</td></tr><tr><td>DLR0208</td><td>Wiesmann Motors</td><td>131</td></tr><tr><td>DLR0232</td><td>2008 NRHP-listed</td><td>132</td></tr><tr><td>DLR0205</td><td>Volkswagen South Africa Motors</td><td>133</td></tr><tr><td>DLR0137</td><td>Nash Motors</td><td>134</td></tr><tr><td>DLR0042</td><td>Daihatsu Motors</td><td>135</td></tr><tr><td>DLR0105</td><td>Lamborghini Motors</td><td>136</td></tr><tr><td>DLR0126</td><td>Mercury Motors</td><td>137</td></tr><tr><td>DLR0016</td><td>Auto-Union Motors</td><td>138</td></tr><tr><td>DLR0248</td><td>AC Cars Motors</td><td>139</td></tr><tr><td>DLR0065</td><td>Ford India Motors</td><td>140</td></tr><tr><td>DLR0151</td><td>Peel Motors</td><td>141</td></tr><tr><td>DLR0068</td><td>GAZ Motors</td><td>142</td></tr><tr><td>DLR0192</td><td>Tatra Motors</td><td>143</td></tr><tr><td>DLR0244</td><td>Hupmobile Building</td><td>144</td></tr><tr><td>DLR0072</td><td>Glas Motors</td><td>145</td></tr><tr><td>DLR0009</td><td>Ariel Motors</td><td>146</td></tr><tr><td>DLR0093</td><td>Iso Motors</td><td>147</td></tr><tr><td>DLR0098</td><td>Jeep Motors</td><td>148</td></tr><tr><td>DLR0233</td><td>Blankinship Motor Company Building</td><td>149</td></tr><tr><td>DLR0097</td><td>Jaguar Motors</td><td>150</td></tr><tr><td>DLR0160</td><td>Premier Motors</td><td>151</td></tr><tr><td>DLR0024</td><td>British Leyland Motors</td><td>152</td></tr><tr><td>DLR0085</td><td>Humber Motors</td><td>153</td></tr><tr><td>DLR0036</td><td>Chrysler Europe Motors</td><td>154</td></tr><tr><td>DLR0008</td><td>Anadol Motors</td><td>155</td></tr><tr><td>DLR0204</td><td>Volkswagen do Brasil Motors</td><td>156</td></tr><tr><td>DLR0116</td><td>Marcos Motors</td><td>157</td></tr><tr><td>DLR0146</td><td>Packard Motors</td><td>158</td></tr><tr><td>DLR0182</td><td>Skoda Motors</td><td>159</td></tr><tr><td>DLR0150</td><td>Panther Motors</td><td>160</td></tr><tr><td>DLR0225</td><td>Talbot  Motors</td><td>161</td></tr><tr><td>DLR0033</td><td>Chevrolet Motors</td><td>162</td></tr><tr><td>DLR0190</td><td>Suzuki Motors</td><td>163</td></tr><tr><td>DLR0117</td><td>Marlin Motors</td><td>164</td></tr><tr><td>DLR0164</td><td>Reliant Motors</td><td>165</td></tr><tr><td>DLR0089</td><td>Infiniti Motors</td><td>166</td></tr><tr><td>DLR0266</td><td>Bitter Motors</td><td>167</td></tr><tr><td>DLR0040</td><td>Daewoo, Saehan, Chevrolet Korea Motors</td><td>168</td></tr><tr><td>DLR0260</td><td>Aston Martin Motors</td><td>169</td></tr><tr><td>DLR0020</td><td>BMW Motors</td><td>170</td></tr><tr><td>DLR0128</td><td>Messerschmitt Motors</td><td>171</td></tr><tr><td>DLR0187</td><td>Studebaker Motors</td><td>172</td></tr><tr><td>DLR0056</td><td>Ferrari Motors</td><td>173</td></tr><tr><td>DLR0059</td><td>Fiat India Motors</td><td>174</td></tr><tr><td>DLR0022</td><td>Borgward (including Goliath and Lloyd) Motors</td><td>175</td></tr><tr><td>DLR0217</td><td>Izh  Motors</td><td>176</td></tr><tr><td>DLR0062</td><td>Ford Australia Motors</td><td>177</td></tr><tr><td>DLR0081</td><td>Holden Motors</td><td>178</td></tr><tr><td>DLR0228</td><td>Deccan Motors</td><td>179</td></tr><tr><td>DLR0104</td><td>Lada Motors</td><td>180</td></tr><tr><td>DLR0119</td><td>Maserati Motors</td><td>181</td></tr><tr><td>DLR0189</td><td>Sunbeam Motors</td><td>182</td></tr><tr><td>DLR0048</td><td>De Tomaso Motors</td><td>183</td></tr><tr><td>DLR0185</td><td>SsangYong Motors</td><td>184</td></tr><tr><td>DLR0094</td><td>Isotta Fraschini Motors</td><td>185</td></tr><tr><td>DLR0227</td><td>Ramani Motors</td><td>186</td></tr><tr><td>DLR0162</td><td>Puma Motors</td><td>187</td></tr><tr><td>DLR0145</td><td>Opel Motors</td><td>188</td></tr><tr><td>DLR0005</td><td>Alpine Motors</td><td>189</td></tr><tr><td>DLR0199</td><td>TVR Motors</td><td>190</td></tr><tr><td>DLR0236</td><td>Cadillac Automobile Company Building</td><td>191</td></tr><tr><td>DLR0169</td><td>SAIC Motor Motors</td><td>192</td></tr><tr><td>DLR0239</td><td>Claremore Auto Dealership</td><td>193</td></tr><tr><td>DLR0057</td><td>Fiat Motors</td><td>194</td></tr><tr><td>DLR0140</td><td>Nissan India Motors</td><td>195</td></tr><tr><td>DLR0152</td><td>Perodua Motors</td><td>196</td></tr><tr><td>DLR0112</td><td>LTI Motors</td><td>197</td></tr><tr><td>DLR0075</td><td>Gumpert Motors</td><td>198</td></tr><tr><td>DLR0210</td><td>ZAZ Motors</td><td>199</td></tr><tr><td>DLR0212</td><td>null</td><td>200</td></tr><tr><td>DLR0138</td><td>Naza Motors</td><td>201</td></tr><tr><td>DLR0076</td><td>Healey Motors</td><td>202</td></tr><tr><td>DLR0165</td><td>Renault Motors</td><td>203</td></tr><tr><td>DLR0091</td><td>Invicta Motors</td><td>204</td></tr><tr><td>DLR0226</td><td>Das Motors</td><td>205</td></tr><tr><td>DLR0221</td><td>Austin  Motors</td><td>206</td></tr><tr><td>DLR0079</td><td>Hillman Motors</td><td>207</td></tr><tr><td>DLR0188</td><td>Subaru Motors</td><td>208</td></tr><tr><td>DLR0222</td><td>Riley  Motors</td><td>209</td></tr><tr><td>DLR0054</td><td>Elva Motors</td><td>210</td></tr><tr><td>DLR0023</td><td>Bristol Motors</td><td>211</td></tr><tr><td>DLR0034</td><td>Chevrolet India Motors</td><td>212</td></tr><tr><td>DLR0250</td><td>Aixam-Mega (including Arola) Motors</td><td>213</td></tr><tr><td>DLR0108</td><td>Lexus Motors</td><td>214</td></tr><tr><td>DLR0264</td><td>Auverland Motors</td><td>215</td></tr><tr><td>DLR0172</td><td>San Motors</td><td>216</td></tr><tr><td>DLR0234</td><td>Bohn Motor Company Automobile Dealership</td><td>217</td></tr><tr><td>DLR0096</td><td>Iveco Motors</td><td>218</td></tr><tr><td>DLR0158</td><td>Pontiac, Asüna Motors</td><td>219</td></tr><tr><td>DLR0092</td><td>Isdera Motors</td><td>220</td></tr><tr><td>DLR0015</td><td>Autobianchi Motors</td><td>221</td></tr><tr><td>DLR0176</td><td>Scion Motors</td><td>222</td></tr><tr><td>DLR0168</td><td>Saab Motors</td><td>223</td></tr><tr><td>DLR0218</td><td>Lagonda  Motors</td><td>224</td></tr><tr><td>DLR0255</td><td>Anadol Motors</td><td>225</td></tr><tr><td>DLR0144</td><td>null</td><td>226</td></tr><tr><td>DLR0114</td><td>Lynx Motors</td><td>227</td></tr><tr><td>DLR0184</td><td>Spyker Motors</td><td>228</td></tr><tr><td>DLR0018</td><td>Bentley Motors</td><td>229</td></tr><tr><td>DLR0257</td><td>ARO Motors</td><td>230</td></tr><tr><td>DLR0110</td><td>Lincoln Motors</td><td>231</td></tr><tr><td>DLR0046</td><td>DeLorean Motors</td><td>232</td></tr><tr><td>DLR0135</td><td>Morgan Motors</td><td>233</td></tr><tr><td>DLR0127</td><td>Merkur Motors</td><td>234</td></tr><tr><td>DLR0215</td><td>Wanderer Motors</td><td>235</td></tr><tr><td>DLR0196</td><td>Toyota Motors</td><td>236</td></tr><tr><td>DLR0246</td><td>Jones Motor Company</td><td>237</td></tr><tr><td>DLR0220</td><td>Morris  Motors</td><td>238</td></tr><tr><td>DLR0071</td><td>Ginetta Motors</td><td>239</td></tr><tr><td>DLR0047</td><td>DeSoto Motors</td><td>240</td></tr><tr><td>DLR0123</td><td>Mazzanti Motors</td><td>241</td></tr><tr><td>DLR0050</td><td>Donkervoort Motors</td><td>242</td></tr><tr><td>DLR0113</td><td>LuAZ Motors</td><td>243</td></tr><tr><td>DLR0074</td><td>GTA Spano Motors</td><td>244</td></tr><tr><td>DLR0209</td><td>Zastava Motors</td><td>245</td></tr><tr><td>DLR0087</td><td>Hyundai Motors</td><td>246</td></tr><tr><td>DLR0252</td><td>Alpine Motors</td><td>247</td></tr><tr><td>DLR0206</td><td>Volvo Motors</td><td>248</td></tr><tr><td>DLR0111</td><td>Lotus Motors</td><td>249</td></tr><tr><td>DLR0203</td><td>Volkswagen Motors</td><td>250</td></tr><tr><td>DLR0194</td><td>Tesla Motors</td><td>251</td></tr><tr><td>DLR0006</td><td>Alvis Motors</td><td>252</td></tr><tr><td>DLR0100</td><td>JPX Motors</td><td>253</td></tr><tr><td>DLR0073</td><td>GMC Motors</td><td>254</td></tr><tr><td>DLR0224</td><td>Standard  Motors</td><td>255</td></tr><tr><td>DLR0132</td><td>Mitsubishi Motors</td><td>256</td></tr><tr><td>DLR0010</td><td>ARO Motors</td><td>257</td></tr><tr><td>DLR0082</td><td>Honda Motors</td><td>258</td></tr><tr><td>DLR0242</td><td>H Street Playhouse</td><td>259</td></tr><tr><td>DLR0041</td><td>DAF Motors</td><td>260</td></tr><tr><td>DLR0070</td><td>Gilbern Motors</td><td>261</td></tr><tr><td>DLR0058</td><td>Fiat do Brasil Motors</td><td>262</td></tr><tr><td>DLR0180</td><td>Simca do Brasil Motors</td><td>263</td></tr><tr><td>DLR0267</td><td>BMW Motors</td><td>264</td></tr><tr><td>DLR0027</td><td>Bugatti Motors</td><td>265</td></tr><tr><td>DLR0223</td><td>Wolseley  Motors</td><td>266</td></tr><tr><td>DLR0002</td><td>Acura Motors</td><td>267</td></tr></tbody></table></div>"
      ]
     },
     "metadata": {
      "application/vnd.databricks.v1+output": {
       "addedWidgets": {},
       "aggData": [],
       "aggError": "",
       "aggOverflow": false,
       "aggSchema": [],
       "aggSeriesLimitReached": false,
       "aggType": "",
       "arguments": {},
       "columnCustomDisplayInfos": {},
       "data": [
        [
         "DLR0095",
         "Isuzu Motors",
         1
        ],
        [
         "DLR0124",
         "McLaren Motors",
         2
        ],
        [
         "DLR0245",
         "Jennings Ford Automobile Dealership",
         3
        ],
        [
         "DLR0171",
         "Samsung Motors",
         4
        ],
        [
         "DLR0052",
         "e.GO Mobile Motors",
         5
        ],
        [
         "DLR0175",
         "Saturn Motors",
         6
        ],
        [
         "DLR0080",
         "Hindustan Motors",
         7
        ],
        [
         "DLR0263",
         "Auto-Union Motors",
         8
        ],
        [
         "DLR0066",
         "Freightliner Motors",
         9
        ],
        [
         "DLR0258",
         null,
         10
        ],
        [
         "DLR0007",
         "AMC, Eagle Motors",
         11
        ],
        [
         "DLR0141",
         "Noble Motors",
         12
        ],
        [
         "DLR0251",
         "Alfa Romeo Motors",
         13
        ],
        [
         "DLR0038",
         "Cizeta-Moroder Motors",
         14
        ],
        [
         "DLR0155",
         "Piaggio Motors",
         15
        ],
        [
         "DLR0013",
         "Aston Martin Motors",
         16
        ],
        [
         "DLR0049",
         "Dodge Motors",
         17
        ],
        [
         "DLR0055",
         "Facel Vega Motors",
         18
        ],
        [
         "DLR0129",
         "Mia Motors",
         19
        ],
        [
         "DLR0183",
         "Smart Motors",
         20
        ],
        [
         "DLR0177",
         "Seat Motors",
         21
        ],
        [
         "DLR0229",
         "Herald Motors",
         22
        ],
        [
         "DLR0149",
         "Panoz Motors",
         23
        ],
        [
         "DLR0170",
         "Saleen Motors",
         24
        ],
        [
         "DLR0213",
         "DKW Motors",
         25
        ],
        [
         "DLR0077",
         "Heinkel Motors",
         26
        ],
        [
         "DLR0238",
         "Cass Motor Sales",
         27
        ],
        [
         "DLR0253",
         "Alvis Motors",
         28
        ],
        [
         "DLR0115",
         "Mahindra Motors",
         29
        ],
        [
         "DLR0219",
         "MG  Motors",
         30
        ],
        [
         "DLR0166",
         "Rivian Motors",
         31
        ],
        [
         "DLR0262",
         "Autobianchi Motors",
         32
        ],
        [
         "DLR0099",
         "Jensen Motors",
         33
        ],
        [
         "DLR0159",
         "Porsche Motors",
         34
        ],
        [
         "DLR0118",
         "Maruti Motors",
         35
        ],
        [
         "DLR0259",
         "Asia Motors Motors",
         36
        ],
        [
         "DLR0241",
         "Colman Automotive Building",
         37
        ],
        [
         "DLR0207",
         "Westfield Motors",
         38
        ],
        [
         "DLR0163",
         "Ranger Motors",
         39
        ],
        [
         "DLR0157",
         "Polestar Motors",
         40
        ],
        [
         "DLR0133",
         "Monica Motors",
         41
        ],
        [
         "DLR0167",
         "Rolls-Royce Motors",
         42
        ],
        [
         "DLR0086",
         "Hummer Motors",
         43
        ],
        [
         "DLR0174",
         "Santana Motors",
         44
        ],
        [
         "DLR0147",
         "Pagani Motors",
         45
        ],
        [
         "DLR0193",
         "Tazzari Motors",
         46
        ],
        [
         "DLR0134",
         "Monteverdi Motors",
         47
        ],
        [
         "DLR0148",
         "Panhard Motors",
         48
        ],
        [
         "DLR0084",
         "Hudson Motors",
         49
        ],
        [
         "DLR0235",
         "Buick Automobile Company Building",
         50
        ],
        [
         "DLR0037",
         "Citroën Motors",
         51
        ],
        [
         "DLR0051",
         "Edsel Motors",
         52
        ],
        [
         "DLR0237",
         "Casa de cadillac",
         53
        ],
        [
         "DLR0021",
         "Bond Motors",
         54
        ],
        [
         "DLR0064",
         "Ford Europe Motors",
         55
        ],
        [
         "DLR0109",
         "Ligier Motors",
         56
        ],
        [
         "DLR0101",
         "Kia Motors",
         57
        ],
        [
         "DLR0045",
         "Delahaye Motors",
         58
        ],
        [
         "DLR0265",
         "Bentley Motors",
         59
        ],
        [
         "DLR0035",
         "Chrysler Motors",
         60
        ],
        [
         "DLR0153",
         "Peugeot Motors",
         61
        ],
        [
         "DLR0019",
         "Bitter Motors",
         62
        ],
        [
         "DLR0088",
         "IFA (including Trabant, Wartburg, Barkas) Motors",
         63
        ],
        [
         "DLR0083",
         "Honda India Motors",
         64
        ],
        [
         "DLR0120",
         "Mastretta Motors",
         65
        ],
        [
         "DLR0191",
         "Tata Motors",
         66
        ],
        [
         "DLR0216",
         "Maybach  Motors",
         67
        ],
        [
         "DLR0200",
         "UAZ Motors",
         68
        ],
        [
         "DLR0186",
         "Standard-Triumph Motors",
         69
        ],
        [
         "DLR0173",
         "Santa Matilde Motors",
         70
        ],
        [
         "DLR0121",
         "Matra (including Deutsch-Bonnet, René Bonnet) Motors",
         71
        ],
        [
         "DLR0103",
         "KTM Motors",
         72
        ],
        [
         "DLR0131",
         "Mini Motors",
         73
        ],
        [
         "DLR0122",
         "Mazda Motors",
         74
        ],
        [
         "DLR0011",
         "Artega Motors",
         75
        ],
        [
         "DLR0143",
         "Oldsmobile Motors",
         76
        ],
        [
         "DLR0261",
         "Audi Motors",
         77
        ],
        [
         "DLR0156",
         "Plymouth Motors",
         78
        ],
        [
         "DLR0178",
         "Shelby SuperCars Motors",
         79
        ],
        [
         "DLR0026",
         "Austin, Rover Motors",
         80
        ],
        [
         "DLR0030",
         "Cadillac Motors",
         81
        ],
        [
         "DLR0106",
         "Lancia Motors",
         82
        ],
        [
         "DLR0247",
         "Kindel Building",
         83
        ],
        [
         "DLR0107",
         "Land Rover Motors",
         84
        ],
        [
         "DLR0067",
         "FSO Motors",
         85
        ],
        [
         "DLR0061",
         "Ford America Motors",
         86
        ],
        [
         "DLR0230",
         "Zion Automobils",
         87
        ],
        [
         "DLR0032",
         "Checker Motors",
         88
        ],
        [
         "DLR0201",
         "Vauxhall Motors",
         89
        ],
        [
         "DLR0014",
         "Audi Motors",
         90
        ],
        [
         "DLR0256",
         "Ariel Motors",
         91
        ],
        [
         "DLR0161",
         "Proton Motors",
         92
        ],
        [
         "DLR0078",
         "Hennessey Motors",
         93
        ],
        [
         "DLR0063",
         "Ford do Brasil Motors",
         94
        ],
        [
         "DLR0214",
         "Horch Motors",
         95
        ],
        [
         "DLR0202",
         "Venturi Motors",
         96
        ],
        [
         "DLR0195",
         "Tornado Motors",
         97
        ],
        [
         "DLR0240",
         "Clemens Automobile Company Building",
         98
        ],
        [
         "DLR0090",
         null,
         99
        ],
        [
         "DLR0017",
         "Auverland Motors",
         100
        ],
        [
         "DLR0211",
         "ZIL Motors",
         101
        ],
        [
         "DLR0154",
         "PGO Motors",
         102
        ],
        [
         "DLR0243",
         "Howard Motor Company Building",
         103
        ],
        [
         "DLR0181",
         "Singer Motors",
         104
        ],
        [
         "DLR0044",
         null,
         105
        ],
        [
         "DLR0254",
         "AMC, Eagle Motors",
         106
        ],
        [
         "DLR0031",
         "Caterham Motors",
         107
        ],
        [
         "DLR0142",
         "NSU Motors",
         108
        ],
        [
         "DLR0136",
         "Moskwitch Motors",
         109
        ],
        [
         "DLR0012",
         "Asia Motors Motors",
         110
        ],
        [
         "DLR0053",
         "Eicher Polaris Motors",
         111
        ],
        [
         "DLR0179",
         "Simca Motors",
         112
        ],
        [
         "DLR0025",
         "Austin-Healey Motors",
         113
        ],
        [
         "DLR0197",
         "Toyota India Motors",
         114
        ],
        [
         "DLR0198",
         "Turner Motors",
         115
        ],
        [
         "DLR0039",
         "Dacia Motors",
         116
        ],
        [
         "DLR0029",
         "Bytom Motors",
         117
        ],
        [
         "DLR0001",
         "AC Cars Motors",
         118
        ],
        [
         "DLR0043",
         "Daimler Motors",
         119
        ],
        [
         "DLR0125",
         "Mercedes-Benz (including Maybach) Motors",
         120
        ],
        [
         "DLR0060",
         "Fisker, Karma Motors",
         121
        ],
        [
         "DLR0004",
         "Alfa Romeo Motors",
         122
        ],
        [
         "DLR0249",
         "Acura Motors",
         123
        ],
        [
         "DLR0130",
         "Micro Motors",
         124
        ],
        [
         "DLR0028",
         "Buick Motors",
         125
        ],
        [
         "DLR0231",
         "Atlantic Motor Company",
         126
        ],
        [
         "DLR0139",
         "Nissan Motors",
         127
        ],
        [
         "DLR0003",
         "Aixam-Mega (including Arola) Motors",
         128
        ],
        [
         "DLR0069",
         "Geo Motors",
         129
        ],
        [
         "DLR0102",
         "Koenigsegg Motors",
         130
        ],
        [
         "DLR0208",
         "Wiesmann Motors",
         131
        ],
        [
         "DLR0232",
         "2008 NRHP-listed",
         132
        ],
        [
         "DLR0205",
         "Volkswagen South Africa Motors",
         133
        ],
        [
         "DLR0137",
         "Nash Motors",
         134
        ],
        [
         "DLR0042",
         "Daihatsu Motors",
         135
        ],
        [
         "DLR0105",
         "Lamborghini Motors",
         136
        ],
        [
         "DLR0126",
         "Mercury Motors",
         137
        ],
        [
         "DLR0016",
         "Auto-Union Motors",
         138
        ],
        [
         "DLR0248",
         "AC Cars Motors",
         139
        ],
        [
         "DLR0065",
         "Ford India Motors",
         140
        ],
        [
         "DLR0151",
         "Peel Motors",
         141
        ],
        [
         "DLR0068",
         "GAZ Motors",
         142
        ],
        [
         "DLR0192",
         "Tatra Motors",
         143
        ],
        [
         "DLR0244",
         "Hupmobile Building",
         144
        ],
        [
         "DLR0072",
         "Glas Motors",
         145
        ],
        [
         "DLR0009",
         "Ariel Motors",
         146
        ],
        [
         "DLR0093",
         "Iso Motors",
         147
        ],
        [
         "DLR0098",
         "Jeep Motors",
         148
        ],
        [
         "DLR0233",
         "Blankinship Motor Company Building",
         149
        ],
        [
         "DLR0097",
         "Jaguar Motors",
         150
        ],
        [
         "DLR0160",
         "Premier Motors",
         151
        ],
        [
         "DLR0024",
         "British Leyland Motors",
         152
        ],
        [
         "DLR0085",
         "Humber Motors",
         153
        ],
        [
         "DLR0036",
         "Chrysler Europe Motors",
         154
        ],
        [
         "DLR0008",
         "Anadol Motors",
         155
        ],
        [
         "DLR0204",
         "Volkswagen do Brasil Motors",
         156
        ],
        [
         "DLR0116",
         "Marcos Motors",
         157
        ],
        [
         "DLR0146",
         "Packard Motors",
         158
        ],
        [
         "DLR0182",
         "Skoda Motors",
         159
        ],
        [
         "DLR0150",
         "Panther Motors",
         160
        ],
        [
         "DLR0225",
         "Talbot  Motors",
         161
        ],
        [
         "DLR0033",
         "Chevrolet Motors",
         162
        ],
        [
         "DLR0190",
         "Suzuki Motors",
         163
        ],
        [
         "DLR0117",
         "Marlin Motors",
         164
        ],
        [
         "DLR0164",
         "Reliant Motors",
         165
        ],
        [
         "DLR0089",
         "Infiniti Motors",
         166
        ],
        [
         "DLR0266",
         "Bitter Motors",
         167
        ],
        [
         "DLR0040",
         "Daewoo, Saehan, Chevrolet Korea Motors",
         168
        ],
        [
         "DLR0260",
         "Aston Martin Motors",
         169
        ],
        [
         "DLR0020",
         "BMW Motors",
         170
        ],
        [
         "DLR0128",
         "Messerschmitt Motors",
         171
        ],
        [
         "DLR0187",
         "Studebaker Motors",
         172
        ],
        [
         "DLR0056",
         "Ferrari Motors",
         173
        ],
        [
         "DLR0059",
         "Fiat India Motors",
         174
        ],
        [
         "DLR0022",
         "Borgward (including Goliath and Lloyd) Motors",
         175
        ],
        [
         "DLR0217",
         "Izh  Motors",
         176
        ],
        [
         "DLR0062",
         "Ford Australia Motors",
         177
        ],
        [
         "DLR0081",
         "Holden Motors",
         178
        ],
        [
         "DLR0228",
         "Deccan Motors",
         179
        ],
        [
         "DLR0104",
         "Lada Motors",
         180
        ],
        [
         "DLR0119",
         "Maserati Motors",
         181
        ],
        [
         "DLR0189",
         "Sunbeam Motors",
         182
        ],
        [
         "DLR0048",
         "De Tomaso Motors",
         183
        ],
        [
         "DLR0185",
         "SsangYong Motors",
         184
        ],
        [
         "DLR0094",
         "Isotta Fraschini Motors",
         185
        ],
        [
         "DLR0227",
         "Ramani Motors",
         186
        ],
        [
         "DLR0162",
         "Puma Motors",
         187
        ],
        [
         "DLR0145",
         "Opel Motors",
         188
        ],
        [
         "DLR0005",
         "Alpine Motors",
         189
        ],
        [
         "DLR0199",
         "TVR Motors",
         190
        ],
        [
         "DLR0236",
         "Cadillac Automobile Company Building",
         191
        ],
        [
         "DLR0169",
         "SAIC Motor Motors",
         192
        ],
        [
         "DLR0239",
         "Claremore Auto Dealership",
         193
        ],
        [
         "DLR0057",
         "Fiat Motors",
         194
        ],
        [
         "DLR0140",
         "Nissan India Motors",
         195
        ],
        [
         "DLR0152",
         "Perodua Motors",
         196
        ],
        [
         "DLR0112",
         "LTI Motors",
         197
        ],
        [
         "DLR0075",
         "Gumpert Motors",
         198
        ],
        [
         "DLR0210",
         "ZAZ Motors",
         199
        ],
        [
         "DLR0212",
         null,
         200
        ],
        [
         "DLR0138",
         "Naza Motors",
         201
        ],
        [
         "DLR0076",
         "Healey Motors",
         202
        ],
        [
         "DLR0165",
         "Renault Motors",
         203
        ],
        [
         "DLR0091",
         "Invicta Motors",
         204
        ],
        [
         "DLR0226",
         "Das Motors",
         205
        ],
        [
         "DLR0221",
         "Austin  Motors",
         206
        ],
        [
         "DLR0079",
         "Hillman Motors",
         207
        ],
        [
         "DLR0188",
         "Subaru Motors",
         208
        ],
        [
         "DLR0222",
         "Riley  Motors",
         209
        ],
        [
         "DLR0054",
         "Elva Motors",
         210
        ],
        [
         "DLR0023",
         "Bristol Motors",
         211
        ],
        [
         "DLR0034",
         "Chevrolet India Motors",
         212
        ],
        [
         "DLR0250",
         "Aixam-Mega (including Arola) Motors",
         213
        ],
        [
         "DLR0108",
         "Lexus Motors",
         214
        ],
        [
         "DLR0264",
         "Auverland Motors",
         215
        ],
        [
         "DLR0172",
         "San Motors",
         216
        ],
        [
         "DLR0234",
         "Bohn Motor Company Automobile Dealership",
         217
        ],
        [
         "DLR0096",
         "Iveco Motors",
         218
        ],
        [
         "DLR0158",
         "Pontiac, Asüna Motors",
         219
        ],
        [
         "DLR0092",
         "Isdera Motors",
         220
        ],
        [
         "DLR0015",
         "Autobianchi Motors",
         221
        ],
        [
         "DLR0176",
         "Scion Motors",
         222
        ],
        [
         "DLR0168",
         "Saab Motors",
         223
        ],
        [
         "DLR0218",
         "Lagonda  Motors",
         224
        ],
        [
         "DLR0255",
         "Anadol Motors",
         225
        ],
        [
         "DLR0144",
         null,
         226
        ],
        [
         "DLR0114",
         "Lynx Motors",
         227
        ],
        [
         "DLR0184",
         "Spyker Motors",
         228
        ],
        [
         "DLR0018",
         "Bentley Motors",
         229
        ],
        [
         "DLR0257",
         "ARO Motors",
         230
        ],
        [
         "DLR0110",
         "Lincoln Motors",
         231
        ],
        [
         "DLR0046",
         "DeLorean Motors",
         232
        ],
        [
         "DLR0135",
         "Morgan Motors",
         233
        ],
        [
         "DLR0127",
         "Merkur Motors",
         234
        ],
        [
         "DLR0215",
         "Wanderer Motors",
         235
        ],
        [
         "DLR0196",
         "Toyota Motors",
         236
        ],
        [
         "DLR0246",
         "Jones Motor Company",
         237
        ],
        [
         "DLR0220",
         "Morris  Motors",
         238
        ],
        [
         "DLR0071",
         "Ginetta Motors",
         239
        ],
        [
         "DLR0047",
         "DeSoto Motors",
         240
        ],
        [
         "DLR0123",
         "Mazzanti Motors",
         241
        ],
        [
         "DLR0050",
         "Donkervoort Motors",
         242
        ],
        [
         "DLR0113",
         "LuAZ Motors",
         243
        ],
        [
         "DLR0074",
         "GTA Spano Motors",
         244
        ],
        [
         "DLR0209",
         "Zastava Motors",
         245
        ],
        [
         "DLR0087",
         "Hyundai Motors",
         246
        ],
        [
         "DLR0252",
         "Alpine Motors",
         247
        ],
        [
         "DLR0206",
         "Volvo Motors",
         248
        ],
        [
         "DLR0111",
         "Lotus Motors",
         249
        ],
        [
         "DLR0203",
         "Volkswagen Motors",
         250
        ],
        [
         "DLR0194",
         "Tesla Motors",
         251
        ],
        [
         "DLR0006",
         "Alvis Motors",
         252
        ],
        [
         "DLR0100",
         "JPX Motors",
         253
        ],
        [
         "DLR0073",
         "GMC Motors",
         254
        ],
        [
         "DLR0224",
         "Standard  Motors",
         255
        ],
        [
         "DLR0132",
         "Mitsubishi Motors",
         256
        ],
        [
         "DLR0010",
         "ARO Motors",
         257
        ],
        [
         "DLR0082",
         "Honda Motors",
         258
        ],
        [
         "DLR0242",
         "H Street Playhouse",
         259
        ],
        [
         "DLR0041",
         "DAF Motors",
         260
        ],
        [
         "DLR0070",
         "Gilbern Motors",
         261
        ],
        [
         "DLR0058",
         "Fiat do Brasil Motors",
         262
        ],
        [
         "DLR0180",
         "Simca do Brasil Motors",
         263
        ],
        [
         "DLR0267",
         "BMW Motors",
         264
        ],
        [
         "DLR0027",
         "Bugatti Motors",
         265
        ],
        [
         "DLR0223",
         "Wolseley  Motors",
         266
        ],
        [
         "DLR0002",
         "Acura Motors",
         267
        ]
       ],
       "datasetInfos": [],
       "dbfsResultPath": null,
       "isJsonSchema": true,
       "metadata": {},
       "overflow": false,
       "plotOptions": {
        "customPlotOptions": {},
        "displayType": "table",
        "pivotAggregation": null,
        "pivotColumns": null,
        "xColumns": null,
        "yColumns": null
       },
       "removedWidgets": [],
       "schema": [
        {
         "metadata": "{}",
         "name": "Dealer_Id",
         "type": "\"string\""
        },
        {
         "metadata": "{}",
         "name": "DealerName",
         "type": "\"string\""
        },
        {
         "metadata": "{}",
         "name": "dim_dealer_key",
         "type": "\"long\""
        }
       ],
       "type": "table"
      }
     },
     "output_type": "display_data"
    }
   ],
   "source": [
    "df_final = df_new.union(df_old)\n",
    "df_final.display()\n"
   ]
  },
  {
   "cell_type": "markdown",
   "metadata": {
    "application/vnd.databricks.v1+cell": {
     "cellMetadata": {},
     "inputWidgets": {},
     "nuid": "8899e5db-d76b-4c0a-a0b0-a2f08d4d18a1",
     "showTitle": false,
     "tableResultSettingsMap": {},
     "title": ""
    }
   },
   "source": [
    "## slowly changing dimensions - type 1 (update + insert)"
   ]
  },
  {
   "cell_type": "code",
   "execution_count": 0,
   "metadata": {
    "application/vnd.databricks.v1+cell": {
     "cellMetadata": {
      "byteLimit": 2048000,
      "rowLimit": 10000
     },
     "inputWidgets": {},
     "nuid": "80cfa7b7-61e2-4dde-8d2c-bfb54573a7bc",
     "showTitle": false,
     "tableResultSettingsMap": {},
     "title": ""
    }
   },
   "outputs": [],
   "source": [
    "from delta.tables import DeltaTable"
   ]
  },
  {
   "cell_type": "code",
   "execution_count": 0,
   "metadata": {
    "application/vnd.databricks.v1+cell": {
     "cellMetadata": {
      "byteLimit": 2048000,
      "rowLimit": 10000
     },
     "inputWidgets": {},
     "nuid": "de23e43e-5464-49ac-9dc3-297c26eaf260",
     "showTitle": false,
     "tableResultSettingsMap": {},
     "title": ""
    }
   },
   "outputs": [],
   "source": [
    "if spark.catalog.tableExists(\"sales.salesschema.dim_dealer\"):\n",
    "    delta_table = DeltaTable.forName(spark, \"sales.salesschema.dim_dealer\")\n",
    "    delta_table.alias(\"maindeltatable\")\\\n",
    "        .merge(df_final.alias(\"finaldf\"),\"maindeltatable.dim_dealer_key=finaldf.dim_dealer_key\")\\\n",
    "        .whenNotMatchedInsertAll()\\\n",
    "            .whenMatchedUpdateAll()\\\n",
    "                .execute()\n",
    "else:\n",
    "    df_final.write.format(\"delta\")\\\n",
    "    .mode(\"overwrite\")\\\n",
    "    .option(\"path\",\"abfss://gold@project3sd.dfs.core.windows.net/dim_dealer\")\\\n",
    "    .saveAsTable(\"sales.salesschema.dim_dealer\")"
   ]
  },
  {
   "cell_type": "code",
   "execution_count": 0,
   "metadata": {
    "application/vnd.databricks.v1+cell": {
     "cellMetadata": {
      "byteLimit": 2048000,
      "rowLimit": 10000
     },
     "inputWidgets": {},
     "nuid": "53d716b4-daf5-4788-bd5d-37750abc3e8d",
     "showTitle": false,
     "tableResultSettingsMap": {},
     "title": ""
    }
   },
   "outputs": [
    {
     "output_type": "display_data",
     "data": {
      "text/html": [
       "<style scoped>\n",
       "  .table-result-container {\n",
       "    max-height: 300px;\n",
       "    overflow: auto;\n",
       "  }\n",
       "  table, th, td {\n",
       "    border: 1px solid black;\n",
       "    border-collapse: collapse;\n",
       "  }\n",
       "  th, td {\n",
       "    padding: 5px;\n",
       "  }\n",
       "  th {\n",
       "    text-align: left;\n",
       "  }\n",
       "</style><div class='table-result-container'><table class='table-result'><thead style='background-color: white'><tr><th>Model_Id</th><th>model_category</th><th>dim_model_key</th></tr></thead><tbody><tr><td>Hon-M220</td><td>Hon</td><td>1</td></tr><tr><td>Hon-M215</td><td>Hon</td><td>2</td></tr><tr><td>Vol-M110</td><td>Vol</td><td>3</td></tr><tr><td>Vol-M260</td><td>Vol</td><td>4</td></tr><tr><td>BMW-M2</td><td>BMW</td><td>5</td></tr><tr><td>Acu-M60</td><td>Acu</td><td>6</td></tr><tr><td>Bui-M31</td><td>Bui</td><td>7</td></tr><tr><td>Hyu-M157</td><td>Hyu</td><td>8</td></tr><tr><td>Ren-M130</td><td>Ren</td><td>9</td></tr><tr><td>Tat-M179</td><td>Tat</td><td>10</td></tr><tr><td>Lin-M29</td><td>Lin</td><td>11</td></tr><tr><td>Aud-M227</td><td>Aud</td><td>12</td></tr><tr><td>Aud-M234</td><td>Aud</td><td>13</td></tr><tr><td>Mar-M142</td><td>Mar</td><td>14</td></tr><tr><td>Kia-M212</td><td>Kia</td><td>15</td></tr><tr><td>Toy-M198</td><td>Toy</td><td>16</td></tr><tr><td>For-M20</td><td>For</td><td>17</td></tr><tr><td>Mah-M178</td><td>Mah</td><td>18</td></tr><tr><td>Hyu-M161</td><td>Hyu</td><td>19</td></tr><tr><td>Nis-M86</td><td>Nis</td><td>20</td></tr><tr><td>Hon-M217</td><td>Hon</td><td>21</td></tr><tr><td>BMW-M1</td><td>BMW</td><td>22</td></tr><tr><td>Vol-M256</td><td>Vol</td><td>23</td></tr><tr><td>Nis-M264</td><td>Nis</td><td>24</td></tr><tr><td>Hyu-M158</td><td>Hyu</td><td>25</td></tr><tr><td>Vol-M136</td><td>Vol</td><td>26</td></tr><tr><td>Toy-M100</td><td>Toy</td><td>27</td></tr><tr><td>Hyu-M74</td><td>Hyu</td><td>28</td></tr><tr><td>Aud-M240</td><td>Aud</td><td>29</td></tr><tr><td>Nis-M85</td><td>Nis</td><td>30</td></tr><tr><td>Nis-M269</td><td>Nis</td><td>31</td></tr><tr><td>BMW-M250</td><td>BMW</td><td>32</td></tr><tr><td>Toy-M203</td><td>Toy</td><td>33</td></tr><tr><td>Kia-M213</td><td>Kia</td><td>34</td></tr><tr><td>Che-M114</td><td>Che</td><td>35</td></tr><tr><td>Nis-M83</td><td>Nis</td><td>36</td></tr><tr><td>Fia-M118</td><td>Fia</td><td>37</td></tr><tr><td>For-M18</td><td>For</td><td>38</td></tr><tr><td>Toy-M104</td><td>Toy</td><td>39</td></tr><tr><td>Mer-M122</td><td>Mer</td><td>40</td></tr><tr><td>Cit-M116</td><td>Cit</td><td>41</td></tr><tr><td>Nis-M261</td><td>Nis</td><td>42</td></tr><tr><td>Mah-M173</td><td>Mah</td><td>43</td></tr><tr><td>Mer-M121</td><td>Mer</td><td>44</td></tr><tr><td>BMW-M243</td><td>BMW</td><td>45</td></tr><tr><td>Nis-M87</td><td>Nis</td><td>46</td></tr><tr><td>Toy-M206</td><td>Toy</td><td>47</td></tr><tr><td>Hon-M64</td><td>Hon</td><td>48</td></tr><tr><td>Vol-M258</td><td>Vol</td><td>49</td></tr><tr><td>For-M19</td><td>For</td><td>50</td></tr><tr><td>Hon-M219</td><td>Hon</td><td>51</td></tr><tr><td>GMC-M55</td><td>GMC</td><td>52</td></tr><tr><td>Inf-M79</td><td>Inf</td><td>53</td></tr><tr><td>Jee-M253</td><td>Jee</td><td>54</td></tr><tr><td>Hon-M70</td><td>Hon</td><td>55</td></tr><tr><td>GMC-M54</td><td>GMC</td><td>56</td></tr><tr><td>Hon-M71</td><td>Hon</td><td>57</td></tr><tr><td>Jee-M12</td><td>Jee</td><td>58</td></tr><tr><td>Mar-M137</td><td>Mar</td><td>59</td></tr><tr><td>Nis-M81</td><td>Nis</td><td>60</td></tr><tr><td>Hyu-M75</td><td>Hyu</td><td>61</td></tr><tr><td>Aud-M232</td><td>Aud</td><td>62</td></tr><tr><td>Acu-M61</td><td>Acu</td><td>63</td></tr><tr><td>For-M226</td><td>For</td><td>64</td></tr><tr><td>Cit-M115</td><td>Cit</td><td>65</td></tr><tr><td>BMW-M244</td><td>BMW</td><td>66</td></tr><tr><td>Hon-M216</td><td>Hon</td><td>67</td></tr><tr><td>Toy-M106</td><td>Toy</td><td>68</td></tr><tr><td>Ren-M132</td><td>Ren</td><td>69</td></tr><tr><td>Tat-M191</td><td>Tat</td><td>70</td></tr><tr><td>For-M21</td><td>For</td><td>71</td></tr><tr><td>Acu-M63</td><td>Acu</td><td>72</td></tr><tr><td>Acu-M59</td><td>Acu</td><td>73</td></tr><tr><td>Ram-M15</td><td>Ram</td><td>74</td></tr><tr><td>Nis-M88</td><td>Nis</td><td>75</td></tr><tr><td>BMW-M242</td><td>BMW</td><td>76</td></tr><tr><td>GMC-M52</td><td>GMC</td><td>77</td></tr><tr><td>Mar-M146</td><td>Mar</td><td>78</td></tr><tr><td>Aud-M239</td><td>Aud</td><td>79</td></tr><tr><td>Jee-M10</td><td>Jee</td><td>80</td></tr><tr><td>Aud-M233</td><td>Aud</td><td>81</td></tr><tr><td>Sko-M271</td><td>Sko</td><td>82</td></tr><tr><td>BMW-M245</td><td>BMW</td><td>83</td></tr><tr><td>Aud-M241</td><td>Aud</td><td>84</td></tr><tr><td>Vol-M259</td><td>Vol</td><td>85</td></tr><tr><td>Ram-M14</td><td>Ram</td><td>86</td></tr><tr><td>Nis-M262</td><td>Nis</td><td>87</td></tr><tr><td>Tat-M194</td><td>Tat</td><td>88</td></tr><tr><td>Aud-M238</td><td>Aud</td><td>89</td></tr><tr><td>MG-M251</td><td>MG</td><td>90</td></tr><tr><td>Jee-M254</td><td>Jee</td><td>91</td></tr><tr><td>Riv-M91</td><td>Riv</td><td>92</td></tr><tr><td>Che-M49</td><td>Che</td><td>93</td></tr><tr><td>Toy-M105</td><td>Toy</td><td>94</td></tr><tr><td>Hyu-M159</td><td>Hyu</td><td>95</td></tr><tr><td>Vol-M255</td><td>Vol</td><td>96</td></tr><tr><td>Tat-M188</td><td>Tat</td><td>97</td></tr><tr><td>BMW-M4</td><td>BMW</td><td>98</td></tr><tr><td>Toy-M200</td><td>Toy</td><td>99</td></tr><tr><td>Toy-M103</td><td>Toy</td><td>100</td></tr><tr><td>BMW-M247</td><td>BMW</td><td>101</td></tr><tr><td>Mah-M176</td><td>Mah</td><td>102</td></tr><tr><td>For-M221</td><td>For</td><td>103</td></tr><tr><td>Nis-M266</td><td>Nis</td><td>104</td></tr><tr><td>For-M17</td><td>For</td><td>105</td></tr><tr><td>Hyu-M154</td><td>Hyu</td><td>106</td></tr><tr><td>Mer-M7</td><td>Mer</td><td>107</td></tr><tr><td>Tes-M96</td><td>Tes</td><td>108</td></tr><tr><td>Lin-M30</td><td>Lin</td><td>109</td></tr><tr><td>Hon-M218</td><td>Hon</td><td>110</td></tr><tr><td>Vol-M108</td><td>Vol</td><td>111</td></tr><tr><td>Mah-M165</td><td>Mah</td><td>112</td></tr><tr><td>Hon-M66</td><td>Hon</td><td>113</td></tr><tr><td>Toy-M202</td><td>Toy</td><td>114</td></tr><tr><td>Cad-M36</td><td>Cad</td><td>115</td></tr><tr><td>Sub-M95</td><td>Sub</td><td>116</td></tr><tr><td>Tat-M181</td><td>Tat</td><td>117</td></tr><tr><td>Cad-M32</td><td>Cad</td><td>118</td></tr><tr><td>Hyu-M73</td><td>Hyu</td><td>119</td></tr><tr><td>Nis-M267</td><td>Nis</td><td>120</td></tr><tr><td>GMC-M53</td><td>GMC</td><td>121</td></tr><tr><td>Che-M40</td><td>Che</td><td>122</td></tr><tr><td>Che-M50</td><td>Che</td><td>123</td></tr><tr><td>Mar-M152</td><td>Mar</td><td>124</td></tr><tr><td>Cad-M38</td><td>Cad</td><td>125</td></tr><tr><td>Che-M41</td><td>Che</td><td>126</td></tr><tr><td>Vol-M257</td><td>Vol</td><td>127</td></tr><tr><td>For-M225</td><td>For</td><td>128</td></tr><tr><td>For-M223</td><td>For</td><td>129</td></tr><tr><td>Ren-M131</td><td>Ren</td><td>130</td></tr><tr><td>Che-M43</td><td>Che</td><td>131</td></tr><tr><td>Mah-M166</td><td>Mah</td><td>132</td></tr><tr><td>Mar-M151</td><td>Mar</td><td>133</td></tr><tr><td>Sub-M93</td><td>Sub</td><td>134</td></tr><tr><td>GMC-M57</td><td>GMC</td><td>135</td></tr><tr><td>Agr-M112</td><td>Agr</td><td>136</td></tr><tr><td>Mar-M138</td><td>Mar</td><td>137</td></tr><tr><td>Mar-M149</td><td>Mar</td><td>138</td></tr><tr><td>Che-M47</td><td>Che</td><td>139</td></tr><tr><td>Toy-M204</td><td>Toy</td><td>140</td></tr><tr><td>Cad-M39</td><td>Cad</td><td>141</td></tr><tr><td>Cad-M33</td><td>Cad</td><td>142</td></tr><tr><td>Hyu-M160</td><td>Hyu</td><td>143</td></tr><tr><td>Mah-M171</td><td>Mah</td><td>144</td></tr><tr><td>Tat-M184</td><td>Tat</td><td>145</td></tr><tr><td>Agr-M111</td><td>Agr</td><td>146</td></tr><tr><td>Lin-M27</td><td>Lin</td><td>147</td></tr><tr><td>Ren-M211</td><td>Ren</td><td>148</td></tr><tr><td>Nis-M265</td><td>Nis</td><td>149</td></tr><tr><td>Tat-M193</td><td>Tat</td><td>150</td></tr><tr><td>Che-M44</td><td>Che</td><td>151</td></tr><tr><td>Ren-M208</td><td>Ren</td><td>152</td></tr><tr><td>Aud-M231</td><td>Aud</td><td>153</td></tr><tr><td>MG-M252</td><td>MG</td><td>154</td></tr><tr><td>Tat-M182</td><td>Tat</td><td>155</td></tr><tr><td>GMC-M56</td><td>GMC</td><td>156</td></tr><tr><td>Mar-M141</td><td>Mar</td><td>157</td></tr><tr><td>Hyu-M164</td><td>Hyu</td><td>158</td></tr><tr><td>Peu-M125</td><td>Peu</td><td>159</td></tr><tr><td>Nis-M263</td><td>Nis</td><td>160</td></tr><tr><td>Hyu-M72</td><td>Hyu</td><td>161</td></tr><tr><td>Mit-M277</td><td>Mit</td><td>162</td></tr><tr><td>Toy-M101</td><td>Toy</td><td>163</td></tr><tr><td>For-M22</td><td>For</td><td>164</td></tr><tr><td>BMW-M248</td><td>BMW</td><td>165</td></tr><tr><td>Nis-M84</td><td>Nis</td><td>166</td></tr><tr><td>Mar-M150</td><td>Mar</td><td>167</td></tr><tr><td>Mar-M143</td><td>Mar</td><td>168</td></tr><tr><td>BMW-M246</td><td>BMW</td><td>169</td></tr><tr><td>Cad-M37</td><td>Cad</td><td>170</td></tr><tr><td>Nis-M268</td><td>Nis</td><td>171</td></tr><tr><td>Kia-M76</td><td>Kia</td><td>172</td></tr><tr><td>Aud-M228</td><td>Aud</td><td>173</td></tr><tr><td>Peu-M126</td><td>Peu</td><td>174</td></tr><tr><td>Tes-M97</td><td>Tes</td><td>175</td></tr><tr><td>Mah-M175</td><td>Mah</td><td>176</td></tr><tr><td>Hyu-M156</td><td>Hyu</td><td>177</td></tr><tr><td>Lin-M28</td><td>Lin</td><td>178</td></tr><tr><td>Toy-M107</td><td>Toy</td><td>179</td></tr><tr><td>Sub-M92</td><td>Sub</td><td>180</td></tr><tr><td>Che-M48</td><td>Che</td><td>181</td></tr><tr><td>For-M26</td><td>For</td><td>182</td></tr><tr><td>Vol-M135</td><td>Vol</td><td>183</td></tr><tr><td>Tat-M187</td><td>Tat</td><td>184</td></tr><tr><td>Hon-M120</td><td>Hon</td><td>185</td></tr><tr><td>Hyu-M163</td><td>Hyu</td><td>186</td></tr><tr><td>Mah-M177</td><td>Mah</td><td>187</td></tr><tr><td>Tat-M192</td><td>Tat</td><td>188</td></tr><tr><td>Kia-M77</td><td>Kia</td><td>189</td></tr><tr><td>Toy-M196</td><td>Toy</td><td>190</td></tr><tr><td>GMC-M58</td><td>GMC</td><td>191</td></tr><tr><td>Mah-M167</td><td>Mah</td><td>192</td></tr><tr><td>BMW-M5</td><td>BMW</td><td>193</td></tr><tr><td>BMW-M249</td><td>BMW</td><td>194</td></tr><tr><td>Mah-M172</td><td>Mah</td><td>195</td></tr><tr><td>Sub-M94</td><td>Sub</td><td>196</td></tr><tr><td>Tat-M180</td><td>Tat</td><td>197</td></tr><tr><td>For-M25</td><td>For</td><td>198</td></tr><tr><td>Che-M42</td><td>Che</td><td>199</td></tr><tr><td>Mer-M123</td><td>Mer</td><td>200</td></tr><tr><td>Peu-M124</td><td>Peu</td><td>201</td></tr><tr><td>Dod-M9</td><td>Dod</td><td>202</td></tr><tr><td>Mar-M140</td><td>Mar</td><td>203</td></tr><tr><td>For-M119</td><td>For</td><td>204</td></tr><tr><td>Tes-M98</td><td>Tes</td><td>205</td></tr><tr><td>Toy-M205</td><td>Toy</td><td>206</td></tr><tr><td>Ren-M129</td><td>Ren</td><td>207</td></tr><tr><td>Aud-M237</td><td>Aud</td><td>208</td></tr><tr><td>Toy-M133</td><td>Toy</td><td>209</td></tr><tr><td>Nis-M82</td><td>Nis</td><td>210</td></tr><tr><td>Tat-M183</td><td>Tat</td><td>211</td></tr><tr><td>Che-M51</td><td>Che</td><td>212</td></tr><tr><td>Jee-M11</td><td>Jee</td><td>213</td></tr><tr><td>Ren-M128</td><td>Ren</td><td>214</td></tr><tr><td>Cad-M34</td><td>Cad</td><td>215</td></tr><tr><td>Che-M46</td><td>Che</td><td>216</td></tr><tr><td>Ren-M127</td><td>Ren</td><td>217</td></tr><tr><td>Agr-M113</td><td>Agr</td><td>218</td></tr><tr><td>Toy-M199</td><td>Toy</td><td>219</td></tr><tr><td>Mar-M145</td><td>Mar</td><td>220</td></tr><tr><td>Sko-M273</td><td>Sko</td><td>221</td></tr><tr><td>Nis-M270</td><td>Nis</td><td>222</td></tr><tr><td>Aud-M235</td><td>Aud</td><td>223</td></tr><tr><td>Cad-M35</td><td>Cad</td><td>224</td></tr><tr><td>Mer-M8</td><td>Mer</td><td>225</td></tr><tr><td>For-M23</td><td>For</td><td>226</td></tr><tr><td>Aud-M236</td><td>Aud</td><td>227</td></tr><tr><td>Lex-M99</td><td>Lex</td><td>228</td></tr><tr><td>Ren-M209</td><td>Ren</td><td>229</td></tr><tr><td>Kia-M78</td><td>Kia</td><td>230</td></tr><tr><td>Mah-M169</td><td>Mah</td><td>231</td></tr><tr><td>BMW-M3</td><td>BMW</td><td>232</td></tr><tr><td>For-M16</td><td>For</td><td>233</td></tr><tr><td>Nis-M80</td><td>Nis</td><td>234</td></tr><tr><td>Toy-M201</td><td>Toy</td><td>235</td></tr><tr><td>Che-M45</td><td>Che</td><td>236</td></tr><tr><td>Mit-M275</td><td>Mit</td><td>237</td></tr><tr><td>Toy-M197</td><td>Toy</td><td>238</td></tr><tr><td>Tat-M190</td><td>Tat</td><td>239</td></tr><tr><td>Hon-M65</td><td>Hon</td><td>240</td></tr><tr><td>Toy-M102</td><td>Toy</td><td>241</td></tr><tr><td>Hon-M67</td><td>Hon</td><td>242</td></tr><tr><td>Sko-M274</td><td>Sko</td><td>243</td></tr><tr><td>Mah-M168</td><td>Mah</td><td>244</td></tr><tr><td>Mer-M6</td><td>Mer</td><td>245</td></tr><tr><td>Ren-M207</td><td>Ren</td><td>246</td></tr><tr><td>Hon-M68</td><td>Hon</td><td>247</td></tr><tr><td>Hon-M69</td><td>Hon</td><td>248</td></tr><tr><td>Kia-M214</td><td>Kia</td><td>249</td></tr><tr><td>Mar-M144</td><td>Mar</td><td>250</td></tr><tr><td>Sko-M272</td><td>Sko</td><td>251</td></tr><tr><td>Mit-M276</td><td>Mit</td><td>252</td></tr><tr><td>Mar-M148</td><td>Mar</td><td>253</td></tr><tr><td>For-M24</td><td>For</td><td>254</td></tr><tr><td>Mah-M170</td><td>Mah</td><td>255</td></tr><tr><td>Acu-M62</td><td>Acu</td><td>256</td></tr><tr><td>Hyu-M162</td><td>Hyu</td><td>257</td></tr><tr><td>Hyu-M155</td><td>Hyu</td><td>258</td></tr><tr><td>Ren-M210</td><td>Ren</td><td>259</td></tr><tr><td>Aud-M229</td><td>Aud</td><td>260</td></tr><tr><td>Tat-M185</td><td>Tat</td><td>261</td></tr><tr><td>Vol-M109</td><td>Vol</td><td>262</td></tr><tr><td>Mar-M147</td><td>Mar</td><td>263</td></tr><tr><td>Hyu-M153</td><td>Hyu</td><td>264</td></tr><tr><td>For-M224</td><td>For</td><td>265</td></tr><tr><td>Nis-M89</td><td>Nis</td><td>266</td></tr><tr><td>Riv-M90</td><td>Riv</td><td>267</td></tr><tr><td>Mar-M139</td><td>Mar</td><td>268</td></tr><tr><td>Jee-M13</td><td>Jee</td><td>269</td></tr><tr><td>Tat-M189</td><td>Tat</td><td>270</td></tr><tr><td>Toy-M134</td><td>Toy</td><td>271</td></tr><tr><td>Mah-M174</td><td>Mah</td><td>272</td></tr><tr><td>Aud-M230</td><td>Aud</td><td>273</td></tr><tr><td>Toy-M195</td><td>Toy</td><td>274</td></tr><tr><td>Fia-M117</td><td>Fia</td><td>275</td></tr><tr><td>For-M222</td><td>For</td><td>276</td></tr><tr><td>Tat-M186</td><td>Tat</td><td>277</td></tr></tbody></table></div>"
      ]
     },
     "metadata": {
      "application/vnd.databricks.v1+output": {
       "addedWidgets": {},
       "aggData": [],
       "aggError": "",
       "aggOverflow": false,
       "aggSchema": [],
       "aggSeriesLimitReached": false,
       "aggType": "",
       "arguments": {},
       "columnCustomDisplayInfos": {},
       "data": [
        [
         "Hon-M220",
         "Hon",
         1
        ],
        [
         "Hon-M215",
         "Hon",
         2
        ],
        [
         "Vol-M110",
         "Vol",
         3
        ],
        [
         "Vol-M260",
         "Vol",
         4
        ],
        [
         "BMW-M2",
         "BMW",
         5
        ],
        [
         "Acu-M60",
         "Acu",
         6
        ],
        [
         "Bui-M31",
         "Bui",
         7
        ],
        [
         "Hyu-M157",
         "Hyu",
         8
        ],
        [
         "Ren-M130",
         "Ren",
         9
        ],
        [
         "Tat-M179",
         "Tat",
         10
        ],
        [
         "Lin-M29",
         "Lin",
         11
        ],
        [
         "Aud-M227",
         "Aud",
         12
        ],
        [
         "Aud-M234",
         "Aud",
         13
        ],
        [
         "Mar-M142",
         "Mar",
         14
        ],
        [
         "Kia-M212",
         "Kia",
         15
        ],
        [
         "Toy-M198",
         "Toy",
         16
        ],
        [
         "For-M20",
         "For",
         17
        ],
        [
         "Mah-M178",
         "Mah",
         18
        ],
        [
         "Hyu-M161",
         "Hyu",
         19
        ],
        [
         "Nis-M86",
         "Nis",
         20
        ],
        [
         "Hon-M217",
         "Hon",
         21
        ],
        [
         "BMW-M1",
         "BMW",
         22
        ],
        [
         "Vol-M256",
         "Vol",
         23
        ],
        [
         "Nis-M264",
         "Nis",
         24
        ],
        [
         "Hyu-M158",
         "Hyu",
         25
        ],
        [
         "Vol-M136",
         "Vol",
         26
        ],
        [
         "Toy-M100",
         "Toy",
         27
        ],
        [
         "Hyu-M74",
         "Hyu",
         28
        ],
        [
         "Aud-M240",
         "Aud",
         29
        ],
        [
         "Nis-M85",
         "Nis",
         30
        ],
        [
         "Nis-M269",
         "Nis",
         31
        ],
        [
         "BMW-M250",
         "BMW",
         32
        ],
        [
         "Toy-M203",
         "Toy",
         33
        ],
        [
         "Kia-M213",
         "Kia",
         34
        ],
        [
         "Che-M114",
         "Che",
         35
        ],
        [
         "Nis-M83",
         "Nis",
         36
        ],
        [
         "Fia-M118",
         "Fia",
         37
        ],
        [
         "For-M18",
         "For",
         38
        ],
        [
         "Toy-M104",
         "Toy",
         39
        ],
        [
         "Mer-M122",
         "Mer",
         40
        ],
        [
         "Cit-M116",
         "Cit",
         41
        ],
        [
         "Nis-M261",
         "Nis",
         42
        ],
        [
         "Mah-M173",
         "Mah",
         43
        ],
        [
         "Mer-M121",
         "Mer",
         44
        ],
        [
         "BMW-M243",
         "BMW",
         45
        ],
        [
         "Nis-M87",
         "Nis",
         46
        ],
        [
         "Toy-M206",
         "Toy",
         47
        ],
        [
         "Hon-M64",
         "Hon",
         48
        ],
        [
         "Vol-M258",
         "Vol",
         49
        ],
        [
         "For-M19",
         "For",
         50
        ],
        [
         "Hon-M219",
         "Hon",
         51
        ],
        [
         "GMC-M55",
         "GMC",
         52
        ],
        [
         "Inf-M79",
         "Inf",
         53
        ],
        [
         "Jee-M253",
         "Jee",
         54
        ],
        [
         "Hon-M70",
         "Hon",
         55
        ],
        [
         "GMC-M54",
         "GMC",
         56
        ],
        [
         "Hon-M71",
         "Hon",
         57
        ],
        [
         "Jee-M12",
         "Jee",
         58
        ],
        [
         "Mar-M137",
         "Mar",
         59
        ],
        [
         "Nis-M81",
         "Nis",
         60
        ],
        [
         "Hyu-M75",
         "Hyu",
         61
        ],
        [
         "Aud-M232",
         "Aud",
         62
        ],
        [
         "Acu-M61",
         "Acu",
         63
        ],
        [
         "For-M226",
         "For",
         64
        ],
        [
         "Cit-M115",
         "Cit",
         65
        ],
        [
         "BMW-M244",
         "BMW",
         66
        ],
        [
         "Hon-M216",
         "Hon",
         67
        ],
        [
         "Toy-M106",
         "Toy",
         68
        ],
        [
         "Ren-M132",
         "Ren",
         69
        ],
        [
         "Tat-M191",
         "Tat",
         70
        ],
        [
         "For-M21",
         "For",
         71
        ],
        [
         "Acu-M63",
         "Acu",
         72
        ],
        [
         "Acu-M59",
         "Acu",
         73
        ],
        [
         "Ram-M15",
         "Ram",
         74
        ],
        [
         "Nis-M88",
         "Nis",
         75
        ],
        [
         "BMW-M242",
         "BMW",
         76
        ],
        [
         "GMC-M52",
         "GMC",
         77
        ],
        [
         "Mar-M146",
         "Mar",
         78
        ],
        [
         "Aud-M239",
         "Aud",
         79
        ],
        [
         "Jee-M10",
         "Jee",
         80
        ],
        [
         "Aud-M233",
         "Aud",
         81
        ],
        [
         "Sko-M271",
         "Sko",
         82
        ],
        [
         "BMW-M245",
         "BMW",
         83
        ],
        [
         "Aud-M241",
         "Aud",
         84
        ],
        [
         "Vol-M259",
         "Vol",
         85
        ],
        [
         "Ram-M14",
         "Ram",
         86
        ],
        [
         "Nis-M262",
         "Nis",
         87
        ],
        [
         "Tat-M194",
         "Tat",
         88
        ],
        [
         "Aud-M238",
         "Aud",
         89
        ],
        [
         "MG-M251",
         "MG",
         90
        ],
        [
         "Jee-M254",
         "Jee",
         91
        ],
        [
         "Riv-M91",
         "Riv",
         92
        ],
        [
         "Che-M49",
         "Che",
         93
        ],
        [
         "Toy-M105",
         "Toy",
         94
        ],
        [
         "Hyu-M159",
         "Hyu",
         95
        ],
        [
         "Vol-M255",
         "Vol",
         96
        ],
        [
         "Tat-M188",
         "Tat",
         97
        ],
        [
         "BMW-M4",
         "BMW",
         98
        ],
        [
         "Toy-M200",
         "Toy",
         99
        ],
        [
         "Toy-M103",
         "Toy",
         100
        ],
        [
         "BMW-M247",
         "BMW",
         101
        ],
        [
         "Mah-M176",
         "Mah",
         102
        ],
        [
         "For-M221",
         "For",
         103
        ],
        [
         "Nis-M266",
         "Nis",
         104
        ],
        [
         "For-M17",
         "For",
         105
        ],
        [
         "Hyu-M154",
         "Hyu",
         106
        ],
        [
         "Mer-M7",
         "Mer",
         107
        ],
        [
         "Tes-M96",
         "Tes",
         108
        ],
        [
         "Lin-M30",
         "Lin",
         109
        ],
        [
         "Hon-M218",
         "Hon",
         110
        ],
        [
         "Vol-M108",
         "Vol",
         111
        ],
        [
         "Mah-M165",
         "Mah",
         112
        ],
        [
         "Hon-M66",
         "Hon",
         113
        ],
        [
         "Toy-M202",
         "Toy",
         114
        ],
        [
         "Cad-M36",
         "Cad",
         115
        ],
        [
         "Sub-M95",
         "Sub",
         116
        ],
        [
         "Tat-M181",
         "Tat",
         117
        ],
        [
         "Cad-M32",
         "Cad",
         118
        ],
        [
         "Hyu-M73",
         "Hyu",
         119
        ],
        [
         "Nis-M267",
         "Nis",
         120
        ],
        [
         "GMC-M53",
         "GMC",
         121
        ],
        [
         "Che-M40",
         "Che",
         122
        ],
        [
         "Che-M50",
         "Che",
         123
        ],
        [
         "Mar-M152",
         "Mar",
         124
        ],
        [
         "Cad-M38",
         "Cad",
         125
        ],
        [
         "Che-M41",
         "Che",
         126
        ],
        [
         "Vol-M257",
         "Vol",
         127
        ],
        [
         "For-M225",
         "For",
         128
        ],
        [
         "For-M223",
         "For",
         129
        ],
        [
         "Ren-M131",
         "Ren",
         130
        ],
        [
         "Che-M43",
         "Che",
         131
        ],
        [
         "Mah-M166",
         "Mah",
         132
        ],
        [
         "Mar-M151",
         "Mar",
         133
        ],
        [
         "Sub-M93",
         "Sub",
         134
        ],
        [
         "GMC-M57",
         "GMC",
         135
        ],
        [
         "Agr-M112",
         "Agr",
         136
        ],
        [
         "Mar-M138",
         "Mar",
         137
        ],
        [
         "Mar-M149",
         "Mar",
         138
        ],
        [
         "Che-M47",
         "Che",
         139
        ],
        [
         "Toy-M204",
         "Toy",
         140
        ],
        [
         "Cad-M39",
         "Cad",
         141
        ],
        [
         "Cad-M33",
         "Cad",
         142
        ],
        [
         "Hyu-M160",
         "Hyu",
         143
        ],
        [
         "Mah-M171",
         "Mah",
         144
        ],
        [
         "Tat-M184",
         "Tat",
         145
        ],
        [
         "Agr-M111",
         "Agr",
         146
        ],
        [
         "Lin-M27",
         "Lin",
         147
        ],
        [
         "Ren-M211",
         "Ren",
         148
        ],
        [
         "Nis-M265",
         "Nis",
         149
        ],
        [
         "Tat-M193",
         "Tat",
         150
        ],
        [
         "Che-M44",
         "Che",
         151
        ],
        [
         "Ren-M208",
         "Ren",
         152
        ],
        [
         "Aud-M231",
         "Aud",
         153
        ],
        [
         "MG-M252",
         "MG",
         154
        ],
        [
         "Tat-M182",
         "Tat",
         155
        ],
        [
         "GMC-M56",
         "GMC",
         156
        ],
        [
         "Mar-M141",
         "Mar",
         157
        ],
        [
         "Hyu-M164",
         "Hyu",
         158
        ],
        [
         "Peu-M125",
         "Peu",
         159
        ],
        [
         "Nis-M263",
         "Nis",
         160
        ],
        [
         "Hyu-M72",
         "Hyu",
         161
        ],
        [
         "Mit-M277",
         "Mit",
         162
        ],
        [
         "Toy-M101",
         "Toy",
         163
        ],
        [
         "For-M22",
         "For",
         164
        ],
        [
         "BMW-M248",
         "BMW",
         165
        ],
        [
         "Nis-M84",
         "Nis",
         166
        ],
        [
         "Mar-M150",
         "Mar",
         167
        ],
        [
         "Mar-M143",
         "Mar",
         168
        ],
        [
         "BMW-M246",
         "BMW",
         169
        ],
        [
         "Cad-M37",
         "Cad",
         170
        ],
        [
         "Nis-M268",
         "Nis",
         171
        ],
        [
         "Kia-M76",
         "Kia",
         172
        ],
        [
         "Aud-M228",
         "Aud",
         173
        ],
        [
         "Peu-M126",
         "Peu",
         174
        ],
        [
         "Tes-M97",
         "Tes",
         175
        ],
        [
         "Mah-M175",
         "Mah",
         176
        ],
        [
         "Hyu-M156",
         "Hyu",
         177
        ],
        [
         "Lin-M28",
         "Lin",
         178
        ],
        [
         "Toy-M107",
         "Toy",
         179
        ],
        [
         "Sub-M92",
         "Sub",
         180
        ],
        [
         "Che-M48",
         "Che",
         181
        ],
        [
         "For-M26",
         "For",
         182
        ],
        [
         "Vol-M135",
         "Vol",
         183
        ],
        [
         "Tat-M187",
         "Tat",
         184
        ],
        [
         "Hon-M120",
         "Hon",
         185
        ],
        [
         "Hyu-M163",
         "Hyu",
         186
        ],
        [
         "Mah-M177",
         "Mah",
         187
        ],
        [
         "Tat-M192",
         "Tat",
         188
        ],
        [
         "Kia-M77",
         "Kia",
         189
        ],
        [
         "Toy-M196",
         "Toy",
         190
        ],
        [
         "GMC-M58",
         "GMC",
         191
        ],
        [
         "Mah-M167",
         "Mah",
         192
        ],
        [
         "BMW-M5",
         "BMW",
         193
        ],
        [
         "BMW-M249",
         "BMW",
         194
        ],
        [
         "Mah-M172",
         "Mah",
         195
        ],
        [
         "Sub-M94",
         "Sub",
         196
        ],
        [
         "Tat-M180",
         "Tat",
         197
        ],
        [
         "For-M25",
         "For",
         198
        ],
        [
         "Che-M42",
         "Che",
         199
        ],
        [
         "Mer-M123",
         "Mer",
         200
        ],
        [
         "Peu-M124",
         "Peu",
         201
        ],
        [
         "Dod-M9",
         "Dod",
         202
        ],
        [
         "Mar-M140",
         "Mar",
         203
        ],
        [
         "For-M119",
         "For",
         204
        ],
        [
         "Tes-M98",
         "Tes",
         205
        ],
        [
         "Toy-M205",
         "Toy",
         206
        ],
        [
         "Ren-M129",
         "Ren",
         207
        ],
        [
         "Aud-M237",
         "Aud",
         208
        ],
        [
         "Toy-M133",
         "Toy",
         209
        ],
        [
         "Nis-M82",
         "Nis",
         210
        ],
        [
         "Tat-M183",
         "Tat",
         211
        ],
        [
         "Che-M51",
         "Che",
         212
        ],
        [
         "Jee-M11",
         "Jee",
         213
        ],
        [
         "Ren-M128",
         "Ren",
         214
        ],
        [
         "Cad-M34",
         "Cad",
         215
        ],
        [
         "Che-M46",
         "Che",
         216
        ],
        [
         "Ren-M127",
         "Ren",
         217
        ],
        [
         "Agr-M113",
         "Agr",
         218
        ],
        [
         "Toy-M199",
         "Toy",
         219
        ],
        [
         "Mar-M145",
         "Mar",
         220
        ],
        [
         "Sko-M273",
         "Sko",
         221
        ],
        [
         "Nis-M270",
         "Nis",
         222
        ],
        [
         "Aud-M235",
         "Aud",
         223
        ],
        [
         "Cad-M35",
         "Cad",
         224
        ],
        [
         "Mer-M8",
         "Mer",
         225
        ],
        [
         "For-M23",
         "For",
         226
        ],
        [
         "Aud-M236",
         "Aud",
         227
        ],
        [
         "Lex-M99",
         "Lex",
         228
        ],
        [
         "Ren-M209",
         "Ren",
         229
        ],
        [
         "Kia-M78",
         "Kia",
         230
        ],
        [
         "Mah-M169",
         "Mah",
         231
        ],
        [
         "BMW-M3",
         "BMW",
         232
        ],
        [
         "For-M16",
         "For",
         233
        ],
        [
         "Nis-M80",
         "Nis",
         234
        ],
        [
         "Toy-M201",
         "Toy",
         235
        ],
        [
         "Che-M45",
         "Che",
         236
        ],
        [
         "Mit-M275",
         "Mit",
         237
        ],
        [
         "Toy-M197",
         "Toy",
         238
        ],
        [
         "Tat-M190",
         "Tat",
         239
        ],
        [
         "Hon-M65",
         "Hon",
         240
        ],
        [
         "Toy-M102",
         "Toy",
         241
        ],
        [
         "Hon-M67",
         "Hon",
         242
        ],
        [
         "Sko-M274",
         "Sko",
         243
        ],
        [
         "Mah-M168",
         "Mah",
         244
        ],
        [
         "Mer-M6",
         "Mer",
         245
        ],
        [
         "Ren-M207",
         "Ren",
         246
        ],
        [
         "Hon-M68",
         "Hon",
         247
        ],
        [
         "Hon-M69",
         "Hon",
         248
        ],
        [
         "Kia-M214",
         "Kia",
         249
        ],
        [
         "Mar-M144",
         "Mar",
         250
        ],
        [
         "Sko-M272",
         "Sko",
         251
        ],
        [
         "Mit-M276",
         "Mit",
         252
        ],
        [
         "Mar-M148",
         "Mar",
         253
        ],
        [
         "For-M24",
         "For",
         254
        ],
        [
         "Mah-M170",
         "Mah",
         255
        ],
        [
         "Acu-M62",
         "Acu",
         256
        ],
        [
         "Hyu-M162",
         "Hyu",
         257
        ],
        [
         "Hyu-M155",
         "Hyu",
         258
        ],
        [
         "Ren-M210",
         "Ren",
         259
        ],
        [
         "Aud-M229",
         "Aud",
         260
        ],
        [
         "Tat-M185",
         "Tat",
         261
        ],
        [
         "Vol-M109",
         "Vol",
         262
        ],
        [
         "Mar-M147",
         "Mar",
         263
        ],
        [
         "Hyu-M153",
         "Hyu",
         264
        ],
        [
         "For-M224",
         "For",
         265
        ],
        [
         "Nis-M89",
         "Nis",
         266
        ],
        [
         "Riv-M90",
         "Riv",
         267
        ],
        [
         "Mar-M139",
         "Mar",
         268
        ],
        [
         "Jee-M13",
         "Jee",
         269
        ],
        [
         "Tat-M189",
         "Tat",
         270
        ],
        [
         "Toy-M134",
         "Toy",
         271
        ],
        [
         "Mah-M174",
         "Mah",
         272
        ],
        [
         "Aud-M230",
         "Aud",
         273
        ],
        [
         "Toy-M195",
         "Toy",
         274
        ],
        [
         "Fia-M117",
         "Fia",
         275
        ],
        [
         "For-M222",
         "For",
         276
        ],
        [
         "Tat-M186",
         "Tat",
         277
        ]
       ],
       "datasetInfos": [],
       "dbfsResultPath": null,
       "isJsonSchema": true,
       "metadata": {},
       "overflow": false,
       "plotOptions": {
        "customPlotOptions": {},
        "displayType": "table",
        "pivotAggregation": null,
        "pivotColumns": null,
        "xColumns": null,
        "yColumns": null
       },
       "removedWidgets": [],
       "schema": [
        {
         "metadata": "{}",
         "name": "Model_Id",
         "type": "\"string\""
        },
        {
         "metadata": "{}",
         "name": "model_category",
         "type": "\"string\""
        },
        {
         "metadata": "{}",
         "name": "dim_model_key",
         "type": "\"long\""
        }
       ],
       "type": "table"
      }
     },
     "output_type": "display_data"
    }
   ],
   "source": [
    "spark.sql(\"select * from sales.salesschema.dim_model\").display()\n"
   ]
  },
  {
   "cell_type": "code",
   "execution_count": 0,
   "metadata": {
    "application/vnd.databricks.v1+cell": {
     "cellMetadata": {},
     "inputWidgets": {},
     "nuid": "484db044-abf5-4122-ad0d-3226116d9c61",
     "showTitle": false,
     "tableResultSettingsMap": {},
     "title": ""
    }
   },
   "outputs": [],
   "source": []
  }
 ],
 "metadata": {
  "application/vnd.databricks.v1+notebook": {
   "computePreferences": null,
   "dashboards": [],
   "environmentMetadata": {
    "base_environment": "",
    "environment_version": "2"
   },
   "inputWidgetPreferences": null,
   "language": "python",
   "notebookMetadata": {
    "mostRecentlyExecutedCommandWithImplicitDF": {
     "commandId": -1,
     "dataframes": [
      "_sqldf"
     ]
    },
    "pythonIndentUnit": 4
   },
   "notebookName": "Dimension_3_dealer",
   "widgets": {
    "incremental_flag": {
     "currentValue": "0",
     "nuid": "b6495375-2e34-4e55-b24b-c024101f2009",
     "typedWidgetInfo": {
      "autoCreated": false,
      "defaultValue": "0",
      "label": null,
      "name": "incremental_flag",
      "options": {
       "widgetDisplayType": "Text",
       "validationRegex": null
      },
      "parameterDataType": "String"
     },
     "widgetInfo": {
      "widgetType": "text",
      "defaultValue": "0",
      "label": null,
      "name": "incremental_flag",
      "options": {
       "widgetType": "text",
       "autoCreated": null,
       "validationRegex": null
      }
     }
    }
   }
  },
  "language_info": {
   "name": "python"
  }
 },
 "nbformat": 4,
 "nbformat_minor": 0
}